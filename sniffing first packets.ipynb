{
 "cells": [
  {
   "cell_type": "markdown",
   "id": "d2fa38ca",
   "metadata": {
    "toc": true
   },
   "source": [
    "<h1>Table of Contents<span class=\"tocSkip\"></span></h1>\n",
    "<div class=\"toc\"><ul class=\"toc-item\"><li><span><a href=\"#Paquet-interpretation\" data-toc-modified-id=\"Paquet-interpretation-1\"><span class=\"toc-item-num\">1&nbsp;&nbsp;</span>Paquet interpretation</a></span><ul class=\"toc-item\"><li><span><a href=\"#Decompose-the-paquet\" data-toc-modified-id=\"Decompose-the-paquet-1.1\"><span class=\"toc-item-num\">1.1&nbsp;&nbsp;</span>Decompose the paquet</a></span></li><li><span><a href=\"#Mapping-the-Ids\" data-toc-modified-id=\"Mapping-the-Ids-1.2\"><span class=\"toc-item-num\">1.2&nbsp;&nbsp;</span>Mapping the Ids</a></span><ul class=\"toc-item\"><li><span><a href=\"#Gotta-need-to-decompile-the-source-code-first\" data-toc-modified-id=\"Gotta-need-to-decompile-the-source-code-first-1.2.1\"><span class=\"toc-item-num\">1.2.1&nbsp;&nbsp;</span>Gotta need to decompile the source code first</a></span></li><li><span><a href=\"#Then-extract-the-mapping-of-the-Ids\" data-toc-modified-id=\"Then-extract-the-mapping-of-the-Ids-1.2.2\"><span class=\"toc-item-num\">1.2.2&nbsp;&nbsp;</span>Then extract the mapping of the Ids</a></span></li></ul></li></ul></li><li><span><a href=\"#Deserialize\" data-toc-modified-id=\"Deserialize-2\"><span class=\"toc-item-num\">2&nbsp;&nbsp;</span>Deserialize</a></span></li></ul></div>"
   ]
  },
  {
   "cell_type": "code",
   "execution_count": 1,
   "id": "493a93bd",
   "metadata": {},
   "outputs": [],
   "source": [
    "import pyshark\n",
    "import nest_asyncio\n",
    "nest_asyncio.apply()"
   ]
  },
  {
   "cell_type": "code",
   "execution_count": 2,
   "id": "426a5833",
   "metadata": {
    "collapsed": true
   },
   "outputs": [
    {
     "ename": "KeyboardInterrupt",
     "evalue": "",
     "output_type": "error",
     "traceback": [
      "\u001b[0;31m---------------------------------------------------------------------------\u001b[0m",
      "\u001b[0;31mKeyboardInterrupt\u001b[0m                         Traceback (most recent call last)",
      "Cell \u001b[0;32mIn [2], line 1\u001b[0m\n\u001b[0;32m----> 1\u001b[0m capture \u001b[38;5;241m=\u001b[39m \u001b[43mpyshark\u001b[49m\u001b[38;5;241;43m.\u001b[39;49m\u001b[43mLiveCapture\u001b[49m\u001b[43m(\u001b[49m\u001b[43minterface\u001b[49m\u001b[38;5;241;43m=\u001b[39;49m\u001b[38;5;124;43m'\u001b[39;49m\u001b[38;5;124;43men0\u001b[39;49m\u001b[38;5;124;43m'\u001b[39;49m\u001b[43m,\u001b[49m\u001b[43m \u001b[49m\u001b[43mbpf_filter\u001b[49m\u001b[38;5;241;43m=\u001b[39;49m\u001b[38;5;124;43m'\u001b[39;49m\u001b[38;5;124;43mtcp port 5555 and len > 66\u001b[39;49m\u001b[38;5;124;43m'\u001b[39;49m\u001b[43m)\u001b[49m\n",
      "File \u001b[0;32m~/.pyenv/versions/3.8.12/envs/kamarketplace/lib/python3.8/site-packages/pyshark/capture/live_capture.py:58\u001b[0m, in \u001b[0;36mLiveCapture.__init__\u001b[0;34m(self, interface, bpf_filter, display_filter, only_summaries, decryption_key, encryption_type, output_file, decode_as, disable_protocol, tshark_path, override_prefs, capture_filter, monitor_mode, use_json, use_ek, include_raw, eventloop, custom_parameters, debug)\u001b[0m\n\u001b[1;32m     55\u001b[0m \u001b[38;5;28mself\u001b[39m\u001b[38;5;241m.\u001b[39mbpf_filter \u001b[38;5;241m=\u001b[39m bpf_filter\n\u001b[1;32m     56\u001b[0m \u001b[38;5;28mself\u001b[39m\u001b[38;5;241m.\u001b[39mmonitor_mode \u001b[38;5;241m=\u001b[39m monitor_mode\n\u001b[0;32m---> 58\u001b[0m all_interfaces \u001b[38;5;241m=\u001b[39m \u001b[43mget_tshark_interfaces\u001b[49m\u001b[43m(\u001b[49m\u001b[43mtshark_path\u001b[49m\u001b[43m)\u001b[49m\n\u001b[1;32m     59\u001b[0m \u001b[38;5;28;01mif\u001b[39;00m interface \u001b[38;5;129;01mis\u001b[39;00m \u001b[38;5;28;01mNone\u001b[39;00m:\n\u001b[1;32m     60\u001b[0m     \u001b[38;5;28mself\u001b[39m\u001b[38;5;241m.\u001b[39minterfaces \u001b[38;5;241m=\u001b[39m all_interfaces\n",
      "File \u001b[0;32m~/.pyenv/versions/3.8.12/envs/kamarketplace/lib/python3.8/site-packages/pyshark/tshark/tshark.py:114\u001b[0m, in \u001b[0;36mget_tshark_interfaces\u001b[0;34m(tshark_path)\u001b[0m\n\u001b[1;32m    112\u001b[0m parameters \u001b[38;5;241m=\u001b[39m [get_process_path(tshark_path), \u001b[38;5;124m\"\u001b[39m\u001b[38;5;124m-D\u001b[39m\u001b[38;5;124m\"\u001b[39m]\n\u001b[1;32m    113\u001b[0m \u001b[38;5;28;01mwith\u001b[39;00m \u001b[38;5;28mopen\u001b[39m(os\u001b[38;5;241m.\u001b[39mdevnull, \u001b[38;5;124m\"\u001b[39m\u001b[38;5;124mw\u001b[39m\u001b[38;5;124m\"\u001b[39m) \u001b[38;5;28;01mas\u001b[39;00m null:\n\u001b[0;32m--> 114\u001b[0m     tshark_interfaces \u001b[38;5;241m=\u001b[39m \u001b[43msubprocess\u001b[49m\u001b[38;5;241;43m.\u001b[39;49m\u001b[43mcheck_output\u001b[49m\u001b[43m(\u001b[49m\u001b[43mparameters\u001b[49m\u001b[43m,\u001b[49m\u001b[43m \u001b[49m\u001b[43mstderr\u001b[49m\u001b[38;5;241;43m=\u001b[39;49m\u001b[43mnull\u001b[49m\u001b[43m)\u001b[49m\u001b[38;5;241m.\u001b[39mdecode(\u001b[38;5;124m\"\u001b[39m\u001b[38;5;124mutf-8\u001b[39m\u001b[38;5;124m\"\u001b[39m)\n\u001b[1;32m    116\u001b[0m \u001b[38;5;28;01mreturn\u001b[39;00m [line\u001b[38;5;241m.\u001b[39msplit(\u001b[38;5;124m\"\u001b[39m\u001b[38;5;124m \u001b[39m\u001b[38;5;124m\"\u001b[39m)[\u001b[38;5;241m1\u001b[39m] \u001b[38;5;28;01mfor\u001b[39;00m line \u001b[38;5;129;01min\u001b[39;00m tshark_interfaces\u001b[38;5;241m.\u001b[39msplitlines() \u001b[38;5;28;01mif\u001b[39;00m \u001b[38;5;124m'\u001b[39m\u001b[38;5;130;01m\\\\\u001b[39;00m\u001b[38;5;130;01m\\\\\u001b[39;00m\u001b[38;5;124m.\u001b[39m\u001b[38;5;130;01m\\\\\u001b[39;00m\u001b[38;5;124m'\u001b[39m \u001b[38;5;129;01mnot\u001b[39;00m \u001b[38;5;129;01min\u001b[39;00m line]\n",
      "File \u001b[0;32m~/.pyenv/versions/3.8.12/lib/python3.8/subprocess.py:415\u001b[0m, in \u001b[0;36mcheck_output\u001b[0;34m(timeout, *popenargs, **kwargs)\u001b[0m\n\u001b[1;32m    412\u001b[0m         empty \u001b[38;5;241m=\u001b[39m \u001b[38;5;124mb\u001b[39m\u001b[38;5;124m'\u001b[39m\u001b[38;5;124m'\u001b[39m\n\u001b[1;32m    413\u001b[0m     kwargs[\u001b[38;5;124m'\u001b[39m\u001b[38;5;124minput\u001b[39m\u001b[38;5;124m'\u001b[39m] \u001b[38;5;241m=\u001b[39m empty\n\u001b[0;32m--> 415\u001b[0m \u001b[38;5;28;01mreturn\u001b[39;00m \u001b[43mrun\u001b[49m\u001b[43m(\u001b[49m\u001b[38;5;241;43m*\u001b[39;49m\u001b[43mpopenargs\u001b[49m\u001b[43m,\u001b[49m\u001b[43m \u001b[49m\u001b[43mstdout\u001b[49m\u001b[38;5;241;43m=\u001b[39;49m\u001b[43mPIPE\u001b[49m\u001b[43m,\u001b[49m\u001b[43m \u001b[49m\u001b[43mtimeout\u001b[49m\u001b[38;5;241;43m=\u001b[39;49m\u001b[43mtimeout\u001b[49m\u001b[43m,\u001b[49m\u001b[43m \u001b[49m\u001b[43mcheck\u001b[49m\u001b[38;5;241;43m=\u001b[39;49m\u001b[38;5;28;43;01mTrue\u001b[39;49;00m\u001b[43m,\u001b[49m\n\u001b[1;32m    416\u001b[0m \u001b[43m           \u001b[49m\u001b[38;5;241;43m*\u001b[39;49m\u001b[38;5;241;43m*\u001b[39;49m\u001b[43mkwargs\u001b[49m\u001b[43m)\u001b[49m\u001b[38;5;241m.\u001b[39mstdout\n",
      "File \u001b[0;32m~/.pyenv/versions/3.8.12/lib/python3.8/subprocess.py:495\u001b[0m, in \u001b[0;36mrun\u001b[0;34m(input, capture_output, timeout, check, *popenargs, **kwargs)\u001b[0m\n\u001b[1;32m    493\u001b[0m \u001b[38;5;28;01mwith\u001b[39;00m Popen(\u001b[38;5;241m*\u001b[39mpopenargs, \u001b[38;5;241m*\u001b[39m\u001b[38;5;241m*\u001b[39mkwargs) \u001b[38;5;28;01mas\u001b[39;00m process:\n\u001b[1;32m    494\u001b[0m     \u001b[38;5;28;01mtry\u001b[39;00m:\n\u001b[0;32m--> 495\u001b[0m         stdout, stderr \u001b[38;5;241m=\u001b[39m \u001b[43mprocess\u001b[49m\u001b[38;5;241;43m.\u001b[39;49m\u001b[43mcommunicate\u001b[49m\u001b[43m(\u001b[49m\u001b[38;5;28;43minput\u001b[39;49m\u001b[43m,\u001b[49m\u001b[43m \u001b[49m\u001b[43mtimeout\u001b[49m\u001b[38;5;241;43m=\u001b[39;49m\u001b[43mtimeout\u001b[49m\u001b[43m)\u001b[49m\n\u001b[1;32m    496\u001b[0m     \u001b[38;5;28;01mexcept\u001b[39;00m TimeoutExpired \u001b[38;5;28;01mas\u001b[39;00m exc:\n\u001b[1;32m    497\u001b[0m         process\u001b[38;5;241m.\u001b[39mkill()\n",
      "File \u001b[0;32m~/.pyenv/versions/3.8.12/lib/python3.8/subprocess.py:1015\u001b[0m, in \u001b[0;36mPopen.communicate\u001b[0;34m(self, input, timeout)\u001b[0m\n\u001b[1;32m   1013\u001b[0m     \u001b[38;5;28mself\u001b[39m\u001b[38;5;241m.\u001b[39m_stdin_write(\u001b[38;5;28minput\u001b[39m)\n\u001b[1;32m   1014\u001b[0m \u001b[38;5;28;01melif\u001b[39;00m \u001b[38;5;28mself\u001b[39m\u001b[38;5;241m.\u001b[39mstdout:\n\u001b[0;32m-> 1015\u001b[0m     stdout \u001b[38;5;241m=\u001b[39m \u001b[38;5;28;43mself\u001b[39;49m\u001b[38;5;241;43m.\u001b[39;49m\u001b[43mstdout\u001b[49m\u001b[38;5;241;43m.\u001b[39;49m\u001b[43mread\u001b[49m\u001b[43m(\u001b[49m\u001b[43m)\u001b[49m\n\u001b[1;32m   1016\u001b[0m     \u001b[38;5;28mself\u001b[39m\u001b[38;5;241m.\u001b[39mstdout\u001b[38;5;241m.\u001b[39mclose()\n\u001b[1;32m   1017\u001b[0m \u001b[38;5;28;01melif\u001b[39;00m \u001b[38;5;28mself\u001b[39m\u001b[38;5;241m.\u001b[39mstderr:\n",
      "\u001b[0;31mKeyboardInterrupt\u001b[0m: "
     ]
    }
   ],
   "source": [
    "capture = pyshark.LiveCapture(interface='en0', bpf_filter='tcp port 5555 and len > 66')"
   ]
  },
  {
   "cell_type": "code",
   "execution_count": 3,
   "id": "0c47b55e",
   "metadata": {
    "scrolled": true
   },
   "outputs": [],
   "source": [
    "capture.sniff(timeout=20)"
   ]
  },
  {
   "cell_type": "code",
   "execution_count": 4,
   "id": "62f320c1",
   "metadata": {},
   "outputs": [
    {
     "name": "stdout",
     "output_type": "stream",
     "text": [
      "<LiveCapture (27 packets)>\n"
     ]
    }
   ],
   "source": [
    "print(capture)"
   ]
  },
  {
   "cell_type": "code",
   "execution_count": null,
   "id": "8eaf6e5d",
   "metadata": {},
   "outputs": [],
   "source": [
    "6999"
   ]
  },
  {
   "cell_type": "code",
   "execution_count": 7,
   "id": "3fe523de",
   "metadata": {
    "collapsed": true
   },
   "outputs": [
    {
     "name": "stdout",
     "output_type": "stream",
     "text": [
      "[DEBUG] 23 paquets reçus\n",
      "54:e1:bd:14:08:42:54:66:8d:80:34:80:00:12:1f:00:ee:01:01:00:06:5a:df:10:ef:01:b3:0b:43:ce:04:00:09:01:ff:c8:67:02:f4:76:00:03:4e:4e:4e:04:6a:00:00:05:fa:97:17:07:ff:ff:ff:08:0d:04:ee:09:4e:a1:fe:0a:00:00:00:00:01:8c:01:00:00:00:0f:50:69:78:65:6c:2d:4c:65:2d:52:65:74:6f:75:72:0d:e0:00:08:00:00:00:04:25:6f:ca:95:01:00:0b:41:2d:53:2d:54:2d:52:2d:4f:2d:53:26:0f:00:0d:04:ee:04:00:ff:ff:ff:13:29:8a:16:00:04:43:52:4f:43:00:10:43:72:6f:71:75:61:6e:74:20:63:72:6f:71:75:65:72:ce:03:00:00:00:00:03:00:4e:a1:fe:00:14:a5:45:00:00:1d:62:01:0a:1e:bb:de:00:00:00:42:54:66:8d:80:3c:00:00\n",
      "8d:b1:0b:00:01:d2:81:d8:d1:99:0a:00:01:00\n",
      "1f:31:0b:42:54:66:8d:80:34:80:00:00:08:00\n"
     ]
    },
    {
     "ename": "KeyboardInterrupt",
     "evalue": "",
     "output_type": "error",
     "traceback": [
      "\u001b[0;31m---------------------------------------------------------------------------\u001b[0m",
      "\u001b[0;31mKeyboardInterrupt\u001b[0m                         Traceback (most recent call last)",
      "Cell \u001b[0;32mIn [7], line 2\u001b[0m\n\u001b[1;32m      1\u001b[0m \u001b[38;5;28mprint\u001b[39m(\u001b[38;5;124m\"\u001b[39m\u001b[38;5;124m[DEBUG] \u001b[39m\u001b[38;5;132;01m{}\u001b[39;00m\u001b[38;5;124m paquets reçus\u001b[39m\u001b[38;5;124m\"\u001b[39m\u001b[38;5;241m.\u001b[39mformat( \u001b[38;5;28mlen\u001b[39m(capture) ) )\n\u001b[0;32m----> 2\u001b[0m \u001b[38;5;28;01mfor\u001b[39;00m packet \u001b[38;5;129;01min\u001b[39;00m capture:\n\u001b[1;32m      3\u001b[0m             \u001b[38;5;28mprint\u001b[39m(packet\u001b[38;5;241m.\u001b[39mtcp\u001b[38;5;241m.\u001b[39mpayload)\n",
      "File \u001b[0;32m~/.pyenv/versions/3.8.12/envs/kamarketplace/lib/python3.8/site-packages/pyshark/capture/capture.py:221\u001b[0m, in \u001b[0;36mCapture._packets_from_tshark_sync\u001b[0;34m(self, packet_count, existing_process)\u001b[0m\n\u001b[1;32m    219\u001b[0m \u001b[38;5;28;01mwhile\u001b[39;00m \u001b[38;5;28;01mTrue\u001b[39;00m:\n\u001b[1;32m    220\u001b[0m     \u001b[38;5;28;01mtry\u001b[39;00m:\n\u001b[0;32m--> 221\u001b[0m         packet, data \u001b[38;5;241m=\u001b[39m \u001b[38;5;28;43mself\u001b[39;49m\u001b[38;5;241;43m.\u001b[39;49m\u001b[43meventloop\u001b[49m\u001b[38;5;241;43m.\u001b[39;49m\u001b[43mrun_until_complete\u001b[49m\u001b[43m(\u001b[49m\n\u001b[1;32m    222\u001b[0m \u001b[43m            \u001b[49m\u001b[43mparser\u001b[49m\u001b[38;5;241;43m.\u001b[39;49m\u001b[43mget_packets_from_stream\u001b[49m\u001b[43m(\u001b[49m\u001b[43mtshark_process\u001b[49m\u001b[38;5;241;43m.\u001b[39;49m\u001b[43mstdout\u001b[49m\u001b[43m,\u001b[49m\u001b[43m \u001b[49m\u001b[43mdata\u001b[49m\u001b[43m,\u001b[49m\n\u001b[1;32m    223\u001b[0m \u001b[43m                                           \u001b[49m\u001b[43mgot_first_packet\u001b[49m\u001b[38;5;241;43m=\u001b[39;49m\u001b[43mpackets_captured\u001b[49m\u001b[43m \u001b[49m\u001b[38;5;241;43m>\u001b[39;49m\u001b[43m \u001b[49m\u001b[38;5;241;43m0\u001b[39;49m\u001b[43m)\u001b[49m\u001b[43m)\u001b[49m\n\u001b[1;32m    225\u001b[0m     \u001b[38;5;28;01mexcept\u001b[39;00m \u001b[38;5;167;01mEOFError\u001b[39;00m:\n\u001b[1;32m    226\u001b[0m         \u001b[38;5;28mself\u001b[39m\u001b[38;5;241m.\u001b[39m_log\u001b[38;5;241m.\u001b[39mdebug(\u001b[38;5;124m\"\u001b[39m\u001b[38;5;124mEOF reached (sync)\u001b[39m\u001b[38;5;124m\"\u001b[39m)\n",
      "File \u001b[0;32m~/.pyenv/versions/3.8.12/envs/kamarketplace/lib/python3.8/site-packages/nest_asyncio.py:84\u001b[0m, in \u001b[0;36m_patch_loop.<locals>.run_until_complete\u001b[0;34m(self, future)\u001b[0m\n\u001b[1;32m     82\u001b[0m     f\u001b[38;5;241m.\u001b[39m_log_destroy_pending \u001b[38;5;241m=\u001b[39m \u001b[38;5;28;01mFalse\u001b[39;00m\n\u001b[1;32m     83\u001b[0m \u001b[38;5;28;01mwhile\u001b[39;00m \u001b[38;5;129;01mnot\u001b[39;00m f\u001b[38;5;241m.\u001b[39mdone():\n\u001b[0;32m---> 84\u001b[0m     \u001b[38;5;28;43mself\u001b[39;49m\u001b[38;5;241;43m.\u001b[39;49m\u001b[43m_run_once\u001b[49m\u001b[43m(\u001b[49m\u001b[43m)\u001b[49m\n\u001b[1;32m     85\u001b[0m     \u001b[38;5;28;01mif\u001b[39;00m \u001b[38;5;28mself\u001b[39m\u001b[38;5;241m.\u001b[39m_stopping:\n\u001b[1;32m     86\u001b[0m         \u001b[38;5;28;01mbreak\u001b[39;00m\n",
      "File \u001b[0;32m~/.pyenv/versions/3.8.12/envs/kamarketplace/lib/python3.8/site-packages/nest_asyncio.py:107\u001b[0m, in \u001b[0;36m_patch_loop.<locals>._run_once\u001b[0;34m(self)\u001b[0m\n\u001b[1;32m    100\u001b[0m     heappop(scheduled)\n\u001b[1;32m    102\u001b[0m timeout \u001b[38;5;241m=\u001b[39m (\n\u001b[1;32m    103\u001b[0m     \u001b[38;5;241m0\u001b[39m \u001b[38;5;28;01mif\u001b[39;00m ready \u001b[38;5;129;01mor\u001b[39;00m \u001b[38;5;28mself\u001b[39m\u001b[38;5;241m.\u001b[39m_stopping\n\u001b[1;32m    104\u001b[0m     \u001b[38;5;28;01melse\u001b[39;00m \u001b[38;5;28mmin\u001b[39m(\u001b[38;5;28mmax\u001b[39m(\n\u001b[1;32m    105\u001b[0m         scheduled[\u001b[38;5;241m0\u001b[39m]\u001b[38;5;241m.\u001b[39m_when \u001b[38;5;241m-\u001b[39m \u001b[38;5;28mself\u001b[39m\u001b[38;5;241m.\u001b[39mtime(), \u001b[38;5;241m0\u001b[39m), \u001b[38;5;241m86400\u001b[39m) \u001b[38;5;28;01mif\u001b[39;00m scheduled\n\u001b[1;32m    106\u001b[0m     \u001b[38;5;28;01melse\u001b[39;00m \u001b[38;5;28;01mNone\u001b[39;00m)\n\u001b[0;32m--> 107\u001b[0m event_list \u001b[38;5;241m=\u001b[39m \u001b[38;5;28;43mself\u001b[39;49m\u001b[38;5;241;43m.\u001b[39;49m\u001b[43m_selector\u001b[49m\u001b[38;5;241;43m.\u001b[39;49m\u001b[43mselect\u001b[49m\u001b[43m(\u001b[49m\u001b[43mtimeout\u001b[49m\u001b[43m)\u001b[49m\n\u001b[1;32m    108\u001b[0m \u001b[38;5;28mself\u001b[39m\u001b[38;5;241m.\u001b[39m_process_events(event_list)\n\u001b[1;32m    110\u001b[0m end_time \u001b[38;5;241m=\u001b[39m \u001b[38;5;28mself\u001b[39m\u001b[38;5;241m.\u001b[39mtime() \u001b[38;5;241m+\u001b[39m \u001b[38;5;28mself\u001b[39m\u001b[38;5;241m.\u001b[39m_clock_resolution\n",
      "File \u001b[0;32m~/.pyenv/versions/3.8.12/lib/python3.8/selectors.py:558\u001b[0m, in \u001b[0;36mKqueueSelector.select\u001b[0;34m(self, timeout)\u001b[0m\n\u001b[1;32m    556\u001b[0m ready \u001b[38;5;241m=\u001b[39m []\n\u001b[1;32m    557\u001b[0m \u001b[38;5;28;01mtry\u001b[39;00m:\n\u001b[0;32m--> 558\u001b[0m     kev_list \u001b[38;5;241m=\u001b[39m \u001b[38;5;28;43mself\u001b[39;49m\u001b[38;5;241;43m.\u001b[39;49m\u001b[43m_selector\u001b[49m\u001b[38;5;241;43m.\u001b[39;49m\u001b[43mcontrol\u001b[49m\u001b[43m(\u001b[49m\u001b[38;5;28;43;01mNone\u001b[39;49;00m\u001b[43m,\u001b[49m\u001b[43m \u001b[49m\u001b[43mmax_ev\u001b[49m\u001b[43m,\u001b[49m\u001b[43m \u001b[49m\u001b[43mtimeout\u001b[49m\u001b[43m)\u001b[49m\n\u001b[1;32m    559\u001b[0m \u001b[38;5;28;01mexcept\u001b[39;00m \u001b[38;5;167;01mInterruptedError\u001b[39;00m:\n\u001b[1;32m    560\u001b[0m     \u001b[38;5;28;01mreturn\u001b[39;00m ready\n",
      "\u001b[0;31mKeyboardInterrupt\u001b[0m: "
     ]
    }
   ],
   "source": [
    "\\print(\"[DEBUG] {} paquets reçus\".format( len(capture) ) )\n",
    "for packet in capture:\n",
    "            print(packet.tcp.payload)"
   ]
  },
  {
   "cell_type": "code",
   "execution_count": null,
   "id": "1ffa0805",
   "metadata": {},
   "outputs": [],
   "source": []
  },
  {
   "cell_type": "code",
   "execution_count": 8,
   "id": "f69a9018",
   "metadata": {
    "scrolled": true
   },
   "outputs": [
    {
     "data": {
      "text/plain": [
       "23"
      ]
     },
     "execution_count": 8,
     "metadata": {},
     "output_type": "execute_result"
    }
   ],
   "source": [
    "len(capture)"
   ]
  },
  {
   "cell_type": "code",
   "execution_count": null,
   "id": "391ee79b",
   "metadata": {},
   "outputs": [],
   "source": []
  },
  {
   "cell_type": "code",
   "execution_count": 150,
   "id": "75804df7",
   "metadata": {},
   "outputs": [],
   "source": [
    "packet_test = capture[1]"
   ]
  },
  {
   "cell_type": "code",
   "execution_count": 151,
   "id": "2748f8c0",
   "metadata": {
    "scrolled": false
   },
   "outputs": [
    {
     "data": {
      "text/plain": [
       "'87810316ee0852311000020125014100014253cfb300348000345c'"
      ]
     },
     "execution_count": 151,
     "metadata": {},
     "output_type": "execute_result"
    }
   ],
   "source": [
    "packet_test.DATA.data"
   ]
  },
  {
   "cell_type": "code",
   "execution_count": 152,
   "id": "4aaf02fd",
   "metadata": {},
   "outputs": [
    {
     "data": {
      "text/plain": [
       "'87:81:03:16:ee:08:52:31:10:00:02:01:25:01:41:00:01:42:53:cf:b3:00:34:80:00:34:5c'"
      ]
     },
     "execution_count": 152,
     "metadata": {},
     "output_type": "execute_result"
    }
   ],
   "source": [
    "my_packet = packet_test.tcp.payload\n",
    "my_packet"
   ]
  },
  {
   "cell_type": "code",
   "execution_count": null,
   "id": "d8555e46",
   "metadata": {},
   "outputs": [],
   "source": []
  },
  {
   "cell_type": "markdown",
   "id": "8b740d04",
   "metadata": {},
   "source": [
    "# Paquet interpretation"
   ]
  },
  {
   "cell_type": "markdown",
   "id": "f2887f5f",
   "metadata": {},
   "source": [
    "## Decompose the paquet"
   ]
  },
  {
   "cell_type": "code",
   "execution_count": 1,
   "id": "40f0e8e5",
   "metadata": {},
   "outputs": [],
   "source": [
    "class Packet:\n",
    "    def __init__(self, packetPayLoad):\n",
    "        self.payload = packetPayLoad\n",
    "        self.header = self.get_header()\n",
    "        self.id = self.get_id()\n",
    "        self.size_of_size = self.get_size_of_size()\n",
    "        self.size_packet = self.get_size_packet()\n",
    "        self.size_message = self.get_size_message()\n",
    "        \n",
    "    def get_header(self):\n",
    "        return ''.join(self.payload.split(':')[:2])\n",
    "        \n",
    "    def get_bin_header(self):\n",
    "        scale = 16 #hexadecimal\n",
    "        num_of_bits = 16\n",
    "        header = self.header\n",
    "        \n",
    "        return bin(int(header, scale))[2:].zfill(num_of_bits)\n",
    "        \n",
    "    def get_id(self):\n",
    "        if ~hasattr(self, \"bin_header\"):\n",
    "            self.bin_header = self.get_bin_header()\n",
    "        \n",
    "        return int(self.bin_header[:14], 2)\n",
    "    \n",
    "    def get_size_of_size(self):\n",
    "        if ~hasattr(self, \"bin_header\"):\n",
    "            self.bin_header = self.get_bin_header()\n",
    "        return int(self.bin_header[-2:], 2)\n",
    "    \n",
    "    def get_size_packet(self):\n",
    "        return ''.join(self.payload.split(\":\")[2 : 2+self.size_of_size])\n",
    "    \n",
    "    def get_size_message(self):\n",
    "        return int(self.size_packet, base=16)"
   ]
  },
  {
   "cell_type": "code",
   "execution_count": 6,
   "id": "23e6482d",
   "metadata": {},
   "outputs": [
    {
     "name": "stdout",
     "output_type": "stream",
     "text": [
      "54:e1:bd:14:08:42:54:66:8d:80:34:80:00:12:1f:00:ee:01:01:00:06:5a:df:10:ef:01:b3:0b:43:ce:04:00:09:01:ff:c8:67:02:f4:76:00:03:4e:4e:4e:04:6a:00:00:05:fa:97:17:07:ff:ff:ff:08:0d:04:ee:09:4e:a1:fe:0a:00:00:00:00:01:8c:01:00:00:00:0f:50:69:78:65:6c:2d:4c:65:2d:52:65:74:6f:75:72:0d:e0:00:08:00:00:00:04:25:6f:ca:95:01:00:0b:41:2d:53:2d:54:2d:52:2d:4f:2d:53:26:0f:00:0d:04:ee:04:00:ff:ff:ff:13:29:8a:16:00:04:43:52:4f:43:00:10:43:72:6f:71:75:61:6e:74:20:63:72:6f:71:75:65:72:ce:03:00:00:00:00:03:00:4e:a1:fe:00:14:a5:45:00:00:1d:62:01:0a:1e:bb:de:00:00:00:42:54:66:8d:80:3c:00:00:8d:b1:0b:00:01:d2:81:d8:d1:99:0a:00:01:00:1f:31:0b:42:54:66:8d:80:34:80:00:00:08:00\n"
     ]
    }
   ],
   "source": [
    "my_packet = \"54:e1:bd:14:08:42:54:66:8d:80:34:80:00:12:1f:00:ee:01:01:00:06:5a:df:10:ef:01:b3:0b:43:ce:04:00:09:01:ff:c8:67:02:f4:76:00:03:4e:4e:4e:04:6a:00:00:05:fa:97:17:07:ff:ff:ff:08:0d:04:ee:09:4e:a1:fe:0a:00:00:00:00:01:8c:01:00:00:00:0f:50:69:78:65:6c:2d:4c:65:2d:52:65:74:6f:75:72:0d:e0:00:08:00:00:00:04:25:6f:ca:95:01:00:0b:41:2d:53:2d:54:2d:52:2d:4f:2d:53:26:0f:00:0d:04:ee:04:00:ff:ff:ff:13:29:8a:16:00:04:43:52:4f:43:00:10:43:72:6f:71:75:61:6e:74:20:63:72:6f:71:75:65:72:ce:03:00:00:00:00:03:00:4e:a1:fe:00:14:a5:45:00:00:1d:62:01:0a:1e:bb:de:00:00:00:42:54:66:8d:80:3c:00:00:8d:b1:0b:00:01:d2:81:d8:d1:99:0a:00:01:00:1f:31:0b:42:54:66:8d:80:34:80:00:00:08:00\"\n",
    "# capture[1].tcp.payload\n",
    "print(my_packet)"
   ]
  },
  {
   "cell_type": "code",
   "execution_count": 7,
   "id": "122b6ed1",
   "metadata": {},
   "outputs": [],
   "source": [
    "testing_a_packet_class = Packet(my_packet)"
   ]
  },
  {
   "cell_type": "code",
   "execution_count": 8,
   "id": "4cf57664",
   "metadata": {
    "collapsed": true
   },
   "outputs": [
    {
     "data": {
      "text/plain": [
       "'54:e1:bd:14:08:42:54:66:8d:80:34:80:00:12:1f:00:ee:01:01:00:06:5a:df:10:ef:01:b3:0b:43:ce:04:00:09:01:ff:c8:67:02:f4:76:00:03:4e:4e:4e:04:6a:00:00:05:fa:97:17:07:ff:ff:ff:08:0d:04:ee:09:4e:a1:fe:0a:00:00:00:00:01:8c:01:00:00:00:0f:50:69:78:65:6c:2d:4c:65:2d:52:65:74:6f:75:72:0d:e0:00:08:00:00:00:04:25:6f:ca:95:01:00:0b:41:2d:53:2d:54:2d:52:2d:4f:2d:53:26:0f:00:0d:04:ee:04:00:ff:ff:ff:13:29:8a:16:00:04:43:52:4f:43:00:10:43:72:6f:71:75:61:6e:74:20:63:72:6f:71:75:65:72:ce:03:00:00:00:00:03:00:4e:a1:fe:00:14:a5:45:00:00:1d:62:01:0a:1e:bb:de:00:00:00:42:54:66:8d:80:3c:00:00:8d:b1:0b:00:01:d2:81:d8:d1:99:0a:00:01:00:1f:31:0b:42:54:66:8d:80:34:80:00:00:08:00'"
      ]
     },
     "execution_count": 8,
     "metadata": {},
     "output_type": "execute_result"
    }
   ],
   "source": [
    "testing_a_packet_class.payload"
   ]
  },
  {
   "cell_type": "code",
   "execution_count": 9,
   "id": "cb7fcccc",
   "metadata": {},
   "outputs": [
    {
     "name": "stdout",
     "output_type": "stream",
     "text": [
      "The header hexadecimal value is 54e1\n",
      "The packet ID is 5432 while the size of the size is 1\n",
      "The message size in hexa is then bd which represents 189 bytes after conversion\n"
     ]
    }
   ],
   "source": [
    "print(\"The header hexadecimal value is %s\" %(testing_a_packet_class.header))\n",
    "print(\"The packet ID is %s while the size of the size is %s\" %(testing_a_packet_class.id,\n",
    "                                                             testing_a_packet_class.size_of_size))\n",
    "print(\"The message size in hexa is then %s which represents %s bytes after conversion\" \n",
    "      %(testing_a_packet_class.size_packet, testing_a_packet_class.size_message))"
   ]
  },
  {
   "cell_type": "code",
   "execution_count": null,
   "id": "8e7100ea",
   "metadata": {},
   "outputs": [],
   "source": []
  },
  {
   "cell_type": "markdown",
   "id": "633b3f8a",
   "metadata": {},
   "source": [
    "## Mapping the Ids"
   ]
  },
  {
   "cell_type": "markdown",
   "id": "6d28ebd8",
   "metadata": {},
   "source": [
    "### Gotta need to decompile the source code first"
   ]
  },
  {
   "cell_type": "markdown",
   "id": "c58ff1de",
   "metadata": {},
   "source": [
    "USE JPEXS Free Flash Decompiler to decompile the source code, see decompile.sh"
   ]
  },
  {
   "cell_type": "markdown",
   "id": "09f074e9",
   "metadata": {},
   "source": [
    "### Then extract the mapping of the Ids"
   ]
  },
  {
   "cell_type": "code",
   "execution_count": 94,
   "id": "db6d0081",
   "metadata": {},
   "outputs": [],
   "source": [
    "import os\n",
    "\n",
    "def Ids(path='/Users/thomasaudevie/Desktop/projets-perso/kamarketplace/sources/scripts/com/ankamagames/dofus/network/messages'):\n",
    "    fichiers=[os.path.join(path, f) for f in os.listdir(path) if os.path.isfile(os.path.join(path, f)) and f != '.DS_Store' and f != 'Ids.py']\n",
    "    dossiers=[os.path.join(path, f) for f in os.listdir(path) if os.path.isdir(os.path.join(path, f))]\n",
    "    for f in fichiers:\n",
    "        o=open(f)\n",
    "        r=o.read()\n",
    "        o.close()\n",
    "        first_occurence=r.find('protocolId:uint =')\n",
    "        if first_occurence != -1: # means the value is found\n",
    "            id_location=int(first_occurence + 18) # look 18 characters after (length of 'protocolId:uint = ') to know when the protocolID's value is declared\n",
    "            end_first_occurence=int(r.find(';', id_location))\n",
    "            indice=r[id_location: end_first_occurence]\n",
    "            nom=os.path.basename(f)[:-3]\n",
    "            dictIds[indice]=nom\n",
    "            \n",
    "    for d in dossiers:\n",
    "        Ids(d)\n",
    "\n",
    "def createIds(path='/Users/thomasaudevie/Desktop/projets-perso/kamarketplace/sources/scripts/com/ankamagames/dofus/network/messages'):\n",
    "    ### crée le dictionnaire dictIds et le remplit\n",
    "    global dictIds\n",
    "    dictIds = dict()\n",
    "    Ids(path)\n",
    "    print('Terminé '+str(len(dictIds)))\n",
    "\n",
    "import pickle\n",
    "\n",
    "def dumpIds(path='./Ids'):\n",
    "    ### crée le dictionnaire dictIds, le remplit et le sauvegarde\n",
    "    createIds()\n",
    "    f = open(path, 'wb')\n",
    "    pickle.dump(dictIds, f)\n",
    "    f.close()\n",
    "    \n",
    "def loadIds():\n",
    "    ### charge le dictionnaire dictIds depuis le fichier\n",
    "    f = open('./Ids', 'rb') #'/Users/louisabraham/Documents/Projet bot/Programme/Ids\n",
    "    global dictIds\n",
    "    dictIds = pickle.load(f)\n",
    "    f.close()"
   ]
  },
  {
   "cell_type": "code",
   "execution_count": 95,
   "id": "e2337ef8",
   "metadata": {},
   "outputs": [
    {
     "name": "stdout",
     "output_type": "stream",
     "text": [
      "Terminé 1145\n"
     ]
    }
   ],
   "source": [
    "dumpIds()"
   ]
  },
  {
   "cell_type": "code",
   "execution_count": 96,
   "id": "13e961ac",
   "metadata": {
    "scrolled": true
   },
   "outputs": [],
   "source": [
    "loadIds()"
   ]
  },
  {
   "cell_type": "code",
   "execution_count": 97,
   "id": "b1e606b9",
   "metadata": {},
   "outputs": [],
   "source": [
    "f = open('./Ids', 'rb')\n",
    "global dictIds\n",
    "dictIds = pickle.load(f)"
   ]
  },
  {
   "cell_type": "code",
   "execution_count": 99,
   "id": "dcf81c56",
   "metadata": {
    "scrolled": true
   },
   "outputs": [
    {
     "data": {
      "text/plain": [
       "'GameRolePlayShowActorMessage'"
      ]
     },
     "execution_count": 99,
     "metadata": {},
     "output_type": "execute_result"
    }
   ],
   "source": [
    "dictIds['5432']"
   ]
  },
  {
   "cell_type": "markdown",
   "id": "14cf846c",
   "metadata": {},
   "source": [
    "# Deserialize"
   ]
  },
  {
   "cell_type": "code",
   "execution_count": null,
   "id": "3c827d0e",
   "metadata": {},
   "outputs": [],
   "source": []
  }
 ],
 "metadata": {
  "kernelspec": {
   "display_name": "Python 3 (ipykernel)",
   "language": "python",
   "name": "python3"
  },
  "language_info": {
   "codemirror_mode": {
    "name": "ipython",
    "version": 3
   },
   "file_extension": ".py",
   "mimetype": "text/x-python",
   "name": "python",
   "nbconvert_exporter": "python",
   "pygments_lexer": "ipython3",
   "version": "3.8.12"
  },
  "toc": {
   "base_numbering": 1,
   "nav_menu": {},
   "number_sections": true,
   "sideBar": true,
   "skip_h1_title": false,
   "title_cell": "Table of Contents",
   "title_sidebar": "Contents",
   "toc_cell": true,
   "toc_position": {
    "height": "calc(100% - 180px)",
    "left": "10px",
    "top": "150px",
    "width": "384px"
   },
   "toc_section_display": true,
   "toc_window_display": true
  },
  "varInspector": {
   "cols": {
    "lenName": 16,
    "lenType": 16,
    "lenVar": 40
   },
   "kernels_config": {
    "python": {
     "delete_cmd_postfix": "",
     "delete_cmd_prefix": "del ",
     "library": "var_list.py",
     "varRefreshCmd": "print(var_dic_list())"
    },
    "r": {
     "delete_cmd_postfix": ") ",
     "delete_cmd_prefix": "rm(",
     "library": "var_list.r",
     "varRefreshCmd": "cat(var_dic_list()) "
    }
   },
   "types_to_exclude": [
    "module",
    "function",
    "builtin_function_or_method",
    "instance",
    "_Feature"
   ],
   "window_display": false
  }
 },
 "nbformat": 4,
 "nbformat_minor": 5
}
