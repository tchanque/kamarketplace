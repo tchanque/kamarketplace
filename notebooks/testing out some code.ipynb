{
 "cells": [
  {
   "cell_type": "code",
   "execution_count": 1,
   "id": "194813de",
   "metadata": {},
   "outputs": [],
   "source": [
    "import os\n",
    "import pickle"
   ]
  },
  {
   "cell_type": "code",
   "execution_count": 20,
   "id": "550e79ba",
   "metadata": {},
   "outputs": [],
   "source": [
    "with open(os.path.join(os.path.dirname(os.getcwd()), 'kamarketplace', 'protocol/protocol.pk'), mode=\"rb\") as f:\n",
    "    types = pickle.load(f)\n",
    "    msg_from_id = pickle.load(f)\n",
    "    types_from_id = pickle.load(f)\n",
    "    primitives = pickle.load(f)"
   ]
  },
  {
   "cell_type": "code",
   "execution_count": 23,
   "id": "f2fed28a",
   "metadata": {},
   "outputs": [
    {
     "data": {
      "text/plain": [
       "PosixPath('.')"
      ]
     },
     "execution_count": 23,
     "metadata": {},
     "output_type": "execute_result"
    }
   ],
   "source": [
    "Path(\"__file__\").parent"
   ]
  },
  {
   "cell_type": "code",
   "execution_count": 21,
   "id": "ca23e6e9",
   "metadata": {
    "collapsed": true
   },
   "outputs": [
    {
     "data": {
      "text/plain": [
       "{'name': 'GameMapMovementMessage',\n",
       " 'parent': None,\n",
       " 'protocolId': 3464,\n",
       " 'vars': [{'name': 'keyMovements',\n",
       "   'length': 'Short',\n",
       "   'type': 'Short',\n",
       "   'optional': False},\n",
       "  {'name': 'forcedDirection',\n",
       "   'length': None,\n",
       "   'type': 'Short',\n",
       "   'optional': False},\n",
       "  {'name': 'actorId', 'length': None, 'type': 'Double', 'optional': False}],\n",
       " 'boolVars': [],\n",
       " 'hash_function': False}"
      ]
     },
     "execution_count": 21,
     "metadata": {},
     "output_type": "execute_result"
    }
   ],
   "source": [
    "msg_from_id[3464]"
   ]
  },
  {
   "cell_type": "code",
   "execution_count": 15,
   "id": "11cf2f4d",
   "metadata": {},
   "outputs": [
    {
     "ename": "KeyError",
     "evalue": "3464",
     "output_type": "error",
     "traceback": [
      "\u001b[0;31m---------------------------------------------------------------------------\u001b[0m",
      "\u001b[0;31mKeyError\u001b[0m                                  Traceback (most recent call last)",
      "Cell \u001b[0;32mIn[15], line 1\u001b[0m\n\u001b[0;32m----> 1\u001b[0m \u001b[43mtypes_from_id\u001b[49m\u001b[43m[\u001b[49m\u001b[38;5;241;43m3464\u001b[39;49m\u001b[43m]\u001b[49m\n",
      "\u001b[0;31mKeyError\u001b[0m: 3464"
     ]
    }
   ],
   "source": [
    "types_from_id[3464]"
   ]
  },
  {
   "cell_type": "code",
   "execution_count": 16,
   "id": "425dfadc",
   "metadata": {
    "collapsed": true
   },
   "outputs": [
    {
     "data": {
      "text/plain": [
       "{'name': 'GameMapMovementMessage',\n",
       " 'parent': None,\n",
       " 'protocolId': 7425,\n",
       " 'vars': [{'name': 'keyMovements',\n",
       "   'length': 'Short',\n",
       "   'type': 'Short',\n",
       "   'optional': False},\n",
       "  {'name': 'forcedDirection',\n",
       "   'length': None,\n",
       "   'type': 'Short',\n",
       "   'optional': False},\n",
       "  {'name': 'actorId', 'length': None, 'type': 'Double', 'optional': False}],\n",
       " 'boolVars': [],\n",
       " 'hash_function': False}"
      ]
     },
     "execution_count": 16,
     "metadata": {},
     "output_type": "execute_result"
    }
   ],
   "source": [
    "types['GameMapMovementMessage']"
   ]
  },
  {
   "cell_type": "code",
   "execution_count": 7,
   "id": "85323576",
   "metadata": {
    "collapsed": true
   },
   "outputs": [
    {
     "data": {
      "text/plain": [
       "{'name': 'GameContextActorPositionInformations',\n",
       " 'parent': None,\n",
       " 'protocolId': 4353,\n",
       " 'vars': [{'name': 'contextualId',\n",
       "   'length': None,\n",
       "   'type': 'Double',\n",
       "   'optional': False},\n",
       "  {'name': 'disposition', 'length': None, 'type': False, 'optional': False}],\n",
       " 'boolVars': [],\n",
       " 'hash_function': False}"
      ]
     },
     "execution_count": 7,
     "metadata": {},
     "output_type": "execute_result"
    }
   ],
   "source": [
    "types['GameContextActorPositionInformations']"
   ]
  },
  {
   "cell_type": "code",
   "execution_count": 8,
   "id": "19861480",
   "metadata": {},
   "outputs": [
    {
     "data": {
      "text/plain": [
       "{'name': 'GameRolePlayActorInformations',\n",
       " 'parent': 'GameContextActorInformations',\n",
       " 'protocolId': 6893,\n",
       " 'vars': [],\n",
       " 'boolVars': [],\n",
       " 'hash_function': False}"
      ]
     },
     "execution_count": 8,
     "metadata": {},
     "output_type": "execute_result"
    }
   ],
   "source": [
    "types['GameRolePlayActorInformations']"
   ]
  },
  {
   "cell_type": "code",
   "execution_count": null,
   "id": "a9166205",
   "metadata": {},
   "outputs": [],
   "source": []
  },
  {
   "cell_type": "code",
   "execution_count": 13,
   "id": "8939e922",
   "metadata": {},
   "outputs": [
    {
     "data": {
      "text/plain": [
       "{'name': 'SubEntity',\n",
       " 'parent': None,\n",
       " 'protocolId': 2388,\n",
       " 'vars': [{'name': 'bindingPointCategory',\n",
       "   'length': None,\n",
       "   'type': 'Byte',\n",
       "   'optional': False},\n",
       "  {'name': 'bindingPointIndex',\n",
       "   'length': None,\n",
       "   'type': 'Byte',\n",
       "   'optional': False},\n",
       "  {'name': 'subEntityLook',\n",
       "   'length': None,\n",
       "   'type': 'EntityLook',\n",
       "   'optional': False}],\n",
       " 'boolVars': [],\n",
       " 'hash_function': False}"
      ]
     },
     "execution_count": 13,
     "metadata": {},
     "output_type": "execute_result"
    }
   ],
   "source": [
    "types['SubEntity']"
   ]
  },
  {
   "cell_type": "code",
   "execution_count": null,
   "id": "d7042734",
   "metadata": {},
   "outputs": [],
   "source": []
  },
  {
   "cell_type": "code",
   "execution_count": null,
   "id": "6746d7fc",
   "metadata": {},
   "outputs": [],
   "source": []
  },
  {
   "cell_type": "code",
   "execution_count": null,
   "id": "67e35695",
   "metadata": {},
   "outputs": [],
   "source": []
  },
  {
   "cell_type": "code",
   "execution_count": null,
   "id": "8911d386",
   "metadata": {},
   "outputs": [],
   "source": []
  },
  {
   "cell_type": "code",
   "execution_count": 105,
   "id": "2cdffae0",
   "metadata": {},
   "outputs": [
    {
     "data": {
      "text/plain": [
       "{'name': 'GameRolePlayActorInformations',\n",
       " 'parent': 'GameContextActorInformations',\n",
       " 'protocolId': 6893,\n",
       " 'vars': [],\n",
       " 'boolVars': [],\n",
       " 'hash_function': False}"
      ]
     },
     "execution_count": 105,
     "metadata": {},
     "output_type": "execute_result"
    }
   ],
   "source": [
    "types['GameRolePlayActorInformations']"
   ]
  },
  {
   "cell_type": "code",
   "execution_count": 106,
   "id": "9c927e27",
   "metadata": {},
   "outputs": [
    {
     "data": {
      "text/plain": [
       "{'name': 'GameContextActorInformations',\n",
       " 'parent': 'GameContextActorPositionInformations',\n",
       " 'protocolId': 6154,\n",
       " 'vars': [{'name': 'look',\n",
       "   'length': None,\n",
       "   'type': 'EntityLook',\n",
       "   'optional': False}],\n",
       " 'boolVars': [],\n",
       " 'hash_function': False}"
      ]
     },
     "execution_count": 106,
     "metadata": {},
     "output_type": "execute_result"
    }
   ],
   "source": [
    "types['GameContextActorInformations']"
   ]
  },
  {
   "cell_type": "code",
   "execution_count": 107,
   "id": "03e37d32",
   "metadata": {},
   "outputs": [
    {
     "data": {
      "text/plain": [
       "{'name': 'GameContextActorPositionInformations',\n",
       " 'parent': None,\n",
       " 'protocolId': 4353,\n",
       " 'vars': [{'name': 'contextualId',\n",
       "   'length': None,\n",
       "   'type': 'Double',\n",
       "   'optional': False},\n",
       "  {'name': 'disposition', 'length': None, 'type': False, 'optional': False}],\n",
       " 'boolVars': [],\n",
       " 'hash_function': False}"
      ]
     },
     "execution_count": 107,
     "metadata": {},
     "output_type": "execute_result"
    }
   ],
   "source": [
    "types['GameContextActorPositionInformations']"
   ]
  },
  {
   "cell_type": "code",
   "execution_count": 117,
   "id": "7ab912e1",
   "metadata": {},
   "outputs": [
    {
     "ename": "KeyError",
     "evalue": "'mainCreatureLightInfos'",
     "output_type": "error",
     "traceback": [
      "\u001b[0;31m---------------------------------------------------------------------------\u001b[0m",
      "\u001b[0;31mKeyError\u001b[0m                                  Traceback (most recent call last)",
      "Cell \u001b[0;32mIn[117], line 1\u001b[0m\n\u001b[0;32m----> 1\u001b[0m \u001b[43mtypes\u001b[49m\u001b[43m[\u001b[49m\u001b[38;5;124;43m'\u001b[39;49m\u001b[38;5;124;43mmainCreatureLightInfos\u001b[39;49m\u001b[38;5;124;43m'\u001b[39;49m\u001b[43m]\u001b[49m\n",
      "\u001b[0;31mKeyError\u001b[0m: 'mainCreatureLightInfos'"
     ]
    }
   ],
   "source": [
    "types['mainCreatureLightInfos']"
   ]
  },
  {
   "cell_type": "code",
   "execution_count": 125,
   "id": "dd0d6d7b",
   "metadata": {},
   "outputs": [
    {
     "data": {
      "text/plain": [
       "{'name': 'GroupMonsterStaticInformations',\n",
       " 'parent': None,\n",
       " 'protocolId': 2259,\n",
       " 'vars': [{'name': 'mainCreatureLightInfos',\n",
       "   'length': None,\n",
       "   'type': 'MonsterInGroupLightInformations',\n",
       "   'optional': False},\n",
       "  {'name': 'underlings',\n",
       "   'length': 'Short',\n",
       "   'type': 'MonsterInGroupInformations',\n",
       "   'optional': False}],\n",
       " 'boolVars': [],\n",
       " 'hash_function': False}"
      ]
     },
     "execution_count": 125,
     "metadata": {},
     "output_type": "execute_result"
    }
   ],
   "source": [
    "types_from_id[2259]"
   ]
  },
  {
   "cell_type": "code",
   "execution_count": 122,
   "id": "7b2540e3",
   "metadata": {},
   "outputs": [],
   "source": [
    "type_ = bytearray(b'\\x08\\xd3')"
   ]
  },
  {
   "cell_type": "code",
   "execution_count": 124,
   "id": "3c490612",
   "metadata": {},
   "outputs": [
    {
     "data": {
      "text/plain": [
       "2259"
      ]
     },
     "execution_count": 124,
     "metadata": {},
     "output_type": "execute_result"
    }
   ],
   "source": [
    "int.from_bytes(type_, \"big\")"
   ]
  },
  {
   "cell_type": "code",
   "execution_count": null,
   "id": "e72d41dd",
   "metadata": {},
   "outputs": [],
   "source": []
  },
  {
   "cell_type": "code",
   "execution_count": null,
   "id": "2cbde69b",
   "metadata": {},
   "outputs": [],
   "source": []
  },
  {
   "cell_type": "code",
   "execution_count": 47,
   "id": "7bff1b1c",
   "metadata": {
    "scrolled": false
   },
   "outputs": [
    {
     "name": "stdout",
     "output_type": "stream",
     "text": [
      "['0xa6', '0x0f', '0xb5', '0x52']\n"
     ]
    }
   ],
   "source": [
    "print([ \"0x%02x\" % b for b in ba ])"
   ]
  },
  {
   "cell_type": "code",
   "execution_count": 126,
   "id": "c7eec9af",
   "metadata": {},
   "outputs": [
    {
     "data": {
      "text/plain": [
       "{'name': 'SubEntity',\n",
       " 'parent': None,\n",
       " 'protocolId': 2388,\n",
       " 'vars': [{'name': 'bindingPointCategory',\n",
       "   'length': None,\n",
       "   'type': 'Byte',\n",
       "   'optional': False},\n",
       "  {'name': 'bindingPointIndex',\n",
       "   'length': None,\n",
       "   'type': 'Byte',\n",
       "   'optional': False},\n",
       "  {'name': 'subEntityLook',\n",
       "   'length': None,\n",
       "   'type': 'EntityLook',\n",
       "   'optional': False}],\n",
       " 'boolVars': [],\n",
       " 'hash_function': False}"
      ]
     },
     "execution_count": 126,
     "metadata": {},
     "output_type": "execute_result"
    }
   ],
   "source": [
    "types['SubEntity']"
   ]
  },
  {
   "cell_type": "code",
   "execution_count": null,
   "id": "6de697b4",
   "metadata": {},
   "outputs": [],
   "source": []
  },
  {
   "cell_type": "code",
   "execution_count": null,
   "id": "de2159ee",
   "metadata": {},
   "outputs": [],
   "source": []
  },
  {
   "cell_type": "code",
   "execution_count": 93,
   "id": "90f42077",
   "metadata": {},
   "outputs": [],
   "source": [
    "bytes_ = bytearray(b'\\xa0\\x05')"
   ]
  },
  {
   "cell_type": "code",
   "execution_count": 95,
   "id": "6a917f50",
   "metadata": {},
   "outputs": [
    {
     "data": {
      "text/plain": [
       "40965"
      ]
     },
     "execution_count": 95,
     "metadata": {},
     "output_type": "execute_result"
    }
   ],
   "source": [
    "int.from_bytes(bytes_, \"big\")"
   ]
  },
  {
   "cell_type": "code",
   "execution_count": 116,
   "id": "5f335235",
   "metadata": {},
   "outputs": [
    {
     "ename": "KeyError",
     "evalue": "'008'",
     "output_type": "error",
     "traceback": [
      "\u001b[0;31m---------------------------------------------------------------------------\u001b[0m",
      "\u001b[0;31mKeyError\u001b[0m                                  Traceback (most recent call last)",
      "Cell \u001b[0;32mIn[116], line 1\u001b[0m\n\u001b[0;32m----> 1\u001b[0m \u001b[43mtypes_from_id\u001b[49m\u001b[43m[\u001b[49m\u001b[38;5;124;43m'\u001b[39;49m\u001b[38;5;124;43m008\u001b[39;49m\u001b[38;5;124;43m'\u001b[39;49m\u001b[43m]\u001b[49m\n",
      "\u001b[0;31mKeyError\u001b[0m: '008'"
     ]
    }
   ],
   "source": [
    "types_from_id['008']"
   ]
  },
  {
   "cell_type": "code",
   "execution_count": null,
   "id": "a86a8add",
   "metadata": {},
   "outputs": [],
   "source": [
    "\\x08\\xd3"
   ]
  },
  {
   "cell_type": "code",
   "execution_count": null,
   "id": "136834a9",
   "metadata": {},
   "outputs": [],
   "source": []
  },
  {
   "cell_type": "code",
   "execution_count": 49,
   "id": "4845a31f",
   "metadata": {
    "scrolled": true
   },
   "outputs": [
    {
     "data": {
      "text/plain": [
       "b'\\x00\\x00\\x02\\x7f'"
      ]
     },
     "execution_count": 49,
     "metadata": {},
     "output_type": "execute_result"
    }
   ],
   "source": [
    "integer = 639\n",
    "integer.to_bytes(4, byteorder=\"big\")"
   ]
  },
  {
   "cell_type": "code",
   "execution_count": null,
   "id": "c17ff7d9",
   "metadata": {},
   "outputs": [],
   "source": []
  },
  {
   "cell_type": "code",
   "execution_count": null,
   "id": "629ad31b",
   "metadata": {},
   "outputs": [],
   "source": []
  },
  {
   "cell_type": "code",
   "execution_count": null,
   "id": "6e59f9f5",
   "metadata": {},
   "outputs": [],
   "source": []
  }
 ],
 "metadata": {
  "kernelspec": {
   "display_name": "Python 3 (ipykernel)",
   "language": "python",
   "name": "python3"
  },
  "language_info": {
   "codemirror_mode": {
    "name": "ipython",
    "version": 3
   },
   "file_extension": ".py",
   "mimetype": "text/x-python",
   "name": "python",
   "nbconvert_exporter": "python",
   "pygments_lexer": "ipython3",
   "version": "3.9.1"
  }
 },
 "nbformat": 4,
 "nbformat_minor": 5
}
