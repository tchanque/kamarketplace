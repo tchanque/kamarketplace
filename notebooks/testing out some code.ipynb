{
 "cells": [
  {
   "cell_type": "code",
   "execution_count": 1,
   "id": "194813de",
   "metadata": {},
   "outputs": [],
   "source": [
    "import os\n",
    "import pickle"
   ]
  },
  {
   "cell_type": "code",
   "execution_count": 2,
   "id": "84911f49",
   "metadata": {},
   "outputs": [],
   "source": [
    "with open(os.path.dirname(os.path.abspath(\"__file__\")) + \"/protocol.pk\", mode=\"rb\") as f:\n",
    "    types = pickle.load(f)\n",
    "    msg_from_id = pickle.load(f)\n",
    "    types_from_id = pickle.load(f)\n",
    "    primitives = pickle.load(f)"
   ]
  },
  {
   "cell_type": "code",
   "execution_count": 107,
   "id": "ece0fb78",
   "metadata": {},
   "outputs": [
    {
     "data": {
      "text/plain": [
       "{'name': 'GameRolePlayShowActorMessage',\n",
       " 'parent': None,\n",
       " 'protocolId': 7514,\n",
       " 'vars': [{'name': 'informations',\n",
       "   'length': None,\n",
       "   'type': False,\n",
       "   'optional': False}],\n",
       " 'boolVars': [],\n",
       " 'hash_function': False}"
      ]
     },
     "execution_count": 107,
     "metadata": {},
     "output_type": "execute_result"
    }
   ],
   "source": [
    "msg_from_id[7514]"
   ]
  },
  {
   "cell_type": "code",
   "execution_count": 108,
   "id": "7d6bff36",
   "metadata": {},
   "outputs": [
    {
     "ename": "KeyError",
     "evalue": "9999",
     "output_type": "error",
     "traceback": [
      "\u001b[0;31m---------------------------------------------------------------------------\u001b[0m",
      "\u001b[0;31mKeyError\u001b[0m                                  Traceback (most recent call last)",
      "Cell \u001b[0;32mIn[108], line 1\u001b[0m\n\u001b[0;32m----> 1\u001b[0m \u001b[43mmsg_from_id\u001b[49m\u001b[43m[\u001b[49m\u001b[38;5;241;43m9999\u001b[39;49m\u001b[43m]\u001b[49m\n",
      "\u001b[0;31mKeyError\u001b[0m: 9999"
     ]
    }
   ],
   "source": [
    "msg_from_id[9999]"
   ]
  },
  {
   "cell_type": "code",
   "execution_count": 28,
   "id": "1df17a38",
   "metadata": {},
   "outputs": [
    {
     "data": {
      "text/plain": [
       "{'name': 'GameRolePlayShowActorMessage',\n",
       " 'parent': None,\n",
       " 'protocolId': 7514,\n",
       " 'vars': [{'name': 'informations',\n",
       "   'length': None,\n",
       "   'type': False,\n",
       "   'optional': False}],\n",
       " 'boolVars': [],\n",
       " 'hash_function': False}"
      ]
     },
     "execution_count": 28,
     "metadata": {},
     "output_type": "execute_result"
    }
   ],
   "source": [
    "types['GameRolePlayShowActorMessage']"
   ]
  },
  {
   "cell_type": "code",
   "execution_count": 11,
   "id": "39c6faa3",
   "metadata": {},
   "outputs": [
    {
     "data": {
      "text/plain": [
       "{'name': 'GameRolePlayCharacterInformations',\n",
       " 'parent': 'GameRolePlayHumanoidInformations',\n",
       " 'protocolId': 9999,\n",
       " 'vars': [{'name': 'alignmentInfos',\n",
       "   'length': None,\n",
       "   'type': 'ActorAlignmentInformations',\n",
       "   'optional': False}],\n",
       " 'boolVars': [],\n",
       " 'hash_function': False}"
      ]
     },
     "execution_count": 11,
     "metadata": {},
     "output_type": "execute_result"
    }
   ],
   "source": [
    "types['GameRolePlayCharacterInformations']"
   ]
  },
  {
   "cell_type": "code",
   "execution_count": 30,
   "id": "f911d58e",
   "metadata": {},
   "outputs": [
    {
     "data": {
      "text/plain": [
       "{'name': 'GameRolePlayHumanoidInformations',\n",
       " 'parent': 'GameRolePlayNamedActorInformations',\n",
       " 'protocolId': 2890,\n",
       " 'vars': [{'name': 'humanoidInfo',\n",
       "   'length': None,\n",
       "   'type': False,\n",
       "   'optional': False},\n",
       "  {'name': 'accountId', 'length': None, 'type': 'Int', 'optional': False}],\n",
       " 'boolVars': [],\n",
       " 'hash_function': False}"
      ]
     },
     "execution_count": 30,
     "metadata": {},
     "output_type": "execute_result"
    }
   ],
   "source": [
    "types['GameRolePlayHumanoidInformations']"
   ]
  },
  {
   "cell_type": "code",
   "execution_count": 31,
   "id": "bbbf233a",
   "metadata": {},
   "outputs": [
    {
     "data": {
      "text/plain": [
       "{'name': 'GameRolePlayNamedActorInformations',\n",
       " 'parent': 'GameRolePlayActorInformations',\n",
       " 'protocolId': 4532,\n",
       " 'vars': [{'name': 'name', 'length': None, 'type': 'UTF', 'optional': False}],\n",
       " 'boolVars': [],\n",
       " 'hash_function': False}"
      ]
     },
     "execution_count": 31,
     "metadata": {},
     "output_type": "execute_result"
    }
   ],
   "source": [
    "types['GameRolePlayNamedActorInformations']"
   ]
  },
  {
   "cell_type": "code",
   "execution_count": 32,
   "id": "4d77b582",
   "metadata": {},
   "outputs": [
    {
     "data": {
      "text/plain": [
       "{'name': 'GameRolePlayActorInformations',\n",
       " 'parent': 'GameContextActorInformations',\n",
       " 'protocolId': 6893,\n",
       " 'vars': [],\n",
       " 'boolVars': [],\n",
       " 'hash_function': False}"
      ]
     },
     "execution_count": 32,
     "metadata": {},
     "output_type": "execute_result"
    }
   ],
   "source": [
    "types['GameRolePlayActorInformations']"
   ]
  },
  {
   "cell_type": "code",
   "execution_count": 33,
   "id": "385408bd",
   "metadata": {},
   "outputs": [
    {
     "data": {
      "text/plain": [
       "{'name': 'GameContextActorInformations',\n",
       " 'parent': 'GameContextActorPositionInformations',\n",
       " 'protocolId': 6154,\n",
       " 'vars': [{'name': 'look',\n",
       "   'length': None,\n",
       "   'type': 'EntityLook',\n",
       "   'optional': False}],\n",
       " 'boolVars': [],\n",
       " 'hash_function': False}"
      ]
     },
     "execution_count": 33,
     "metadata": {},
     "output_type": "execute_result"
    }
   ],
   "source": [
    "types['GameContextActorInformations']"
   ]
  },
  {
   "cell_type": "code",
   "execution_count": 99,
   "id": "61ba1534",
   "metadata": {},
   "outputs": [
    {
     "data": {
      "text/plain": [
       "{'name': 'GameRolePlayHumanoidInformations',\n",
       " 'parent': 'GameRolePlayNamedActorInformations',\n",
       " 'protocolId': 2890,\n",
       " 'vars': [{'name': 'humanoidInfo',\n",
       "   'length': None,\n",
       "   'type': False,\n",
       "   'optional': False},\n",
       "  {'name': 'accountId', 'length': None, 'type': 'Int', 'optional': False}],\n",
       " 'boolVars': [],\n",
       " 'hash_function': False}"
      ]
     },
     "execution_count": 99,
     "metadata": {},
     "output_type": "execute_result"
    }
   ],
   "source": [
    "types['GameRolePlayHumanoidInformations']"
   ]
  },
  {
   "cell_type": "code",
   "execution_count": 106,
   "id": "2bf2c618",
   "metadata": {},
   "outputs": [
    {
     "data": {
      "text/plain": [
       "{'name': 'GameRolePlayHumanoidInformations',\n",
       " 'parent': 'GameRolePlayNamedActorInformations',\n",
       " 'protocolId': 2890,\n",
       " 'vars': [{'name': 'humanoidInfo',\n",
       "   'length': None,\n",
       "   'type': False,\n",
       "   'optional': False},\n",
       "  {'name': 'accountId', 'length': None, 'type': 'Int', 'optional': False}],\n",
       " 'boolVars': [],\n",
       " 'hash_function': False}"
      ]
     },
     "execution_count": 106,
     "metadata": {},
     "output_type": "execute_result"
    }
   ],
   "source": [
    "types_from_id[2890]"
   ]
  },
  {
   "cell_type": "code",
   "execution_count": null,
   "id": "1aa9e718",
   "metadata": {},
   "outputs": [],
   "source": []
  },
  {
   "cell_type": "code",
   "execution_count": null,
   "id": "60855989",
   "metadata": {},
   "outputs": [],
   "source": []
  },
  {
   "cell_type": "code",
   "execution_count": 7,
   "id": "6501d4cf",
   "metadata": {
    "collapsed": true
   },
   "outputs": [
    {
     "data": {
      "text/plain": [
       "{'name': 'EntityLook',\n",
       " 'parent': None,\n",
       " 'protocolId': 343,\n",
       " 'vars': [{'name': 'bonesId',\n",
       "   'length': None,\n",
       "   'type': 'VarUhShort',\n",
       "   'optional': False},\n",
       "  {'name': 'skins', 'length': 'Short', 'type': 'VarShort', 'optional': False},\n",
       "  {'name': 'indexedColors',\n",
       "   'length': 'Short',\n",
       "   'type': 'Int',\n",
       "   'optional': False},\n",
       "  {'name': 'scales', 'length': 'Short', 'type': 'VarShort', 'optional': False},\n",
       "  {'name': 'subentities',\n",
       "   'length': 'Short',\n",
       "   'type': 'SubEntity',\n",
       "   'optional': False}],\n",
       " 'boolVars': [],\n",
       " 'hash_function': False}"
      ]
     },
     "execution_count": 7,
     "metadata": {},
     "output_type": "execute_result"
    }
   ],
   "source": [
    "types['EntityLook']"
   ]
  },
  {
   "cell_type": "code",
   "execution_count": 8,
   "id": "136fe20d",
   "metadata": {
    "collapsed": true
   },
   "outputs": [
    {
     "data": {
      "text/plain": [
       "{'name': 'SubEntity',\n",
       " 'parent': None,\n",
       " 'protocolId': 2388,\n",
       " 'vars': [{'name': 'bindingPointCategory',\n",
       "   'length': None,\n",
       "   'type': 'Byte',\n",
       "   'optional': False},\n",
       "  {'name': 'bindingPointIndex',\n",
       "   'length': None,\n",
       "   'type': 'Byte',\n",
       "   'optional': False},\n",
       "  {'name': 'subEntityLook',\n",
       "   'length': None,\n",
       "   'type': 'EntityLook',\n",
       "   'optional': False}],\n",
       " 'boolVars': [],\n",
       " 'hash_function': False}"
      ]
     },
     "execution_count": 8,
     "metadata": {},
     "output_type": "execute_result"
    }
   ],
   "source": [
    "types['SubEntity']"
   ]
  },
  {
   "cell_type": "code",
   "execution_count": 98,
   "id": "5f9e56b8",
   "metadata": {},
   "outputs": [
    {
     "data": {
      "text/plain": [
       "{'name': 'GameRolePlayCharacterInformations',\n",
       " 'parent': 'GameRolePlayHumanoidInformations',\n",
       " 'protocolId': 9999,\n",
       " 'vars': [{'name': 'alignmentInfos',\n",
       "   'length': None,\n",
       "   'type': 'ActorAlignmentInformations',\n",
       "   'optional': False}],\n",
       " 'boolVars': [],\n",
       " 'hash_function': False}"
      ]
     },
     "execution_count": 98,
     "metadata": {},
     "output_type": "execute_result"
    }
   ],
   "source": [
    "types_from_id[9999]"
   ]
  },
  {
   "cell_type": "code",
   "execution_count": null,
   "id": "0388d6d0",
   "metadata": {},
   "outputs": [],
   "source": []
  },
  {
   "cell_type": "code",
   "execution_count": 96,
   "id": "a8356cad",
   "metadata": {},
   "outputs": [
    {
     "ename": "KeyError",
     "evalue": "'9999'",
     "output_type": "error",
     "traceback": [
      "\u001b[0;31m---------------------------------------------------------------------------\u001b[0m",
      "\u001b[0;31mKeyError\u001b[0m                                  Traceback (most recent call last)",
      "Cell \u001b[0;32mIn[96], line 1\u001b[0m\n\u001b[0;32m----> 1\u001b[0m \u001b[43mtypes\u001b[49m\u001b[43m[\u001b[49m\u001b[38;5;124;43m'\u001b[39;49m\u001b[38;5;124;43m9999\u001b[39;49m\u001b[38;5;124;43m'\u001b[39;49m\u001b[43m]\u001b[49m\n",
      "\u001b[0;31mKeyError\u001b[0m: '9999'"
     ]
    }
   ],
   "source": [
    "types['9999]"
   ]
  },
  {
   "cell_type": "code",
   "execution_count": null,
   "id": "50df3b56",
   "metadata": {},
   "outputs": [],
   "source": []
  },
  {
   "cell_type": "code",
   "execution_count": null,
   "id": "dac95b8c",
   "metadata": {},
   "outputs": [],
   "source": []
  },
  {
   "cell_type": "code",
   "execution_count": 50,
   "id": "e7192ae7",
   "metadata": {},
   "outputs": [
    {
     "data": {
      "text/plain": [
       "{'name': 'EntityDispositionInformations',\n",
       " 'parent': None,\n",
       " 'protocolId': 6822,\n",
       " 'vars': [{'name': 'cellId',\n",
       "   'length': None,\n",
       "   'type': 'Short',\n",
       "   'optional': False},\n",
       "  {'name': 'direction', 'length': None, 'type': 'Byte', 'optional': False}],\n",
       " 'boolVars': [],\n",
       " 'hash_function': False}"
      ]
     },
     "execution_count": 50,
     "metadata": {},
     "output_type": "execute_result"
    }
   ],
   "source": [
    "types['EntityDispositionInformations']"
   ]
  },
  {
   "cell_type": "code",
   "execution_count": null,
   "id": "bb541849",
   "metadata": {},
   "outputs": [],
   "source": []
  },
  {
   "cell_type": "code",
   "execution_count": null,
   "id": "00ad365c",
   "metadata": {},
   "outputs": [],
   "source": []
  },
  {
   "cell_type": "code",
   "execution_count": null,
   "id": "e3bd1c32",
   "metadata": {},
   "outputs": [],
   "source": []
  },
  {
   "cell_type": "code",
   "execution_count": 46,
   "id": "41ee910b",
   "metadata": {},
   "outputs": [
    {
     "data": {
      "text/plain": [
       "bytearray(b'\\xa6\\x0f\\xb5R')"
      ]
     },
     "execution_count": 46,
     "metadata": {},
     "output_type": "execute_result"
    }
   ],
   "source": [
    "import struct\n",
    "\n",
    "value = 388825809188.0\n",
    "ba = bytearray(struct.pack(\"f\", value))\n",
    "ba"
   ]
  },
  {
   "cell_type": "code",
   "execution_count": 47,
   "id": "fc0f8633",
   "metadata": {
    "scrolled": true
   },
   "outputs": [
    {
     "name": "stdout",
     "output_type": "stream",
     "text": [
      "['0xa6', '0x0f', '0xb5', '0x52']\n"
     ]
    }
   ],
   "source": [
    "print([ \"0x%02x\" % b for b in ba ])"
   ]
  },
  {
   "cell_type": "code",
   "execution_count": null,
   "id": "712f6135",
   "metadata": {},
   "outputs": [],
   "source": []
  },
  {
   "cell_type": "code",
   "execution_count": null,
   "id": "72e66d80",
   "metadata": {},
   "outputs": [],
   "source": []
  },
  {
   "cell_type": "code",
   "execution_count": 49,
   "id": "4845a31f",
   "metadata": {
    "scrolled": true
   },
   "outputs": [
    {
     "data": {
      "text/plain": [
       "b'\\x00\\x00\\x02\\x7f'"
      ]
     },
     "execution_count": 49,
     "metadata": {},
     "output_type": "execute_result"
    }
   ],
   "source": [
    "integer = 639\n",
    "integer.to_bytes(4, byteorder=\"big\")"
   ]
  },
  {
   "cell_type": "code",
   "execution_count": null,
   "id": "c0013d15",
   "metadata": {},
   "outputs": [],
   "source": []
  },
  {
   "cell_type": "code",
   "execution_count": null,
   "id": "663b8b9d",
   "metadata": {},
   "outputs": [],
   "source": [
    "\\x0fBV\\xa1\\xf4\\xc0I\\x00\\x00\\x1a\\xa6"
   ]
  },
  {
   "cell_type": "code",
   "execution_count": null,
   "id": "11df7f7a",
   "metadata": {},
   "outputs": [],
   "source": []
  },
  {
   "cell_type": "code",
   "execution_count": 44,
   "id": "adfcb317",
   "metadata": {},
   "outputs": [
    {
     "data": {
      "text/plain": [
       "b'\\x014'"
      ]
     },
     "execution_count": 44,
     "metadata": {},
     "output_type": "execute_result"
    }
   ],
   "source": [
    "integer = 308\n",
    "integer.to_bytes(2, byteorder=\"big\")"
   ]
  },
  {
   "cell_type": "code",
   "execution_count": null,
   "id": "a28868c9",
   "metadata": {},
   "outputs": [],
   "source": []
  },
  {
   "cell_type": "code",
   "execution_count": null,
   "id": "35a761a0",
   "metadata": {},
   "outputs": [],
   "source": []
  },
  {
   "cell_type": "code",
   "execution_count": 1,
   "id": "2676b461",
   "metadata": {},
   "outputs": [
    {
     "name": "stdout",
     "output_type": "stream",
     "text": [
      "<class 'bytes'>\n",
      "b'\\x00\\x00\\x00\\x00'\n"
     ]
    }
   ],
   "source": [
    "# Create empty bytes\n",
    "empty_bytes = bytes(4)\n",
    "print(type(empty_bytes))\n",
    "print(empty_bytes)"
   ]
  },
  {
   "cell_type": "code",
   "execution_count": 1,
   "id": "43981e3d",
   "metadata": {},
   "outputs": [
    {
     "name": "stderr",
     "output_type": "stream",
     "text": [
      "WARNING: No IPv4 address found on anpi0 !\n",
      "WARNING: No IPv4 address found on anpi1 !\n",
      "WARNING: more No IPv4 address found on en3 !\n"
     ]
    }
   ],
   "source": [
    "from scapy.all import PcapReader"
   ]
  },
  {
   "cell_type": "code",
   "execution_count": 2,
   "id": "27285b79",
   "metadata": {},
   "outputs": [
    {
     "name": "stdout",
     "output_type": "stream",
     "text": [
      "b'i]\\xc4\\x06\\x00\\x9eArene PDA Missiz B8 100% score 323 // 650.000k/5cbt - 1M2/10cbt // 40m a 170m en 30sec par combat // Disponible pour vos commandes 1-199-200 mp moi ! 1 place c\\xb7:I\\x00\\x08ck5nup7hBaeG`$\\x80\\x00\\x00\\x05Eio-I\\x00\\x00\\x08<:\\x87'\n",
      "b'\\x04\\xdd\\x00\\x00\\x03\\xa5\\x01\\x01'\n",
      "b'H\\x91\\x03(\\xb7\\x02x1\\x01\\x01\\x93\\x9c'\n",
      "b',\\xc9\\x08BS\\xcf\\xd5\\xc0I\\x00\\x00'\n",
      "b't\\x05\\x10\\x00\\x02\\x00\\xb3\\x00\\xa4\\x00\\x03\\xc0\\xd3\\x89\\x00\\x00\\x00\\x00\\x00'\n",
      "b\"ui\\x8b'\\x0fBV\\xa1\\xf4\\xc0I\\x00\\x00\\x1a\\xa6\\x014\\x00\\xff\\x04\\x00\\x00\\x00\\x04\\x01\\xff\\xff\\xf0\\x02\\xffL\\xdb\\x03\\xff\\x00\\xe6\\x04vdC\\x00\\x01x\\x00\\x01\\x02\\x00\\x02\\x00\\x07Z\\xdd\\x10\\xc4\\x1b\\xc5\\x1b\\x88\\x1c\\x9b\\x08\\xf0\\x1e\\x00\\x05\\x01\\xff\\xff\\xff\\x02\\xff\\xff\\xff\\x03\\xff\\xff\\xff\\x04\\x00\\xd2\\xd2\\x05\\xff\\xff\\xff\\x00\\x01\\x8c\\x01\\x00\\x00\\x00\\x06Nov-go\\x10\\x9e\\x00\\x08\\x00\\x00\\x00\\x03!\\xee\\x80\\x01\\x00\\x00#\\\\\\rl\\xff\\xff\\x03\\xff\\xff\\xff\\xff\\x13\\xd9\\x01\\x08\\xe1\\xcfC\\x00\\x00\\x00BV\\xa1\\xf4\\xc0d\\x00\\x00\"\n",
      "b'*1\\x0b\\x00\\x01\\xa4\\x82\\xcc\\xbe\\xa8\\x0b\\x00\\x01\\x00.\\xd5\\x0bBV\\xa1\\xf4\\xc0I\\x00\\x00\\x00\\x08\\x00'\n",
      "b'<!VBl\\x1al\\xc0$\\x80\\x00\\xff\\x04\\x00\\x00\\x00\\x04\\x01\\xdc\\x14<\\x02\\xff\\xff\\xf0\\x03\\xff\\xff\\xf0\\x04vdC\\x00\\x01x\\x00\\x01\\x02\\x00\\x02\\x00\\x06n\\x82\\x11\\xf4\\x01\\x92\\x01B\\xa5\\x04\\x00\\x07\\x01\\xff\\xd2|\\x02\\x00\\x00\\x00\\x03\\x03\\x04\\x04\\x04\\x00\\x00\\x00\\x05\\xa5\\x13\\n\\x079\\x1a\\\\\\x08\\xff\\xf8b\\x00\\x01\\x91\\x01\\x00\\x00.\\xd5\\x0bBl\\x1al\\xc0$\\x80\\x00\\x00\\x08\\x00<!PB0/\\x18\\x01$\\x00\\x00\\xff\\x04\\x00\\x00\\x00\\x04\\x01\\xdd\\xa0\\xdd\\x02\\xdc\\x14<\\x03\\xdc\\x14<\\x04vdC\\x00\\x01x\\x00\\x01\\x02\\x00\\x02\\x00\\x06\\x9e\\x0b\\xb7\\x11\\xb2\\x1d\\xb1\\x1d\\xb9\\x1d\\xa3\\x18\\x00\\x05\\x01\\xff\\xc3g\\x025#\\x05\\x03\\xb9\\x1aR\\x04\\xf8\\x9f\\xe7\\x05\\xe8\\xe4\\xd3\\x00\\x01\\x91\\x01\\x00\\x00.\\xd5\\x0bB0/\\x18\\x01$\\x00\\x00\\x10\\x08\\x00<!QBV\\xa1\\xf4\\xc0I\\x00\\x00\\xff\\x04\\x00\\x00\\x00\\x04\\x01\\xff\\xff\\xf0\\x02\\xffL\\xdb\\x03\\xff\\x00\\xe6\\x04vdC\\x00\\x01x\\x00\\x01\\x02\\x00\\x02\\x00\\x07Z\\xdd\\x10\\xc4\\x1b\\xc5\\x1b\\x88\\x1c\\x9b\\x08\\xf0\\x1e\\x00\\x05\\x01\\xff\\xff\\xff\\x02\\xff\\xff\\xff\\x03\\xff\\xff\\xff\\x04\\x00\\xd2\\xd2\\x05\\xff\\xff\\xff\\x00\\x01\\x8c\\x01\\x00\\x00.\\xd5\\x0bBV\\xa1\\xf4\\xc0I\\x00\\x00\\x00\\x08\\x00'\n",
      "b'\\x04\\xdd\\x00\\x00\\x03\\xb4\\x01\\x01'\n",
      "b'H\\x91\\x03)\\xb7\\x02x1\\x01\\x01\\x93\\x9c'\n",
      "b'(\\x05\\x00\\x00\\x03\\xb8\\x02&\\x01'\n",
      "b'H\\x91\\x03*\\x81\\x14\\x07e\\x1d\\x00\\x00\\x00&\\x00\\x0b\\x84\\x14\\x85\\x14\\xca\\x11\\xcc\\x03\\xd9\\x03\\xdc\\x03\\xe7\\x80\\x01\\xea\\x07\\xaf\\x02\\xb1\\n\\xfcp\\x93\\x9c'\n",
      "b't\\x05\\x10\\x00\\x02\\x00%\\x00\\x17\\x00\\x02Bl\\x1al\\xc0$\\x80\\x00'\n",
      "b'|i\\x00\\x00\\x03\\xbd\\x03\\xca\\x11\\x01'\n",
      "b'H\\x91\\x03+\\x9a>^\\xb9\\x1c\\xca\\x11\\x00\\x00\\x00&\\x00\\x01\\x85\\xac\\x1b\\xca\\x11\\x00\\x00\\x00&\\x00\\x00\\x00\\x03\\x8a\\x05\\xc21\\xb5\\xa2\\x04\\x93\\x9c'\n",
      "b',\\xc9\\x08Bl\\x1al\\xc0$\\x80\\x00'\n",
      "b'|i\\x00\\x00\\x03\\xc2\\x03\\xcc\\x03\\x01'\n",
      "b'H\\x91\\x03,\\x9a>^\\xb9\\x1c\\xcc\\x03\\x00\\x00\\x00&\\x00\\x01\\x8e\\xa8\\t\\xcc\\x03\\x00\\x00\\x00&\\x00\\x00\\x00\\x03\\xc8\\xd0\\x07\\x89\\x05\\xac\\x1b\\x93\\x9c'\n",
      "b'\\x04\\xdd\\x00\\x00\\x03\\xc6\\x01\\x01'\n",
      "b't\\x05\\x10\\x00\\x02\\x02\\x08\\x01\\xe0\\x00\\x03\\xc0\\xd3\\x89@\\x00\\x00\\x00\\x00'\n",
      "b'H\\x91\\x03-\\xb7\\x02x1\\x01\\x01\\x93\\x9c'\n",
      "b\"ui\\x86'\\x0fB0/\\x18\\x01$\\x00\\x00\\x1a\\xa6\\x00\\xc3\\x04\\xff\\x04\\x00\\x00\\x00\\x04\\x01\\xdd\\xa0\\xdd\\x02\\xdc\\x14<\\x03\\xdc\\x14<\\x04vdC\\x00\\x01x\\x00\\x01\\x02\\x00\\x02\\x00\\x06\\x9e\\x0b\\xb7\\x11\\xb2\\x1d\\xb1\\x1d\\xb9\\x1d\\xa3\\x18\\x00\\x05\\x01\\xff\\xc3g\\x025#\\x05\\x03\\xb9\\x1aR\\x04\\xf8\\x9f\\xe7\\x05\\xe8\\xe4\\xd3\\x00\\x01\\x91\\x01\\x00\\x00\\x00\\x07Mehrone\\x10\\x9e\\x00\\x08\\x00\\x01\\x00\\x02#\\\\!\\xa1\\x01\\xff\\xff\\x03\\xff\\xff\\xff\\xff\\x13\\xd9\\x01\\x02S\\xdek\\x00\\x00\\x00B0/\\x18\\x01\\xc5\\x00\\x00\"\n",
      "b'yX\\x00\\x00\\x03\\xcc'\n",
      "b'H\\x91\\x03.\\xd6<Y\\xa5\\x02\\x0b\\x00\\x93\\x9c'\n",
      "b'B\\xf9\\r\\xa4\\x82\\xc0\\x83\\x8a\\x1c\\x94\\xb9\\x1f\\xe3\\x02\\x00\\x01'\n",
      "b't\\x05\"\\x00\\x0b\\x014\\x01B\\x01Q\\x01_\\x01n\\x01|\\x01\\x8b\\x01\\xa7\\x01\\xc3\\x01\\xd0\\x01\\xec\\x00\\x00BV\\xa1\\xf4\\xc0I\\x00\\x00'\n",
      "b'i]<\\x06\\x00\\x16Qqn\\xc2\\xa0pour\\xc2\\xa0dj\\xc2\\xa0dramak?c\\xb7:V\\x00\\x07ziw178dBl\\x14}\\xc0$\\x80\\x00\\x00\\x06Rubbya\\x00\\x00\\x05\\xae\\xbb\\xab'\n",
      "b't\\x05\\x0e\\x00\\x01\\x01Q\\x00\\x00BV\\xa1\\xf4\\xc0I\\x00\\x00'\n",
      "b't\\x05\\x1e\\x00\\t\\x01Q\\x01_\\x01n\\x01|\\x01\\x8b\\x01\\x99\\x01\\xa8\\x01\\xc4\\x01\\xe0\\x00\\x00BV\\xa1\\xf4\\xc0I\\x00\\x00'\n",
      "b'uir\\'\\x0fBl%e\\x80$\\x80\\x00\\x1a\\xa6\\x00\\xc3\\x06\\x01\\x00\\x06n\\x83\\x11\\xa6\\x19\\xbf\\x01\\x81\\x0c\\x9b\\x08\\x00\\x05\\x01\\xff\\xd2|\\x02\\xff\\xa3\\x1a\\x03\\x95\\xaf(\\x04Vp\"\\x05\\xff\\xe8B\\x00\\x01\\x91\\x01\\x00\\x00\\x00\\x0cAmiphacrieur\\x10\\x9e\\x00\\x08\\x00\\x00\\x00\\x02\\x14\\xaa\\x00\\x01\\xc5\\x03\\x00\\x01M\\x00\\x00\\x00\\x01P\\x00\\x00\\x00\\x13\\xd9\\x01\\t\\xf3\\xceq\\x00\\x00\\x00Bl%e\\x80\\'\\xe0\\x00'\n",
      "b'ui8\\x14X\\xc0\\xd3\\x89@\\x00\\x00\\x00\\x00\\x1a\\xa6\\x01\\xe0\\x03\\xfe\\x04\\x00\\x00\\x00\\x00\\x00\\x00\\x00\\x00\\x00\\x08\\xd3\\x00\\x00\\x00\\xec\\x01\\x00\\x0b\\x00\\x01\\x00\\x00\\x01\\xeb\\x01\\x00\\x0b\\xae\\x03\\x00\\x00\\x00\\x00\\x00\\x00\\x00\\x00\\xff\\xff'\n",
      "b',\\xc9\\x08\\xc0\\xd3\\x89@\\x00\\x00\\x00\\x00,\\xc9\\x08BV\\xa1\\xf4\\xc0I\\x00\\x00,\\xc9\\x08\\xc0\\xd3\\x89@\\x00\\x00\\x00\\x00\\x91iB\\xd9\\x07\\x04\\x00\\x02%\\xc1\\x00BV\\xa1\\xf4\\xc0I\\x00\\x00\\xff\\x00\\x00\\x00\\x01%\\x06BV\\xa1\\xf4\\xc0I\\x00\\x00\\x00\\x06Nov-gol%\\xc1\\x01\\xc0\\xd3\\x89@\\x00\\x00\\x00\\x00\\xff\\x01\\x00\\x00\\x00\\x00\\x02\\xe0\\x03\\xe1\\x03\\x00\\x02\\x00\\x00N\\x9d\\x01\\x02c%#\\xd9\\x07\\x00BV\\xa1\\xf4\\xc0I\\x00\\x00\\xff\\x00\\x00\\x00\\x01%\\x06BV\\xa1\\xf4\\xc0I\\x00\\x00\\x00\\x06Nov-golc%\\x10\\xd9\\x07\\x01\\xc0\\xd3\\x89@\\x00\\x00\\x00\\x00\\xff\\x01\\x00\\x00\\x00c%\\x1f\\xd9\\x07\\x01\\xc0\\xd3\\x89@\\x00\\x00\\x00\\x00\\xff\\x01\\x00\\x00\\x01\\x02n\\xbf\\xf0\\x00\\x00\\x00\\x00\\x00\\x00\\x00\\x00\\x00\\xec\\x01c%.\\xd9\\x07\\x01\\xc0\\xd3\\x89@\\x00\\x00\\x00\\x00\\xff\\x01\\x00\\x00\\x02\\x02n\\xbf\\xf0\\x00\\x00\\x00\\x00\\x00\\x00\\x00\\x00\\x00\\xec\\x01\\x02n\\xc0\\x00\\x00\\x00\\x00\\x00\\x00\\x00\\x00\\x00\\x01\\xeb\\x01'\n",
      "b'\\x04\\xdd\\x00\\x00\\x03\\xe0\\x01\\x01'\n",
      "b'H\\x91\\x03/\\xb7\\x02x1\\x01\\x01\\x93\\x9c'\n",
      "b'B\\xf9\\r\\xa4\\x82\\xe0\\xbb\\x83\\x1c\\x94\\xb9\\x1f\\xe3\\x02\\x00\\x01'\n",
      "b'ui\\x93\\'\\x0fBl%8\\xc0$\\x80\\x00\\x1a\\xa6\\x00%\\x03\\x01\\x00\\x06[\\xe6\\x10\\xf7\\x01hC\\xff\\x04\\x00\\x07\\x01\\xff\\xc3g\\x02\\xf4\\x00\\x04\\x03Y\"U\\x04\\xa1;\\xa0\\x05\\xadl\\xad\\x07(\\x00\\x00\\x08\\xa0\\x00\\x03\\x00\\x01\\x87\\x01\\x00\\x00\\x00\\x06Ferbow\\x10\\x9e\\x00\\x08\\x00\\x01\\x00\\x03\\x05%\\xb5L\\x00\\x1bthe fangs of the white wolf\\x14O\\x00\\xa0\\x00\\x03\\x1e\\x00(\\x00\\x00!\\xee\\xc5\\x01\\x00\\x00\\x13\\xd9\\x01\\n3`\\xe0\\x00\\x00\\x00Bl%8\\xc0* \\x00'\n",
      "b'*1\\x0b\\x00\\x01\\xa4\\x82\\x98\\xce\\x92\\x1c\\x00\\x01\\x00'\n",
      "b'.\\xd5\\x0bBl%8\\xc0$\\x80\\x00\\x00\\x08\\x00<!WBl\\x1e\\xe5\\x00$\\x80\\x00\\xff\\x04\\x00\\x00\\x00\\x04\\x01\\x13\\x00\\x00\\x02\\x06\\x00\\x00\\x03\\x13\\x00\\x00\\x04vdC\\x00\\x01x\\x00\\x01\\x02\\x00\\x02\\x00\\x06[\\xe9\\x10\\xe9\\x17\\xe8\\x17\\xe4\\x17\\x80\\x06\\x00\\x07\\x01\\xff\\xff\\xff\\x02\\x00\\x00\\x00\\x03\\x00\\x00\\x00\\x04\\xff\\x07\\x07\\x05\\x0e\\x14\\xcd\\x071\\xa6(\\x08\\x00\\x00\\x00\\x00\\x01\\x87\\x01\\x00\\x00.\\xd5\\x0bBl\\x1e\\xe5\\x00$\\x80\\x00\\x00\\x08\\x00<!VB<\\xd4\\xc9\\x01$\\x00\\x00\\xff\\x04\\x00\\x00\\x00\\x04\\x01\\xdc\\x14<\\x02\\xdc\\x14<\\x03\\xf8\\xbf\\x01\\x04vdC\\x00\\x01x\\x00\\x01\\x02\\x00\\x02\\x00\\x06o\\x85\\x11\\xa8\\x02\\xcc\\x17B\\x80\\x04\\x00\\x07\\x01\\xfc\\xcct\\x02Ks\\xd0\\x03u ;\\x04eB\\xa3\\x05\\xff\\xe1<\\x07\\x00\\x00\\x00\\x08\\xff\\xff\\xff\\x00\\x01\\x8c\\x01\\x00\\x00.\\xd5\\x0bB<\\xd4\\xc9\\x01$\\x00\\x00\\x00\\x08\\x00<!TBl!\\xc7\\xc0$\\x80\\x00\\xff\\x04\\x00\\x00\\x00\\x04\\x01K\\x00\\x82\\x02@\\xe0\\xd0\\x03@\\xe0\\xd0\\x04vdC\\x00\\x01x\\x00\\x01\\x02\\x00\\x02\\x00\\x06\\x1e\\x82\\x10\\xf4\\x01^B\\xde\\x05\\x00\\x07\\x01\\x00\\x00\\x00\\x02\\xff\\xff\\xce\\x03\\x00\\x00\\x00\\x04\\xff\\xff\\xff\\x05\\xff\\xff\\xff\\x07\\x98\\x98\\x98\\x08\\\\\\xf89\\x00\\x01x\\x00\\x00.\\xd5\\x0bBl!\\xc7\\xc0$\\x80\\x00\\x00\\x08\\x00'\n",
      "b\"\\x05E\\x00\\x00\\x05\\xb5\\x10\\x00\\x03\\x11'!a!\\x99A\\xa6\\xc8\\x08\\x08\\x00\\x00\\x00\"\n",
      "b\"H\\x91\\x037\\xd1\\x02t\\x05\\x1a\\x00\\x07\\x01'\\x016\\x01D\\x01S\\x01a\\x01}\\x01\\x99\\x00\\x06Bl$o\\xc0$\\x80\\x00\\x93\\x9c\"\n",
      "b'\\x04\\xdd\\x00\\x00\\x05\\xb9\\x01\\x01'\n",
      "b'H\\x91\\x038\\xb7\\x02x1\\x01\\x01\\x93\\x9c'\n",
      "b't\\x058\\x00\\x16\\x00%\\x00A\\x00]\\x00j\\x00x\\x00\\x85\\x00\\x93\\x00\\xa0\\x00\\xae\\x00\\xbb\\x00\\xc9\\x00\\xd6\\x00\\xe4\\x00\\xf1\\x00\\xff\\x01\\x0c\\x01\\x1a\\x016\\x01C\\x01Q\\x01^\\x01z\\x00\\x02Bl%8\\xc0$\\x80\\x00'\n",
      "b'\\x01\\xa4\\x00\\x00\\x05\\xbe'\n",
      "b'H\\x91\\x029i\\x93\\x9c'\n",
      "b't\\x05\\x0e\\x00\\x01\\x00x\\x00\\x02Bl%8\\xc0$\\x80\\x00'\n",
      "b\"t\\x050\\x00\\x12\\x00x\\x00\\x85\\x00\\x93\\x00\\xa0\\x00\\xae\\x00\\xbb\\x00\\xc9\\x00\\xd6\\x00\\xe4\\x00\\xf1\\x00\\xff\\x01\\x0c\\x01\\x1a\\x01'\\x015\\x01B\\x01^\\x01z\\x00\\x02Bl%8\\xc0$\\x80\\x00\"\n",
      "b',\\xc9\\x08Bl$\\xa4\\x00$\\x80\\x00'\n",
      "b'\\x94}\\x05\\xdc\\x07\\x00\\x01\\x01N\\x9d\\x01\\x01'\n",
      "b'\\x05E\\x00\\x00,\\xc6\\x10\\x00\\x03q\\x98a}aaA\\xa6\\xc8\\x08\\x08\\x00\\x00\\x00'\n",
      "b'H\\x91\\x04\\x90\\x01\\xd1\\x02t\\x05\\x14\\x00\\x04\\x01\\x98\\x01\\x8b\\x01}\\x01a\\x00\\x01Bl$o\\xc0$\\x80\\x00\\x93\\x9c'\n",
      "b'\\x04\\xdd\\x00\\x00,\\xc7\\x01\\x01'\n",
      "b'H\\x91\\x04\\x91\\x01\\xb7\\x02x1\\x01\\x01\\x93\\x9c'\n",
      "b\"ui\\\\'\\x0fB`\\xe8\\xf6\\x80$\\x80\\x00\\x1a\\xa6\\x00%\\x06\\x01\\x00\\x06\\xff\\x0c\\xbe\\x11\\xfc\\t\\xbc\\x01E\\xde\\x05\\x00\\x05\\x01\\xfe\\xd1\\x92\\x02\\xfb\\xf1\\xbf\\x034'\\x1a\\x04\\xf9\\xe7\\x9f\\x05\\xab\\x8aP\\x00\\x01\\xa0\\x01\\x00\\x00\\x00\\x07Steamyh\\x10\\x9e\\x00\\x08\\x00\\x00\\x00\\x01\\x13\\xd9\\x01\\x04\\n\\xa3d\\x01\\x00\\x00B`\\xe8\\xf6\\x805 \\x00\"\n",
      "b'\\x01\\xa4\\x00\\x00,\\xcf'\n",
      "b'H\\x91\\x03\\x92\\x01i\\x93\\x9c'\n",
      "b\"uij'\\x0fBl$,\\xa0$\\x80\\x00\\x1a\\xa6\\x00\\xc3\\x04\\x01\\x00\\x06Z\\xdc\\x10\\xf0\\x08\\xef\\x08N\\xde\\x05\\x00\\x05\\x01\\xff\\xc8g\\x02\\x00\\x80\\xf0\\x03V\\x1b]\\x04\\xda\\xa4\\x19\\x05mmm\\x00\\x01\\x8c\\x01\\x00\\x00\\x00\\x05Rixem\\x10\\x9e\\x00\\x08\\x00\\x00\\x00\\x03!\\xeev\\x00\\x00#\\\\\\x0e\\xb9\\x01\\xff\\xff\\x03\\xff\\xff\\xff\\xff\\x13\\xd9\\x01\\x03\\xc0<\\xa8\\x02\\x00\\x00Bl$,\\xa0;\\xa0\\x00\"\n",
      "b'*1\\x0b\\x00\\x01\\xa4\\x82\\xd0\\xbd\\xf4\\x10\\x00\\x01\\x00.\\xd5\\x0bB`\\xe8\\xf6\\x80$\\x80\\x00\\x00\\x08\\x00'\n",
      "b'<!NBl\"e\\xe0$\\x80\\x00\\xff\\x04\\x00\\x00\\x00\\x04\\x01K\\x00\\x82\\x02\\xff\\xff\\xf0\\x03\\xff\\xff\\xf0\\x04vdC\\x00\\x01x\\x00\\x01\\x02\\x00\\x02\\x00\\x06\\x0b\\xe8\\x0f\\x96\\x1f\\x9f\\x1f\\x81\\x1e\\xc5\\x06\\x00\\x05\\x01\\xde\\x97X\\x02\\xea\\xe2\\xc7\\x031Dc\\x04\\xea\\xe2\\xc7\\x05763\\x00\\x01}\\x00\\x00.\\xd5\\x0bBl\"e\\xe0$\\x80\\x00\\x00\\x08\\x00<!^Bl\\x16\\x19 $\\x80\\x00\\xff\\x04\\x00\\x00\\x00\\x04\\x01\\xdc\\x14<\\x02\\xff\\xff\\xf0\\x03\\xff\\xff\\xf0\\x04vdC\\x00\\x01x\\x00\\x01\\x02\\x00\\x02\\x00\\x06P\\xd1\\x10\\xf4\\x01\\x92\\x01B\\xa7\\x04\\x00\\t\\x01\\xff\\xd2|\\x02\\xfd\\xde\\xbf\\x03\\xf8\\xd1\\x82\\x04\\x00\\x00\\x00\\x05\\xe6\\x00\\x00\\x07\\x00\\x00\\x00\\x08\\xec\\xe5\\x1b\\t\\x00\\x00\\x00\\n\\xa0\\xe4\\xfd\\x00\\x01\\x8c\\x01\\x00\\x00.\\xd5\\x0bBl\\x16\\x19 $\\x80\\x00\\x00\\x08\\x00<!bB`>\\x95\\xe0$\\x80\\x00\\xff\\x04\\x00\\x01\\x93\\x1b\\x00\\x04\\x01\\x02\\x8e\\x80\\x02\\x0f\\x96\\xa4\\x03\\x1bk\\xa0\\x04vdC\\x00\\x01x\\x00\\x01\\x02\\x00\\x02\\x00\\x06\\x9e\\x0b\\xb7\\x11\\xc0\\x03\\xad\\x01\\xa9!\\xdc\\x07\\x00\\t\\x01\\xff\\xc3g\\x02$\\x95\\x86\\x03$\\x91\\x83\\x04\\xfd\\xe4\\xc6\\x05\\xfc\\xe2\\xbf\\x07\\x1c\\x1c\\x1c\\x08\\xeb\\xbd\\x1e\\t\\x1c\\x1c\\x1c\\n\\xed\\xb8$\\x00\\x01\\x91\\x01\\x00\\x00.\\xd5\\x0bB`>\\x95\\xe0$\\x80\\x00\\x00\\x08\\x00'\n",
      "b'*1\\x0b\\x00\\x01\\xa4\\x82\\x94\\x8b\\x92\\x1c\\x00\\x01\\x00.\\xd5\\x0bBl$,\\xa0$\\x80\\x00\\x00\\x08\\x00'\n",
      "b'<!NBl\"e\\xe0$\\x80\\x00\\xff\\x04\\x00\\x00\\x00\\x04\\x01K\\x00\\x82\\x02\\xff\\xff\\xf0\\x03\\xff\\xff\\xf0\\x04vdC\\x00\\x01x\\x00\\x01\\x02\\x00\\x02\\x00\\x06\\x0b\\xe8\\x0f\\x96\\x1f\\x9f\\x1f\\x81\\x1e\\xc5\\x06\\x00\\x05\\x01\\xde\\x97X\\x02\\xea\\xe2\\xc7\\x031Dc\\x04\\xea\\xe2\\xc7\\x05763\\x00\\x01}\\x00\\x00.\\xd5\\x0bBl\"e\\xe0$\\x80\\x00\\x00\\x08\\x00<!^Bl\\x16\\x19 $\\x80\\x00\\xff\\x04\\x00\\x00\\x00\\x04\\x01\\xdc\\x14<\\x02\\xff\\xff\\xf0\\x03\\xff\\xff\\xf0\\x04vdC\\x00\\x01x\\x00\\x01\\x02\\x00\\x02\\x00\\x06P\\xd1\\x10\\xf4\\x01\\x92\\x01B\\xa7\\x04\\x00\\t\\x01\\xff\\xd2|\\x02\\xfd\\xde\\xbf\\x03\\xf8\\xd1\\x82\\x04\\x00\\x00\\x00\\x05\\xe6\\x00\\x00\\x07\\x00\\x00\\x00\\x08\\xec\\xe5\\x1b\\t\\x00\\x00\\x00\\n\\xa0\\xe4\\xfd\\x00\\x01\\x8c\\x01\\x00\\x00.\\xd5\\x0bBl\\x16\\x19 $\\x80\\x00\\x00\\x08\\x00<!bB`>\\x95\\xe0$\\x80\\x00\\xff\\x04\\x00\\x01\\x93\\x1b\\x00\\x04\\x01\\x02\\x8e\\x80\\x02\\x0f\\x96\\xa4\\x03\\x1bk\\xa0\\x04vdC\\x00\\x01x\\x00\\x01\\x02\\x00\\x02\\x00\\x06\\x9e\\x0b\\xb7\\x11\\xc0\\x03\\xad\\x01\\xa9!\\xdc\\x07\\x00\\t\\x01\\xff\\xc3g\\x02$\\x95\\x86\\x03$\\x91\\x83\\x04\\xfd\\xe4\\xc6\\x05\\xfc\\xe2\\xbf\\x07\\x1c\\x1c\\x1c\\x08\\xeb\\xbd\\x1e\\t\\x1c\\x1c\\x1c\\n\\xed\\xb8$\\x00\\x01\\x91\\x01\\x00\\x00.\\xd5\\x0bB`>\\x95\\xe0$\\x80\\x00\\x00\\x08\\x00'\n",
      "b',\\xc9\\x08BQ\\xe6g\\x80I\\x00\\x00'\n",
      "b'\\x04\\xdd\\x00\\x00,\\xe4\\x01\\x01'\n",
      "b'H\\x91\\x04\\x93\\x01\\xb7\\x02x1\\x01\\x01\\x93\\x9c'\n",
      "b'\\x05E\\x00\\x00,\\xe8\\x10\\x00\\x031a!|!\\x98A\\xa6\\xc8\\x08\\x08\\x00\\x00\\x00'\n",
      "b'H\\x91\\x04\\x94\\x01\\xd1\\x02t\\x05\\x14\\x00\\x04\\x01a\\x01o\\x01|\\x01\\x98\\x00\\x06Bl$o\\xc0$\\x80\\x00\\x93\\x9c'\n",
      "b'\\x01\\xa4\\x00\\x00,\\xec'\n",
      "b'H\\x91\\x03\\x95\\x01i\\x93\\x9c'\n",
      "b'\\x16\\r\\x00\\x00,\\xef\\x07\\x94\\xb9\\x1f\\x88\\xed\\xf6F'\n",
      "b'H\\x91\\x04\\x96\\x01\\x83\\x0bB\\xf9\\r\\xa4\\x82\\xf8\\x9b\\x92\\x1c\\x94\\xb9\\x1f\\xe3\\x02\\x00\\x01'\n",
      "b'H\\x95w\\x00\\x03\\x01\\nd\\x00E./056789:;A\\x0fDghijkmnow\\x99\\x01\\xa4\\x01\\xc3\\x01\\xb2\\x01\"#$&\\'()23<?BFGTW_`bl\\x98\\x01\\xa7\\x01\\xb3\\x01\\xb6\\x01\\xb7\\x01\\xb9\\x01\\xdb\\x01\\xe4\\x01\\xe5\\x01\\xaf\\x01\\x9e\\x01\\x9f\\x01\\xa0\\x01\\xa1\\x01\\xa2\\x01\\xa3\\x01\\xe7\\x01\\xe8\\x01\\xee\\x01\\xf1\\x01\\x86\\x02\\x8a\\x02\\xae\\x01@\\x00\\x00\\x00?\\x80\\x00\\x00<\\x02\\xff\\xff\\xff\\xff\\xa0\\x05\\x93\\x9c'\n",
      "b\"ui\\xe4'\\x0fBl\\x06\\xe1 $\\x80\\x00\\x1a\\xa6\\x00%\\x03\\xff\\x04\\x00\\x00\\x00\\x04\\x01\\x12\\r\\x10\\x02\\xff\\xff\\xf0\\x03\\xff\\xff\\xf0\\x04vdC\\x00\\x01x\\x00\\x01\\x02\\x00\\x02\\x00\\x06)\\x96\\x10\\xc0\\x03\\xb9\\x01?\\x80\\x06\\x00\\t\\x01\\xd5\\x9da\\x02\\xff\\xfb\\xd5\\x03VD3\\x04\\xff\\xfb\\xd5\\x05VD3\\x07\\xfc\\xfb\\xbe\\x08*X\\xce\\t\\xff\\xff\\xff\\n\\x0cC\\x91\\x00\\x01\\x9b\\x01\\x00\\x00\\x00\\x06Gypsow\\x10\\x9e\\x00\\x08\\x00\\x01\\x00\\x05\\x05%\\xd6.\\x00\\x0cBouftou Flex4]\\x00*X\\xce\\x04\\x00\\xfc\\xfb\\xbe\\x1a\\x9f\\xb5\\x08\\x00\\x03LAK\\x00\\x18Les Anciens Krosmonautes\\xd5\\x01\\x00\\x0cC\\x91\\x1b\\x00\\xff\\xff\\xff\\x00!\\xeeO\\x00\\x00#\\\\c\\x80\\x01\\xff\\xff\\x03\\xff\\xff\\xff\\xff\\x13\\xd9\\x01\\n\\x18q\\x94\\x02'\\x00Bl\\x06\\xe1 4\\x80\\x00\"\n",
      "b'*1\\x0b\\x00\\x01\\xa4\\x82\\xa4\\xb8\\x83\\x1c\\x00\\x01\\x00.\\xd5\\x0bBl\\x06\\xe1 $\\x80\\x00\\x00\\x08\\x00'\n",
      "b'<!NBl\"e\\xe0$\\x80\\x00\\xff\\x04\\x00\\x00\\x00\\x04\\x01K\\x00\\x82\\x02\\xff\\xff\\xf0\\x03\\xff\\xff\\xf0\\x04vdC\\x00\\x01x\\x00\\x01\\x02\\x00\\x02\\x00\\x06\\x0b\\xe8\\x0f\\x96\\x1f\\x9f\\x1f\\x81\\x1e\\xc5\\x06\\x00\\x05\\x01\\xde\\x97X\\x02\\xea\\xe2\\xc7\\x031Dc\\x04\\xea\\xe2\\xc7\\x05763\\x00\\x01}\\x00\\x00.\\xd5\\x0bBl\"e\\xe0$\\x80\\x00\\x00\\x08\\x00<!^Bl\\x16\\x19 $\\x80\\x00\\xff\\x04\\x00\\x00\\x00\\x04\\x01\\xdc\\x14<\\x02\\xff\\xff\\xf0\\x03\\xff\\xff\\xf0\\x04vdC\\x00\\x01x\\x00\\x01\\x02\\x00\\x02\\x00\\x06P\\xd1\\x10\\xf4\\x01\\x92\\x01B\\xa7\\x04\\x00\\t\\x01\\xff\\xd2|\\x02\\xfd\\xde\\xbf\\x03\\xf8\\xd1\\x82\\x04\\x00\\x00\\x00\\x05\\xe6\\x00\\x00\\x07\\x00\\x00\\x00\\x08\\xec\\xe5\\x1b\\t\\x00\\x00\\x00\\n\\xa0\\xe4\\xfd\\x00\\x01\\x8c\\x01\\x00\\x00.\\xd5\\x0bBl\\x16\\x19 $\\x80\\x00\\x00\\x08\\x00<!^Bl\\x06\\xe1 $\\x80\\x00\\xff\\x04\\x00\\x00\\x00\\x04\\x01\\x12\\r\\x10\\x02\\xff\\xff\\xf0\\x03\\xff\\xff\\xf0\\x04vdC\\x00\\x01x\\x00\\x01\\x02\\x00\\x02\\x00\\x06)\\x96\\x10\\xc0\\x03\\xb9\\x01?\\x80\\x06\\x00\\t\\x01\\xd5\\x9da\\x02\\xff\\xfb\\xd5\\x03VD3\\x04\\xff\\xfb\\xd5\\x05VD3\\x07\\xfc\\xfb\\xbe\\x08*X\\xce\\t\\xff\\xff\\xff\\n\\x0cC\\x91\\x00\\x01\\x9b\\x01\\x00\\x00.\\xd5\\x0bBl\\x06\\xe1 $\\x80\\x00\\x00\\x08\\x00<!bB`>\\x95\\xe0$\\x80\\x00\\xff\\x04\\x00\\x01\\x93\\x1b\\x00\\x04\\x01\\x02\\x8e\\x80\\x02\\x0f\\x96\\xa4\\x03\\x1bk\\xa0\\x04vdC\\x00\\x01x\\x00\\x01\\x02\\x00\\x02\\x00\\x06\\x9e\\x0b\\xb7\\x11\\xc0\\x03\\xad\\x01\\xa9!\\xdc\\x07\\x00\\t\\x01\\xff\\xc3g\\x02$\\x95\\x86\\x03$\\x91\\x83\\x04\\xfd\\xe4\\xc6\\x05\\xfc\\xe2\\xbf\\x07\\x1c\\x1c\\x1c\\x08\\xeb\\xbd\\x1e\\t\\x1c\\x1c\\x1c\\n\\xed\\xb8$\\x00\\x01\\x91\\x01\\x00\\x00.\\xd5\\x0bB`>\\x95\\xe0$\\x80\\x00\\x00\\x08\\x00'\n",
      "b'<!NBl\"e\\xe0$\\x80\\x00\\xff\\x04\\x00\\x00\\x00\\x04\\x01K\\x00\\x82\\x02\\xff\\xff\\xf0\\x03\\xff\\xff\\xf0\\x04vdC\\x00\\x01x\\x00\\x01\\x02\\x00\\x02\\x00\\x06\\x0b\\xe8\\x0f\\x96\\x1f\\x9f\\x1f\\x81\\x1e\\xc5\\x06\\x00\\x05\\x01\\xde\\x97X\\x02\\xea\\xe2\\xc7\\x031Dc\\x04\\xea\\xe2\\xc7\\x05763\\x00\\x01}\\x00\\x00.\\xd5\\x0bBl\"e\\xe0$\\x80\\x00\\x00\\x08\\x00<!^Bl\\x16\\x19 $\\x80\\x00\\xff\\x04\\x00\\x00\\x00\\x04\\x01\\xdc\\x14<\\x02\\xff\\xff\\xf0\\x03\\xff\\xff\\xf0\\x04vdC\\x00\\x01x\\x00\\x01\\x02\\x00\\x02\\x00\\x06P\\xd1\\x10\\xf4\\x01\\x92\\x01B\\xa7\\x04\\x00\\t\\x01\\xff\\xd2|\\x02\\xfd\\xde\\xbf\\x03\\xf8\\xd1\\x82\\x04\\x00\\x00\\x00\\x05\\xe6\\x00\\x00\\x07\\x00\\x00\\x00\\x08\\xec\\xe5\\x1b\\t\\x00\\x00\\x00\\n\\xa0\\xe4\\xfd\\x00\\x01\\x8c\\x01\\x00\\x00.\\xd5\\x0bBl\\x16\\x19 $\\x80\\x00\\x00\\x08\\x00<!^Bl\\x06\\xe1 $\\x80\\x00\\xff\\x04\\x00\\x00\\x00\\x04\\x01\\x12\\r\\x10\\x02\\xff\\xff\\xf0\\x03\\xff\\xff\\xf0\\x04vdC\\x00\\x01x\\x00\\x01\\x02\\x00\\x02\\x00\\x06)\\x96\\x10\\xc0\\x03\\xb9\\x01?\\x80\\x06\\x00\\t\\x01\\xd5\\x9da\\x02\\xff\\xfb\\xd5\\x03VD3\\x04\\xff\\xfb\\xd5\\x05VD3\\x07\\xfc\\xfb\\xbe\\x08*X\\xce\\t\\xff\\xff\\xff\\n\\x0cC\\x91\\x00\\x01\\x9b\\x01\\x00\\x00.\\xd5\\x0bBl\\x06\\xe1 $\\x80\\x00\\x00\\x08\\x00<!bB`>\\x95\\xe0$\\x80\\x00\\xff\\x04\\x00\\x01\\x93\\x1b\\x00\\x04\\x01\\x02\\x8e\\x80\\x02\\x0f\\x96\\xa4\\x03\\x1bk\\xa0\\x04vdC\\x00\\x01x\\x00\\x01\\x02\\x00\\x02\\x00\\x06\\x9e\\x0b\\xb7\\x11\\xc0\\x03\\xad\\x01\\xa9!\\xdc\\x07\\x00\\t\\x01\\xff\\xc3g\\x02$\\x95\\x86\\x03$\\x91\\x83\\x04\\xfd\\xe4\\xc6\\x05\\xfc\\xe2\\xbf\\x07\\x1c\\x1c\\x1c\\x08\\xeb\\xbd\\x1e\\t\\x1c\\x1c\\x1c\\n\\xed\\xb8$\\x00\\x01\\x91\\x01\\x00\\x00.\\xd5\\x0bB`>\\x95\\xe0$\\x80\\x00\\x00\\x08\\x00'\n",
      "b'(\\x05\\x00\\x00,\\xf5\\x02&\\x01'\n",
      "b'H\\x91\\x04\\x97\\x01\\x81\\x14\\x07e\\x1d\\x00\\x00\\x00&\\x00\\x0b\\x84\\x14\\x85\\x14\\xca\\x11\\xcc\\x03\\xd9\\x03\\xdc\\x03\\xe7\\x80\\x01\\xea\\x07\\xaf\\x02\\xb1\\n\\xfcp\\x93\\x9c'\n",
      "b'B\\xf9\\r\\xa4\\x82\\xd0\\xbd\\xf4\\x10\\x94\\xb9\\x1f\\xe3\\x02\\x00\\x01'\n",
      "b'|i\\x00\\x00-\\x04\\x03\\xb1\\n\\x01'\n",
      "b'H\\x91\\x04\\x98\\x01\\x9a>^\\xb9\\x1a\\xb1\\n\\x00\\x00\\x00&\\x00\\x01\\xe7\\x82\\x12\\xb1\\n\\x00\\x00\\x00&\\x00\\x00\\x00\\x03\\xbc\\xe3\\x02\\x00\\x00\\x93\\x9c'\n",
      "b'B\\xf9\\r\\xa4\\x82\\xa4\\xb8\\x83\\x1c\\x94\\xb9\\x1f\\xe3\\x02\\x00\\x01'\n",
      "b'|i\\x00\\x00-\\t\\x03\\x85\\x14\\x01'\n",
      "b'H\\x91\\x04\\x99\\x01\\x9a>'\n",
      "b'^\\xb9\\x1a\\x85\\x14\\x00\\x00\\x00&\\x00\\x01\\x97\\xf3 \\x85\\x14\\x00\\x00\\x00&\\x00\\x00\\x00\\x03\\t\\x9f\\x01\\xc7\\x12\\x93\\x9c'\n",
      "b'\\x04\\xdd\\x00\\x00-\\r\\x01\\x01'\n",
      "b'H\\x91\\x04\\x9a\\x01\\xb7\\x02x1\\x01\\x01\\x93\\x9c'\n",
      "b'|i\\x00\\x00-\\x11\\x03\\xaf\\x02\\x01'\n",
      "b'H\\x91\\x04\\x9b\\x01\\x9a>^\\xb9\\x1a\\xaf\\x02\\x00\\x00\\x00&\\x00\\x01\\xeb\\xc9\\x03\\xaf\\x02\\x00\\x00\\x00&\\x00\\x00\\x00\\x03E\\x8e\\x02\\xbf\\x13\\x93\\x9c'\n",
      "b't\\x054\\x00\\x14\\x014\\x01&\\x01\\x19\\x01\\x0b\\x00\\xfe\\x00\\xf0\\x00\\xe3\\x00\\xd5\\x00\\xc8\\x00\\xba\\x00\\xad\\x00\\x9f\\x00\\xa0\\x00\\xa1\\x00\\xa2\\x00\\xa3\\x00\\xa4\\x00\\xa5\\x00\\xa6\\x00\\xa7\\x00\\x00Bl\"e\\xe0$\\x80\\x00'\n",
      "b'yX\\x00\\x00-\\x16'\n",
      "b'H\\x91\\x04\\x9c\\x01\\xd6<Y\\xa5\\x02\\x0b\\x00\\x93\\x9c'\n",
      "b'\\x04\\xdd\\x00\\x00-\\x1a\\x01\\x01'\n",
      "b'H\\x91\\x04\\x9d\\x01\\xb7\\x02x1\\x01\\x01\\x93\\x9c'\n",
      "b'*1\\x0b\\x00\\x01\\xa4\\x82\\xcc\\x98\\x8f\\x1c\\x00\\x01\\x00.\\xd5\\x0bBl\\x1eb`$\\x80\\x00\\x00\\x08\\x00'\n",
      "b'<!^Bl\\x16\\x19 $\\x80\\x00\\xff\\x04\\x00\\x00\\x00\\x04\\x01\\xdc\\x14<\\x02\\xff\\xff\\xf0\\x03\\xff\\xff\\xf0\\x04vdC\\x00\\x01x\\x00\\x01\\x02\\x00\\x02\\x00\\x06P\\xd1\\x10\\xf4\\x01\\x92\\x01B\\xa7\\x04\\x00\\t\\x01\\xff\\xd2|\\x02\\xfd\\xde\\xbf\\x03\\xf8\\xd1\\x82\\x04\\x00\\x00\\x00\\x05\\xe6\\x00\\x00\\x07\\x00\\x00\\x00\\x08\\xec\\xe5\\x1b\\t\\x00\\x00\\x00\\n\\xa0\\xe4\\xfd\\x00\\x01\\x8c\\x01\\x00\\x00.\\xd5\\x0bBl\\x16\\x19 $\\x80\\x00\\x00\\x08\\x00<!bB`>\\x95\\xe0$\\x80\\x00\\xff\\x04\\x00\\x01\\x93\\x1b\\x00\\x04\\x01\\x02\\x8e\\x80\\x02\\x0f\\x96\\xa4\\x03\\x1bk\\xa0\\x04vdC\\x00\\x01x\\x00\\x01\\x02\\x00\\x02\\x00\\x06\\x9e\\x0b\\xb7\\x11\\xc0\\x03\\xad\\x01\\xa9!\\xdc\\x07\\x00\\t\\x01\\xff\\xc3g\\x02$\\x95\\x86\\x03$\\x91\\x83\\x04\\xfd\\xe4\\xc6\\x05\\xfc\\xe2\\xbf\\x07\\x1c\\x1c\\x1c\\x08\\xeb\\xbd\\x1e\\t\\x1c\\x1c\\x1c\\n\\xed\\xb8$\\x00\\x01\\x91\\x01\\x00\\x00.\\xd5\\x0bB`>\\x95\\xe0$\\x80\\x00\\x00\\x08\\x00<!VBl\\x1eb`$\\x80\\x00\\xff\\x04\\x00\\x00\\x00\\x04\\x01\\x13\\x00\\x00\\x02\\x06\\x00\\x00\\x03\\x13\\x00\\x00\\x04vdC\\x00\\x01x\\x00\\x01\\x02\\x00\\x02\\x00\\x06\\x15\\xf7\\x0f\\xde!\\xed\\t\\x81\\x14\\x94\\x1b\\x00\\x07\\x01\\xe8\\xb0h\\x02\\xda\\xdb\\xe5\\x03!$%\\x04\\xbd\\xfe\\xf6\\x05Wbu\\x07\\xfbx\\x19\\x08\\xff\\xff\\xff\\x00\\x01}\\x00\\x00.\\xd5\\x0bBl\\x1eb`$\\x80\\x00\\x00\\x08\\x00'\n",
      "b'i]F\\x06\\x00 recrute songe un last \\xc3\\xa9tage 257c\\xb7R\\xb3\\x00\\x08cvamtw9nB<=d\\x01$\\x00\\x00\\x00\\x05Izeey\\x00\\x00\\x05\\xed\\xbf\\xb6'\n",
      "b\"t\\x058\\x00\\x16\\x00\\xc3\\x00\\xb5\\x00\\xb4\\x00\\xb3\\x00\\xb2\\x00\\xb1\\x00\\xb0\\x00\\xaf\\x00\\xae\\x00\\xbb\\x00\\xc9\\x00\\xd6\\x00\\xe4\\x00\\xf1\\x00\\xff\\x01\\x0c\\x01\\x1a\\x01'\\x01&\\x01B\\x01^\\x01z\\x00\\x04Bl\\x1eb`$\\x80\\x00\"\n",
      "b'\\x05E\\x00\\x00-C\\x10\\x00\\x03Q\\xa8A|A{A\\xa6\\xc8\\x08\\x08\\x00\\x00\\x00'\n",
      "b'H\\x91\\x04\\xa1\\x01\\xd1\\x02t\\x05\\x16\\x00\\x05\\x01\\xa8\\x01\\x99\\x01\\x8b\\x01|\\x01{\\x00\\x01Bl$o\\xc0$\\x80\\x00\\x93\\x9c'\n",
      "b'\\x01\\xa4\\x00\\x00-G'\n",
      "b'H\\x91\\x03\\xa2\\x01i\\x93\\x9c'\n",
      "b'\\x16\\r\\x00\\x00-J\\x07\\x94\\xb9\\x1f\\x88\\xed\\xf6F'\n",
      "b'H\\x91\\x04\\xa3\\x01\\x83\\x0bB\\xf9\\r\\xa4\\x82\\xf8\\x9b\\x92\\x1c\\x94\\xb9\\x1f\\xe3\\x02\\x00\\x01'\n",
      "b'H\\x95w\\x00\\x03\\x01\\nd\\x00E./056789:;A\\x0fDghijkmnow\\x99\\x01\\xa4\\x01\\xc3\\x01\\xb2\\x01\"#$&\\'()23<?BFGTW_`bl\\x98\\x01\\xa7\\x01\\xb3\\x01\\xb6\\x01\\xb7\\x01\\xb9\\x01\\xdb\\x01\\xe4\\x01\\xe5\\x01\\xaf\\x01\\x9e\\x01\\x9f\\x01\\xa0\\x01\\xa1\\x01\\xa2\\x01\\xa3\\x01\\xe7\\x01\\xe8\\x01\\xee\\x01\\xf1\\x01\\x86\\x02\\x8a\\x02\\xae\\x01@\\x00\\x00\\x00?\\x80\\x00\\x00<\\x02\\xff\\xff\\xff\\xff\\xa0\\x05\\x93\\x9c'\n",
      "b'(\\x05\\x00\\x00-O\\x02&\\x01'\n",
      "b'H\\x91\\x04\\xa4\\x01\\x81\\x14\\x07e\\x1d\\x00\\x00\\x00&\\x00\\x0b\\x84\\x14\\x85\\x14\\xca\\x11\\xcc\\x03\\xd9\\x03\\xdc\\x03\\xe7\\x80\\x01\\xea\\x07\\xaf\\x02\\xb1\\n\\xfcp\\x93\\x9c'\n",
      "b'\\x04\\xdd\\x00\\x00-S\\x01\\x01'\n",
      "b'H\\x91\\x04\\xa5\\x01\\xb7\\x02'\n",
      "b'x1\\x01\\x01\\x93\\x9c'\n",
      "b\"i]>\\x06\\x00\\x12recrute songe 257+c\\xb7R\\xb6\\x00\\x087qw6yf2lBl\\x14\\xae $\\x80\\x00\\x00\\x0bRhums-peche\\x00\\x00\\x05\\xf9'\\xc5\"\n",
      "b'(\\x05\\x00\\x00-X\\x02w\\x01'\n",
      "b'H\\x91\\x04\\xa6\\x01\\x81\\x14\\x07e\\x17\\x00\\x00\\x00w\\x00\\x08\\xa5~\\xa6~\\xa7~\\xa8~\\x8a\\r\\x8b\\x81\\x01\\xf9\\x02\\xfa\\x02\\x93\\x9c'\n",
      "b',\\xc9\\x08Bl\\x1eb`$\\x80\\x00'\n",
      "b'|i\\x00\\x00-]\\x03\\xfcp\\x01'\n",
      "b'H\\x91\\x04\\xa7\\x01\\x9a>^\\xb9\\x1b\\xfcp\\x00\\x00\\x00&\\x00\\x01\\x8f\\xbd[\\xfcp\\x00\\x00\\x00&\\x00\\x00\\x00\\x03\\x88\\x01\\xd5\\n\\x94t\\x93\\x9c'\n",
      "b'yX\\x00\\x00-a'\n",
      "b'H\\x91\\x04\\xa8\\x01\\xd6<Y\\xa5\\x02\\x0b\\x00\\x93\\x9c'\n",
      "b'\\x04\\xdd\\x00\\x00-e\\x01\\x01'\n",
      "b'H\\x91\\x04\\xa9\\x01\\xb7\\x02x1\\x01\\x01\\x93\\x9c'\n",
      "b't\\x05:\\x00\\x17\\x00\\xc3\\x00\\xd1\\x00\\xde\\x00\\xec\\x01\\x08\\x01$\\x011\\x01?\\x01L\\x01Z\\x01Y\\x01f\\x01t\\x01\\x81\\x01\\x8f\\x01\\x9c\\x01\\x9b\\x01\\x9a\\x01\\x99\\x01\\x98\\x01\\xa6\\x01\\xa5\\x01\\xa4\\x00\\x04B`>\\x95\\xe0$\\x80\\x00'\n"
     ]
    }
   ],
   "source": [
    "p = PcapReader(\"../kamarketplace/data/captured_packets.pcap\")\n",
    "for packet in p:\n",
    "    load = bytes(packet[\"TCP\"].payload)\n",
    "    print(load)"
   ]
  },
  {
   "cell_type": "code",
   "execution_count": 48,
   "id": "ae37f05b",
   "metadata": {},
   "outputs": [
    {
     "data": {
      "text/plain": [
       "b't\\x05:\\x00\\x17\\x00\\xc3\\x00\\xd1\\x00\\xde\\x00\\xec\\x01\\x08\\x01$\\x011\\x01?\\x01L\\x01Z\\x01Y\\x01f\\x01t\\x01\\x81\\x01\\x8f\\x01\\x9c\\x01\\x9b\\x01\\x9a\\x01\\x99\\x01\\x98\\x01\\xa6\\x01\\xa5\\x01\\xa4\\x00\\x04B`>\\x95\\xe0$\\x80\\x00'"
      ]
     },
     "execution_count": 48,
     "metadata": {},
     "output_type": "execute_result"
    }
   ],
   "source": [
    "load"
   ]
  },
  {
   "cell_type": "code",
   "execution_count": 31,
   "id": "d690ede9",
   "metadata": {
    "scrolled": true
   },
   "outputs": [
    {
     "data": {
      "text/plain": [
       "b't\\x05'"
      ]
     },
     "execution_count": 31,
     "metadata": {},
     "output_type": "execute_result"
    }
   ],
   "source": [
    "load[:2]"
   ]
  },
  {
   "cell_type": "code",
   "execution_count": 34,
   "id": "1016101e",
   "metadata": {},
   "outputs": [
    {
     "data": {
      "text/plain": [
       "'01110100'"
      ]
     },
     "execution_count": 34,
     "metadata": {},
     "output_type": "execute_result"
    }
   ],
   "source": [
    "get_bin = lambda x, n: format(x, 'b').zfill(n)\n",
    "get_bin(load[0], 8)"
   ]
  },
  {
   "cell_type": "code",
   "execution_count": 35,
   "id": "6685bd0f",
   "metadata": {
    "scrolled": true
   },
   "outputs": [
    {
     "data": {
      "text/plain": [
       "'00000101'"
      ]
     },
     "execution_count": 35,
     "metadata": {},
     "output_type": "execute_result"
    }
   ],
   "source": [
    "get_bin(load[1], 8)"
   ]
  },
  {
   "cell_type": "code",
   "execution_count": 51,
   "id": "3492b421",
   "metadata": {},
   "outputs": [
    {
     "ename": "TypeError",
     "evalue": "ord() expected string of length 1, but int found",
     "output_type": "error",
     "traceback": [
      "\u001b[0;31m---------------------------------------------------------------------------\u001b[0m",
      "\u001b[0;31mTypeError\u001b[0m                                 Traceback (most recent call last)",
      "Cell \u001b[0;32mIn[51], line 1\u001b[0m\n\u001b[0;32m----> 1\u001b[0m bytes_as_bits \u001b[38;5;241m=\u001b[39m \u001b[38;5;124;43m'\u001b[39;49m\u001b[38;5;124;43m'\u001b[39;49m\u001b[38;5;241;43m.\u001b[39;49m\u001b[43mjoin\u001b[49m\u001b[43m(\u001b[49m\u001b[38;5;28;43mformat\u001b[39;49m\u001b[43m(\u001b[49m\u001b[38;5;28;43mord\u001b[39;49m\u001b[43m(\u001b[49m\u001b[43mbyte\u001b[49m\u001b[43m)\u001b[49m\u001b[43m,\u001b[49m\u001b[43m \u001b[49m\u001b[38;5;124;43m'\u001b[39;49m\u001b[38;5;124;43m08b\u001b[39;49m\u001b[38;5;124;43m'\u001b[39;49m\u001b[43m)\u001b[49m\u001b[43m \u001b[49m\u001b[38;5;28;43;01mfor\u001b[39;49;00m\u001b[43m \u001b[49m\u001b[43mbyte\u001b[49m\u001b[43m \u001b[49m\u001b[38;5;129;43;01min\u001b[39;49;00m\u001b[43m \u001b[49m\u001b[43mload\u001b[49m\u001b[43m[\u001b[49m\u001b[43m:\u001b[49m\u001b[38;5;241;43m2\u001b[39;49m\u001b[43m]\u001b[49m\u001b[43m)\u001b[49m\n",
      "Cell \u001b[0;32mIn[51], line 1\u001b[0m, in \u001b[0;36m<genexpr>\u001b[0;34m(.0)\u001b[0m\n\u001b[0;32m----> 1\u001b[0m bytes_as_bits \u001b[38;5;241m=\u001b[39m \u001b[38;5;124m'\u001b[39m\u001b[38;5;124m'\u001b[39m\u001b[38;5;241m.\u001b[39mjoin(\u001b[38;5;28mformat\u001b[39m(\u001b[38;5;28;43mord\u001b[39;49m\u001b[43m(\u001b[49m\u001b[43mbyte\u001b[49m\u001b[43m)\u001b[49m, \u001b[38;5;124m'\u001b[39m\u001b[38;5;124m08b\u001b[39m\u001b[38;5;124m'\u001b[39m) \u001b[38;5;28;01mfor\u001b[39;00m byte \u001b[38;5;129;01min\u001b[39;00m load[:\u001b[38;5;241m2\u001b[39m])\n",
      "\u001b[0;31mTypeError\u001b[0m: ord() expected string of length 1, but int found"
     ]
    }
   ],
   "source": [
    "bytes_as_bits = ''.join(format(ord(byte), '08b') for byte in load[:2])"
   ]
  },
  {
   "cell_type": "code",
   "execution_count": 56,
   "id": "53b79b75",
   "metadata": {},
   "outputs": [
    {
     "data": {
      "text/plain": [
       "b't\\x05:\\x00\\x17\\x00\\xc3\\x00\\xd1\\x00\\xde\\x00\\xec\\x01\\x08\\x01$\\x011\\x01?\\x01L\\x01Z\\x01Y\\x01f\\x01t\\x01\\x81\\x01\\x8f\\x01\\x9c\\x01\\x9b\\x01\\x9a\\x01\\x99\\x01\\x98\\x01\\xa6\\x01\\xa5\\x01\\xa4\\x00\\x04B`>\\x95\\xe0$\\x80\\x00'"
      ]
     },
     "execution_count": 56,
     "metadata": {},
     "output_type": "execute_result"
    }
   ],
   "source": [
    "load"
   ]
  },
  {
   "cell_type": "code",
   "execution_count": null,
   "id": "7c92f928",
   "metadata": {},
   "outputs": [],
   "source": []
  },
  {
   "cell_type": "code",
   "execution_count": 66,
   "id": "cb1f625d",
   "metadata": {},
   "outputs": [
    {
     "data": {
      "text/plain": [
       "'0111010000000101'"
      ]
     },
     "execution_count": 66,
     "metadata": {},
     "output_type": "execute_result"
    }
   ],
   "source": [
    "# bytes = '\\xf0\\x0f'\n",
    "bytes_as_bits = ''.join(format(byte, '08b') for byte in load[:2])\n",
    "bytes_as_bits"
   ]
  },
  {
   "cell_type": "code",
   "execution_count": 70,
   "id": "d2ae1047",
   "metadata": {},
   "outputs": [],
   "source": [
    "get_bin = lambda x, n: ''.join(format(byte, '08b') for byte in x)"
   ]
  },
  {
   "cell_type": "code",
   "execution_count": 71,
   "id": "95450b8b",
   "metadata": {},
   "outputs": [
    {
     "data": {
      "text/plain": [
       "'0111010000000101'"
      ]
     },
     "execution_count": 71,
     "metadata": {},
     "output_type": "execute_result"
    }
   ],
   "source": [
    "get_bin(load[:2], 1)"
   ]
  },
  {
   "cell_type": "code",
   "execution_count": null,
   "id": "0de23ef7",
   "metadata": {},
   "outputs": [],
   "source": []
  },
  {
   "cell_type": "code",
   "execution_count": 38,
   "id": "ce567b88",
   "metadata": {
    "scrolled": true
   },
   "outputs": [
    {
     "data": {
      "text/plain": [
       "29701"
      ]
     },
     "execution_count": 38,
     "metadata": {},
     "output_type": "execute_result"
    }
   ],
   "source": [
    "int.from_bytes(load[:2], byteorder='big')"
   ]
  },
  {
   "cell_type": "code",
   "execution_count": null,
   "id": "fbe203c6",
   "metadata": {},
   "outputs": [],
   "source": []
  },
  {
   "cell_type": "code",
   "execution_count": 10,
   "id": "66b4ead1",
   "metadata": {
    "collapsed": true
   },
   "outputs": [
    {
     "name": "stdout",
     "output_type": "stream",
     "text": [
      "116\n",
      "5\n",
      "58\n",
      "0\n",
      "23\n",
      "0\n",
      "195\n",
      "0\n",
      "209\n",
      "0\n",
      "222\n",
      "0\n",
      "236\n",
      "1\n",
      "8\n",
      "1\n",
      "36\n",
      "1\n",
      "49\n",
      "1\n",
      "63\n",
      "1\n",
      "76\n",
      "1\n",
      "90\n",
      "1\n",
      "89\n",
      "1\n",
      "102\n",
      "1\n",
      "116\n",
      "1\n",
      "129\n",
      "1\n",
      "143\n",
      "1\n",
      "156\n",
      "1\n",
      "155\n",
      "1\n",
      "154\n",
      "1\n",
      "153\n",
      "1\n",
      "152\n",
      "1\n",
      "166\n",
      "1\n",
      "165\n",
      "1\n",
      "164\n",
      "0\n",
      "4\n",
      "66\n",
      "96\n",
      "62\n",
      "149\n",
      "224\n",
      "36\n",
      "128\n",
      "0\n"
     ]
    }
   ],
   "source": [
    "for l in load:\n",
    "    print(l)"
   ]
  },
  {
   "cell_type": "code",
   "execution_count": null,
   "id": "6e59f9f5",
   "metadata": {},
   "outputs": [],
   "source": []
  }
 ],
 "metadata": {
  "kernelspec": {
   "display_name": "Python 3 (ipykernel)",
   "language": "python",
   "name": "python3"
  },
  "language_info": {
   "codemirror_mode": {
    "name": "ipython",
    "version": 3
   },
   "file_extension": ".py",
   "mimetype": "text/x-python",
   "name": "python",
   "nbconvert_exporter": "python",
   "pygments_lexer": "ipython3",
   "version": "3.9.1"
  }
 },
 "nbformat": 4,
 "nbformat_minor": 5
}
