{
 "cells": [
  {
   "cell_type": "code",
   "execution_count": 2,
   "id": "194813de",
   "metadata": {},
   "outputs": [],
   "source": [
    "import os\n",
    "import pickle"
   ]
  },
  {
   "cell_type": "code",
   "execution_count": 3,
   "id": "84911f49",
   "metadata": {},
   "outputs": [],
   "source": [
    "with open(os.path.dirname(os.path.abspath(\"__file__\")) + \"/protocol.pk\", mode=\"rb\") as f:\n",
    "    types = pickle.load(f)\n",
    "    msg_from_id = pickle.load(f)\n",
    "    types_from_id = pickle.load(f)\n",
    "    primitives = pickle.load(f)"
   ]
  },
  {
   "cell_type": "code",
   "execution_count": 13,
   "id": "1df17a38",
   "metadata": {
    "scrolled": true
   },
   "outputs": [
    {
     "data": {
      "text/plain": [
       "{'name': 'ExchangeTypesItemsExchangerDescriptionForUserMessage',\n",
       " 'parent': None,\n",
       " 'protocolId': 6062,\n",
       " 'vars': [{'name': 'objectGID',\n",
       "   'length': None,\n",
       "   'type': 'VarUhInt',\n",
       "   'optional': False},\n",
       "  {'name': 'objectType', 'length': None, 'type': 'Int', 'optional': False},\n",
       "  {'name': 'itemTypeDescriptions',\n",
       "   'length': 'Short',\n",
       "   'type': 'BidExchangerObjectInfo',\n",
       "   'optional': False}],\n",
       " 'boolVars': [],\n",
       " 'hash_function': False}"
      ]
     },
     "execution_count": 13,
     "metadata": {},
     "output_type": "execute_result"
    }
   ],
   "source": [
    "types['ExchangeTypesItemsExchangerDescriptionForUserMessage']"
   ]
  },
  {
   "cell_type": "code",
   "execution_count": 9,
   "id": "82bbad17",
   "metadata": {
    "collapsed": true
   },
   "outputs": [
    {
     "data": {
      "text/plain": [
       "{'name': 'ExchangeTypesItemsExchangerDescriptionForUserMessage',\n",
       " 'parent': None,\n",
       " 'protocolId': 6062,\n",
       " 'vars': [{'name': 'objectGID',\n",
       "   'length': None,\n",
       "   'type': 'VarUhInt',\n",
       "   'optional': False},\n",
       "  {'name': 'objectType', 'length': None, 'type': 'Int', 'optional': False},\n",
       "  {'name': 'itemTypeDescriptions',\n",
       "   'length': 'Short',\n",
       "   'type': 'BidExchangerObjectInfo',\n",
       "   'optional': False}],\n",
       " 'boolVars': [],\n",
       " 'hash_function': False}"
      ]
     },
     "execution_count": 9,
     "metadata": {},
     "output_type": "execute_result"
    }
   ],
   "source": [
    "msg_from_id[6062]"
   ]
  },
  {
   "cell_type": "code",
   "execution_count": 14,
   "id": "39c6faa3",
   "metadata": {},
   "outputs": [
    {
     "data": {
      "text/plain": [
       "{'name': 'BidExchangerObjectInfo',\n",
       " 'parent': None,\n",
       " 'protocolId': 9027,\n",
       " 'vars': [{'name': 'objectUID',\n",
       "   'length': None,\n",
       "   'type': 'VarUhInt',\n",
       "   'optional': False},\n",
       "  {'name': 'objectGID', 'length': None, 'type': 'VarUhInt', 'optional': False},\n",
       "  {'name': 'objectType', 'length': None, 'type': 'Int', 'optional': False},\n",
       "  {'name': 'effects', 'length': 'Short', 'type': False, 'optional': False},\n",
       "  {'name': 'prices', 'length': 'Short', 'type': 'VarLong', 'optional': False}],\n",
       " 'boolVars': [],\n",
       " 'hash_function': False}"
      ]
     },
     "execution_count": 14,
     "metadata": {},
     "output_type": "execute_result"
    }
   ],
   "source": [
    "types['BidExchangerObjectInfo']"
   ]
  },
  {
   "cell_type": "code",
   "execution_count": 10,
   "id": "a31f5169",
   "metadata": {},
   "outputs": [
    {
     "data": {
      "text/plain": [
       "{'name': 'BidExchangerObjectInfo',\n",
       " 'parent': None,\n",
       " 'protocolId': 9027,\n",
       " 'vars': [{'name': 'objectUID',\n",
       "   'length': None,\n",
       "   'type': 'VarUhInt',\n",
       "   'optional': False},\n",
       "  {'name': 'objectGID', 'length': None, 'type': 'VarUhInt', 'optional': False},\n",
       "  {'name': 'objectType', 'length': None, 'type': 'Int', 'optional': False},\n",
       "  {'name': 'effects', 'length': 'Short', 'type': False, 'optional': False},\n",
       "  {'name': 'prices', 'length': 'Short', 'type': 'VarLong', 'optional': False}],\n",
       " 'boolVars': [],\n",
       " 'hash_function': False}"
      ]
     },
     "execution_count": 10,
     "metadata": {},
     "output_type": "execute_result"
    }
   ],
   "source": [
    "types_from_id[9027]"
   ]
  },
  {
   "cell_type": "code",
   "execution_count": null,
   "id": "41ee910b",
   "metadata": {},
   "outputs": [],
   "source": []
  },
  {
   "cell_type": "code",
   "execution_count": null,
   "id": "4845a31f",
   "metadata": {},
   "outputs": [],
   "source": []
  },
  {
   "cell_type": "code",
   "execution_count": 12,
   "id": "dbfe89f9",
   "metadata": {},
   "outputs": [
    {
     "data": {
      "text/plain": [
       "{'Boolean',\n",
       " 'Byte',\n",
       " 'ByteArray',\n",
       " 'Double',\n",
       " 'Float',\n",
       " 'Int',\n",
       " 'Short',\n",
       " 'UTF',\n",
       " 'UnsignedByte',\n",
       " 'UnsignedInt',\n",
       " 'UnsignedShort',\n",
       " 'VarInt',\n",
       " 'VarLong',\n",
       " 'VarShort',\n",
       " 'VarUhInt',\n",
       " 'VarUhLong',\n",
       " 'VarUhShort'}"
      ]
     },
     "execution_count": 12,
     "metadata": {},
     "output_type": "execute_result"
    }
   ],
   "source": [
    "primitives"
   ]
  },
  {
   "cell_type": "code",
   "execution_count": null,
   "id": "68aee18c",
   "metadata": {},
   "outputs": [],
   "source": [
    "{'__type__': 'ExchangeTypesItemsExchangerDescriptionForUserMessage',\n",
    " 'itemTypeDescriptions': [{'__type__': 'BidExchangerObjectInfo',\n",
    "                           'effects': [],\n",
    "                           'objectGID': 437,\n",
    "                           'objectType': 108,\n",
    "                           'objectUID': 140441,\n",
    "                           'prices': [8, 100, 6193]}],\n",
    " 'objectGID': 437,\n",
    " 'objectType': 108}"
   ]
  },
  {
   "cell_type": "code",
   "execution_count": 4,
   "id": "a1c849b7",
   "metadata": {},
   "outputs": [
    {
     "data": {
      "text/plain": [
       "{'name': 'ExchangeTypesItemsExchangerDescriptionForUserMessage',\n",
       " 'parent': None,\n",
       " 'protocolId': 6062,\n",
       " 'vars': [{'name': 'objectGID',\n",
       "   'length': None,\n",
       "   'type': 'VarUhInt',\n",
       "   'optional': False},\n",
       "  {'name': 'objectType', 'length': None, 'type': 'Int', 'optional': False},\n",
       "  {'name': 'itemTypeDescriptions',\n",
       "   'length': 'Short',\n",
       "   'type': 'BidExchangerObjectInfo',\n",
       "   'optional': False}],\n",
       " 'boolVars': [],\n",
       " 'hash_function': False}"
      ]
     },
     "execution_count": 4,
     "metadata": {},
     "output_type": "execute_result"
    }
   ],
   "source": [
    "types['ExchangeTypesItemsExchangerDescriptionForUserMessage']"
   ]
  },
  {
   "cell_type": "code",
   "execution_count": 5,
   "id": "1c91f1df",
   "metadata": {},
   "outputs": [
    {
     "data": {
      "text/plain": [
       "{'name': 'BidExchangerObjectInfo',\n",
       " 'parent': None,\n",
       " 'protocolId': 9027,\n",
       " 'vars': [{'name': 'objectUID',\n",
       "   'length': None,\n",
       "   'type': 'VarUhInt',\n",
       "   'optional': False},\n",
       "  {'name': 'objectGID', 'length': None, 'type': 'VarUhInt', 'optional': False},\n",
       "  {'name': 'objectType', 'length': None, 'type': 'Int', 'optional': False},\n",
       "  {'name': 'effects', 'length': 'Short', 'type': False, 'optional': False},\n",
       "  {'name': 'prices', 'length': 'Short', 'type': 'VarLong', 'optional': False}],\n",
       " 'boolVars': [],\n",
       " 'hash_function': False}"
      ]
     },
     "execution_count": 5,
     "metadata": {},
     "output_type": "execute_result"
    }
   ],
   "source": [
    "types['BidExchangerObjectInfo']"
   ]
  },
  {
   "cell_type": "code",
   "execution_count": 37,
   "id": "790273e5",
   "metadata": {},
   "outputs": [
    {
     "ename": "KeyError",
     "evalue": "'VarLong'",
     "output_type": "error",
     "traceback": [
      "\u001b[0;31m---------------------------------------------------------------------------\u001b[0m",
      "\u001b[0;31mKeyError\u001b[0m                                  Traceback (most recent call last)",
      "Cell \u001b[0;32mIn[37], line 1\u001b[0m\n\u001b[0;32m----> 1\u001b[0m \u001b[43mtypes\u001b[49m\u001b[43m[\u001b[49m\u001b[38;5;124;43m'\u001b[39;49m\u001b[38;5;124;43mVarLong\u001b[39;49m\u001b[38;5;124;43m'\u001b[39;49m\u001b[43m]\u001b[49m\n",
      "\u001b[0;31mKeyError\u001b[0m: 'VarLong'"
     ]
    }
   ],
   "source": [
    "types['VarLong']"
   ]
  },
  {
   "cell_type": "code",
   "execution_count": null,
   "id": "5050a1e6",
   "metadata": {},
   "outputs": [],
   "source": []
  },
  {
   "cell_type": "code",
   "execution_count": 38,
   "id": "84f99a55",
   "metadata": {},
   "outputs": [
    {
     "data": {
      "text/plain": [
       "{'Boolean',\n",
       " 'Byte',\n",
       " 'ByteArray',\n",
       " 'Double',\n",
       " 'Float',\n",
       " 'Int',\n",
       " 'Short',\n",
       " 'UTF',\n",
       " 'UnsignedByte',\n",
       " 'UnsignedInt',\n",
       " 'UnsignedShort',\n",
       " 'VarInt',\n",
       " 'VarLong',\n",
       " 'VarShort',\n",
       " 'VarUhInt',\n",
       " 'VarUhLong',\n",
       " 'VarUhShort'}"
      ]
     },
     "execution_count": 38,
     "metadata": {},
     "output_type": "execute_result"
    }
   ],
   "source": [
    "primitives"
   ]
  },
  {
   "cell_type": "code",
   "execution_count": null,
   "id": "e546abb9",
   "metadata": {},
   "outputs": [],
   "source": []
  },
  {
   "cell_type": "markdown",
   "id": "5ab73d14",
   "metadata": {},
   "source": [
    "# Sniffing"
   ]
  },
  {
   "cell_type": "code",
   "execution_count": null,
   "id": "c62e399f",
   "metadata": {},
   "outputs": [],
   "source": [
    "from scapy.all import *"
   ]
  },
  {
   "cell_type": "code",
   "execution_count": 22,
   "id": "12f71d0e",
   "metadata": {},
   "outputs": [],
   "source": [
    "def print_packet(packet):\n",
    "    ip_layer = packet.getlayer(IP)\n",
    "    print(\"[!] New Packet: {src} -> {dst}\".format(src=ip_layer.src, dst=ip_layer.dst))"
   ]
  },
  {
   "cell_type": "code",
   "execution_count": null,
   "id": "cca1bec8",
   "metadata": {},
   "outputs": [],
   "source": [
    "class Packet(self)"
   ]
  },
  {
   "cell_type": "code",
   "execution_count": null,
   "id": "a6d0dbfc",
   "metadata": {},
   "outputs": [],
   "source": [
    "# Everytime a packet is sniffed\n",
    "# check if the packet is received, otherwise next\n",
    "# check if the packet has the right ID, otherwise next\n",
    "# store the packet in a buffer before sending it to the analyzer\n",
    "\n",
    "def store_prices(packet):\n",
    "    "
   ]
  },
  {
   "cell_type": "code",
   "execution_count": 19,
   "id": "596ffd82",
   "metadata": {
    "collapsed": true
   },
   "outputs": [
    {
     "name": "stdout",
     "output_type": "stream",
     "text": [
      "[*] Start sniffing...\n",
      "[!] New Packet: 172.65.196.225 -> 192.168.1.17\n",
      "[!] New Packet: 192.168.1.17 -> 172.65.196.225\n",
      "[!] New Packet: 172.65.196.225 -> 192.168.1.17\n",
      "[!] New Packet: 192.168.1.17 -> 172.65.196.225\n",
      "[!] New Packet: 172.65.196.225 -> 192.168.1.17\n",
      "[!] New Packet: 192.168.1.17 -> 172.65.196.225\n",
      "[!] New Packet: 172.65.196.225 -> 192.168.1.17\n",
      "[!] New Packet: 172.65.196.225 -> 192.168.1.17\n",
      "[!] New Packet: 192.168.1.17 -> 172.65.196.225\n",
      "[!] New Packet: 172.65.196.225 -> 192.168.1.17\n",
      "[!] New Packet: 192.168.1.17 -> 172.65.196.225\n",
      "[!] New Packet: 172.65.196.225 -> 192.168.1.17\n",
      "[!] New Packet: 172.65.196.225 -> 192.168.1.17\n",
      "[!] New Packet: 172.65.196.225 -> 192.168.1.17\n",
      "[!] New Packet: 172.65.196.225 -> 192.168.1.17\n",
      "[!] New Packet: 172.65.196.225 -> 192.168.1.17\n",
      "[!] New Packet: 172.65.196.225 -> 192.168.1.17\n",
      "[!] New Packet: 172.65.196.225 -> 192.168.1.17\n",
      "[!] New Packet: 172.65.196.225 -> 192.168.1.17\n",
      "[!] New Packet: 192.168.1.17 -> 172.65.196.225\n",
      "[!] New Packet: 172.65.196.225 -> 192.168.1.17\n",
      "[*] Stop sniffing\n"
     ]
    }
   ],
   "source": [
    "interface = \"en0\"\n",
    "\n",
    "print(\"[*] Start sniffing...\")\n",
    "sniff(iface=interface,\n",
    "      filter=\"tcp port 5555\",\n",
    "      prn=print_packet,\n",
    "      lfilter=lambda p: p.haslayer(Raw))\n",
    "print(\"[*] Stop sniffing\")"
   ]
  },
  {
   "cell_type": "code",
   "execution_count": null,
   "id": "532d9e4c",
   "metadata": {},
   "outputs": [],
   "source": []
  },
  {
   "cell_type": "code",
   "execution_count": null,
   "id": "3f73a28e",
   "metadata": {},
   "outputs": [],
   "source": []
  },
  {
   "cell_type": "code",
   "execution_count": null,
   "id": "68059932",
   "metadata": {},
   "outputs": [],
   "source": []
  },
  {
   "cell_type": "code",
   "execution_count": null,
   "id": "a6e47910",
   "metadata": {},
   "outputs": [],
   "source": []
  },
  {
   "cell_type": "code",
   "execution_count": null,
   "id": "88a8240e",
   "metadata": {},
   "outputs": [],
   "source": []
  },
  {
   "cell_type": "code",
   "execution_count": null,
   "id": "f0391619",
   "metadata": {},
   "outputs": [],
   "source": []
  },
  {
   "cell_type": "code",
   "execution_count": null,
   "id": "bb1555d7",
   "metadata": {},
   "outputs": [],
   "source": []
  },
  {
   "cell_type": "code",
   "execution_count": null,
   "id": "6f94e80c",
   "metadata": {},
   "outputs": [],
   "source": []
  },
  {
   "cell_type": "code",
   "execution_count": null,
   "id": "99baf597",
   "metadata": {},
   "outputs": [],
   "source": []
  },
  {
   "cell_type": "code",
   "execution_count": null,
   "id": "f9e420b1",
   "metadata": {},
   "outputs": [],
   "source": [
    "def on_receive(pa, action):\n",
    "    \"\"\"Adds pa to the relevant buffer\n",
    "    Parse the messages from that buffer\n",
    "    Calls action on that buffer\n",
    "    \"\"\"\n",
    "    logger.debug(\"Received packet. \")\n",
    "    direction = from_client(pa)\n",
    "    buf = buf1 if direction else buf2\n",
    "    buf += raw(pa)\n",
    "    msg = Msg.fromRaw(buf, direction)\n",
    "    while msg:\n",
    "        action(msg)\n",
    "        msg = Msg.fromRaw(buf, direction)"
   ]
  },
  {
   "cell_type": "code",
   "execution_count": null,
   "id": "2676b461",
   "metadata": {},
   "outputs": [],
   "source": []
  }
 ],
 "metadata": {
  "kernelspec": {
   "display_name": "Python 3 (ipykernel)",
   "language": "python",
   "name": "python3"
  },
  "language_info": {
   "codemirror_mode": {
    "name": "ipython",
    "version": 3
   },
   "file_extension": ".py",
   "mimetype": "text/x-python",
   "name": "python",
   "nbconvert_exporter": "python",
   "pygments_lexer": "ipython3",
   "version": "3.9.1"
  }
 },
 "nbformat": 4,
 "nbformat_minor": 5
}
