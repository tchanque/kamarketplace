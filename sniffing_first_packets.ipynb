{
 "cells": [
  {
   "cell_type": "markdown",
   "id": "d2fa38ca",
   "metadata": {
    "toc": true
   },
   "source": [
    "<h1>Table of Contents<span class=\"tocSkip\"></span></h1>\n",
    "<div class=\"toc\"><ul class=\"toc-item\"><li><span><a href=\"#Paquet-interpretation\" data-toc-modified-id=\"Paquet-interpretation-1\"><span class=\"toc-item-num\">1&nbsp;&nbsp;</span>Paquet interpretation</a></span><ul class=\"toc-item\"><li><span><a href=\"#Decompose-the-paquet\" data-toc-modified-id=\"Decompose-the-paquet-1.1\"><span class=\"toc-item-num\">1.1&nbsp;&nbsp;</span>Decompose the paquet</a></span></li><li><span><a href=\"#Mapping-the-Ids\" data-toc-modified-id=\"Mapping-the-Ids-1.2\"><span class=\"toc-item-num\">1.2&nbsp;&nbsp;</span>Mapping the Ids</a></span><ul class=\"toc-item\"><li><span><a href=\"#Gotta-need-to-decompile-the-source-code-first\" data-toc-modified-id=\"Gotta-need-to-decompile-the-source-code-first-1.2.1\"><span class=\"toc-item-num\">1.2.1&nbsp;&nbsp;</span>Gotta need to decompile the source code first</a></span></li><li><span><a href=\"#Then-extract-the-mapping-of-the-Ids\" data-toc-modified-id=\"Then-extract-the-mapping-of-the-Ids-1.2.2\"><span class=\"toc-item-num\">1.2.2&nbsp;&nbsp;</span>Then extract the mapping of the Ids</a></span></li></ul></li></ul></li><li><span><a href=\"#Deserialize\" data-toc-modified-id=\"Deserialize-2\"><span class=\"toc-item-num\">2&nbsp;&nbsp;</span>Deserialize</a></span></li></ul></div>"
   ]
  },
  {
   "cell_type": "code",
   "execution_count": 2,
   "id": "0e0d4b07",
   "metadata": {},
   "outputs": [],
   "source": [
    "%load_ext autoreload\n",
    "%autoreload 2"
   ]
  },
  {
   "cell_type": "code",
   "execution_count": 39,
   "id": "493a93bd",
   "metadata": {},
   "outputs": [],
   "source": [
    "import pyshark\n",
    "import pandas as pd\n",
    "\n",
    "import nest_asyncio\n",
    "nest_asyncio.apply()"
   ]
  },
  {
   "cell_type": "code",
   "execution_count": 4,
   "id": "426a5833",
   "metadata": {},
   "outputs": [],
   "source": [
    "capture = pyshark.LiveCapture(interface='en0', bpf_filter='tcp port 5555 and len > 66')"
   ]
  },
  {
   "cell_type": "code",
   "execution_count": 5,
   "id": "0c47b55e",
   "metadata": {},
   "outputs": [],
   "source": [
    "capture.sniff(timeout=20)"
   ]
  },
  {
   "cell_type": "code",
   "execution_count": 14,
   "id": "62f320c1",
   "metadata": {},
   "outputs": [
    {
     "name": "stdout",
     "output_type": "stream",
     "text": [
      "<LiveCapture (33 packets)>\n"
     ]
    }
   ],
   "source": [
    "print(capture)"
   ]
  },
  {
   "cell_type": "code",
   "execution_count": 33,
   "id": "3fe523de",
   "metadata": {
    "collapsed": true
   },
   "outputs": [
    {
     "name": "stdout",
     "output_type": "stream",
     "text": [
      "[DEBUG] 76 paquets reçus\n",
      "Inserting the data in the list\n",
      "Inserting the data in the list\n",
      "Inserting the data in the list\n",
      "Inserting the data in the list\n",
      "Inserting the data in the list\n",
      "Inserting the data in the list\n",
      "Inserting the data in the list\n",
      "Inserting the data in the list\n",
      "Inserting the data in the list\n",
      "Inserting the data in the list\n",
      "Inserting the data in the list\n",
      "Inserting the data in the list\n",
      "Inserting the data in the list\n",
      "Inserting the data in the list\n",
      "Inserting the data in the list\n",
      "Inserting the data in the list\n",
      "Inserting the data in the list\n",
      "No data in this packet\n",
      "Inserting the data in the list\n",
      "Inserting the data in the list\n",
      "Inserting the data in the list\n",
      "Inserting the data in the list\n",
      "Inserting the data in the list\n",
      "Inserting the data in the list\n",
      "Inserting the data in the list\n",
      "Inserting the data in the list\n",
      "Inserting the data in the list\n",
      "Inserting the data in the list\n",
      "Inserting the data in the list\n",
      "Inserting the data in the list\n",
      "Inserting the data in the list\n",
      "Inserting the data in the list\n",
      "Inserting the data in the list\n",
      "Inserting the data in the list\n"
     ]
    }
   ],
   "source": [
    "list_packets_data = []\n",
    "\n",
    "print(\"[DEBUG] {} paquets reçus\".format( len(capture) ) )\n",
    "for packet in capture[:33]:\n",
    "    try:\n",
    "        print(\"Inserting the data in the list\")\n",
    "        list_packets_data.append(packet.tcp.payload)\n",
    "        \n",
    "    except:\n",
    "        print(\"No data in this packet\")\n",
    "        pass"
   ]
  },
  {
   "cell_type": "code",
   "execution_count": 42,
   "id": "2a421e71",
   "metadata": {},
   "outputs": [],
   "source": [
    "pd.DataFrame(list_packets_data, columns=['data']).to_csv('example_packets.csv', index=False)"
   ]
  },
  {
   "cell_type": "code",
   "execution_count": 43,
   "id": "e8904cbf",
   "metadata": {
    "collapsed": true
   },
   "outputs": [
    {
     "data": {
      "text/html": [
       "<div>\n",
       "<style scoped>\n",
       "    .dataframe tbody tr th:only-of-type {\n",
       "        vertical-align: middle;\n",
       "    }\n",
       "\n",
       "    .dataframe tbody tr th {\n",
       "        vertical-align: top;\n",
       "    }\n",
       "\n",
       "    .dataframe thead th {\n",
       "        text-align: right;\n",
       "    }\n",
       "</style>\n",
       "<table border=\"1\" class=\"dataframe\">\n",
       "  <thead>\n",
       "    <tr style=\"text-align: right;\">\n",
       "      <th></th>\n",
       "      <th>data</th>\n",
       "    </tr>\n",
       "  </thead>\n",
       "  <tbody>\n",
       "    <tr>\n",
       "      <th>0</th>\n",
       "      <td>42:f9:0d:a5:82:fc:d7:b1:16:94:b9:1f:e3:02:00:01</td>\n",
       "    </tr>\n",
       "    <tr>\n",
       "      <th>1</th>\n",
       "      <td>05:45:00:00:23:ea:10:00:03:01:7d:71:80:71:73:4...</td>\n",
       "    </tr>\n",
       "    <tr>\n",
       "      <th>2</th>\n",
       "      <td>48:91:04:d5:01:d1:02:74:05:16:00:05:01:7d:01:7...</td>\n",
       "    </tr>\n",
       "    <tr>\n",
       "      <th>3</th>\n",
       "      <td>42:f9:0d:a5:82:e4:f0:ce:0c:94:b9:1f:e3:02:00:01</td>\n",
       "    </tr>\n",
       "    <tr>\n",
       "      <th>4</th>\n",
       "      <td>69:5d:6f:0e:00:45:43:72:61:20:65:6e:20:67:61:6...</td>\n",
       "    </tr>\n",
       "    <tr>\n",
       "      <th>5</th>\n",
       "      <td>74:05:18:00:06:00:c3:00:df:00:fb:01:17:01:33:0...</td>\n",
       "    </tr>\n",
       "    <tr>\n",
       "      <th>6</th>\n",
       "      <td>75:69:7c:27:0f:42:66:6d:04:20:24:a0:00:1a:a6:0...</td>\n",
       "    </tr>\n",
       "    <tr>\n",
       "      <th>7</th>\n",
       "      <td>01:a4:00:00:23:f2</td>\n",
       "    </tr>\n",
       "    <tr>\n",
       "      <th>8</th>\n",
       "      <td>16:0d:00:00:23:f3:07:94:b9:1f:e1:9c:f5:46</td>\n",
       "    </tr>\n",
       "    <tr>\n",
       "      <th>9</th>\n",
       "      <td>48:91:03:d6:01:69:93:9c</td>\n",
       "    </tr>\n",
       "    <tr>\n",
       "      <th>10</th>\n",
       "      <td>48:91:04:d7:01:83:0b:42:f9:0c:a5:82:a0:83:70:9...</td>\n",
       "    </tr>\n",
       "    <tr>\n",
       "      <th>11</th>\n",
       "      <td>93:9c</td>\n",
       "    </tr>\n",
       "    <tr>\n",
       "      <th>12</th>\n",
       "      <td>2a:31:0b:00:01:a5:82:84:c1:b6:16:00:01:00:2e:d...</td>\n",
       "    </tr>\n",
       "    <tr>\n",
       "      <th>13</th>\n",
       "      <td>3c:21:5e:42:66:7c:a4:40:24:a0:00:9f:27:00:01:b...</td>\n",
       "    </tr>\n",
       "    <tr>\n",
       "      <th>14</th>\n",
       "      <td>2c:c9:08:42:66:80:8f:80:24:a0:00</td>\n",
       "    </tr>\n",
       "    <tr>\n",
       "      <th>15</th>\n",
       "      <td>2c:c9:08:42:66:80:8f:80:24:a0:00</td>\n",
       "    </tr>\n",
       "    <tr>\n",
       "      <th>16</th>\n",
       "      <td>04:dd:00:00:01:04:01:01</td>\n",
       "    </tr>\n",
       "    <tr>\n",
       "      <th>17</th>\n",
       "      <td>2c:c9:08:42:66:79:03:80:24:a0:00</td>\n",
       "    </tr>\n",
       "    <tr>\n",
       "      <th>18</th>\n",
       "      <td>48:91:03:50:b7:02:78:31:01:01</td>\n",
       "    </tr>\n",
       "    <tr>\n",
       "      <th>19</th>\n",
       "      <td>04:dd:00:00:24:04:01:01</td>\n",
       "    </tr>\n",
       "    <tr>\n",
       "      <th>20</th>\n",
       "      <td>48:91:04:d8:01:b7:02:78:31:01:01:93:9c</td>\n",
       "    </tr>\n",
       "    <tr>\n",
       "      <th>21</th>\n",
       "      <td>75:69:5b:27:0f:42:66:71:3b:60:24:a0:00:1a:a6:0...</td>\n",
       "    </tr>\n",
       "    <tr>\n",
       "      <th>22</th>\n",
       "      <td>75:69:5f:27:0f:42:66:7e:61:80:24:a0:00:1a:a6:0...</td>\n",
       "    </tr>\n",
       "    <tr>\n",
       "      <th>23</th>\n",
       "      <td>28:05:00:00:24:0a:02:26:01</td>\n",
       "    </tr>\n",
       "    <tr>\n",
       "      <th>24</th>\n",
       "      <td>48:91:04:d9:01:81:14:07:65:1d:00:00:00:26:00:0...</td>\n",
       "    </tr>\n",
       "    <tr>\n",
       "      <th>25</th>\n",
       "      <td>2a:31:0b:00:01:a5:82:ec:ce:b8:16:00:01:00</td>\n",
       "    </tr>\n",
       "    <tr>\n",
       "      <th>26</th>\n",
       "      <td>2e:d5:0b:42:66:71:3b:60:24:a0:00:00:08:00:3c:2...</td>\n",
       "    </tr>\n",
       "    <tr>\n",
       "      <th>27</th>\n",
       "      <td>2a:31:0b:00:01:a5:82:b0:98:bf:16:00:01:00:2e:d...</td>\n",
       "    </tr>\n",
       "    <tr>\n",
       "      <th>28</th>\n",
       "      <td>3c:21:5e:42:66:7c:a4:40:24:a0:00:9f:27:00:01:b...</td>\n",
       "    </tr>\n",
       "    <tr>\n",
       "      <th>29</th>\n",
       "      <td>7c:69:00:00:24:1e:03:dc:03:01</td>\n",
       "    </tr>\n",
       "    <tr>\n",
       "      <th>30</th>\n",
       "      <td>48:91:04:da:01:9a:3e:5e:b9:1a:dc:03:00:00:00:2...</td>\n",
       "    </tr>\n",
       "    <tr>\n",
       "      <th>31</th>\n",
       "      <td>42:f9:0d:a5:82:84:c1:b6:16:94:b9:1f:e3:02:00:01</td>\n",
       "    </tr>\n",
       "  </tbody>\n",
       "</table>\n",
       "</div>"
      ],
      "text/plain": [
       "                                                 data\n",
       "0     42:f9:0d:a5:82:fc:d7:b1:16:94:b9:1f:e3:02:00:01\n",
       "1   05:45:00:00:23:ea:10:00:03:01:7d:71:80:71:73:4...\n",
       "2   48:91:04:d5:01:d1:02:74:05:16:00:05:01:7d:01:7...\n",
       "3     42:f9:0d:a5:82:e4:f0:ce:0c:94:b9:1f:e3:02:00:01\n",
       "4   69:5d:6f:0e:00:45:43:72:61:20:65:6e:20:67:61:6...\n",
       "5   74:05:18:00:06:00:c3:00:df:00:fb:01:17:01:33:0...\n",
       "6   75:69:7c:27:0f:42:66:6d:04:20:24:a0:00:1a:a6:0...\n",
       "7                                   01:a4:00:00:23:f2\n",
       "8           16:0d:00:00:23:f3:07:94:b9:1f:e1:9c:f5:46\n",
       "9                             48:91:03:d6:01:69:93:9c\n",
       "10  48:91:04:d7:01:83:0b:42:f9:0c:a5:82:a0:83:70:9...\n",
       "11                                              93:9c\n",
       "12  2a:31:0b:00:01:a5:82:84:c1:b6:16:00:01:00:2e:d...\n",
       "13  3c:21:5e:42:66:7c:a4:40:24:a0:00:9f:27:00:01:b...\n",
       "14                   2c:c9:08:42:66:80:8f:80:24:a0:00\n",
       "15                   2c:c9:08:42:66:80:8f:80:24:a0:00\n",
       "16                            04:dd:00:00:01:04:01:01\n",
       "17                   2c:c9:08:42:66:79:03:80:24:a0:00\n",
       "18                      48:91:03:50:b7:02:78:31:01:01\n",
       "19                            04:dd:00:00:24:04:01:01\n",
       "20             48:91:04:d8:01:b7:02:78:31:01:01:93:9c\n",
       "21  75:69:5b:27:0f:42:66:71:3b:60:24:a0:00:1a:a6:0...\n",
       "22  75:69:5f:27:0f:42:66:7e:61:80:24:a0:00:1a:a6:0...\n",
       "23                         28:05:00:00:24:0a:02:26:01\n",
       "24  48:91:04:d9:01:81:14:07:65:1d:00:00:00:26:00:0...\n",
       "25          2a:31:0b:00:01:a5:82:ec:ce:b8:16:00:01:00\n",
       "26  2e:d5:0b:42:66:71:3b:60:24:a0:00:00:08:00:3c:2...\n",
       "27  2a:31:0b:00:01:a5:82:b0:98:bf:16:00:01:00:2e:d...\n",
       "28  3c:21:5e:42:66:7c:a4:40:24:a0:00:9f:27:00:01:b...\n",
       "29                      7c:69:00:00:24:1e:03:dc:03:01\n",
       "30  48:91:04:da:01:9a:3e:5e:b9:1a:dc:03:00:00:00:2...\n",
       "31    42:f9:0d:a5:82:84:c1:b6:16:94:b9:1f:e3:02:00:01"
      ]
     },
     "execution_count": 43,
     "metadata": {},
     "output_type": "execute_result"
    }
   ],
   "source": [
    "pd.read_csv('example_packets.csv')"
   ]
  },
  {
   "cell_type": "markdown",
   "id": "8b740d04",
   "metadata": {},
   "source": [
    "# Paquet interpretation"
   ]
  },
  {
   "cell_type": "markdown",
   "id": "f2887f5f",
   "metadata": {},
   "source": [
    "## Decompose the paquet"
   ]
  },
  {
   "cell_type": "code",
   "execution_count": 71,
   "id": "40f0e8e5",
   "metadata": {},
   "outputs": [],
   "source": [
    "class Packet:\n",
    "    def __init__(self, packetPayLoad):\n",
    "        self.payload = packetPayLoad\n",
    "        self.header = self.get_header()\n",
    "        self.id = self.get_id()\n",
    "        self.size_of_size = self.get_size_of_size()\n",
    "        self.size_packet = self.get_size_packet()\n",
    "        self.size_message = self.get_size_message()\n",
    "        \n",
    "    def get_header(self):\n",
    "        return ''.join(self.payload.split(':')[:2])\n",
    "        \n",
    "    def get_bin_header(self):\n",
    "        scale = 16 #hexadecimal\n",
    "        num_of_bits = 16\n",
    "        header = self.header\n",
    "        \n",
    "        return bin(int(header, scale))[2:].zfill(num_of_bits)\n",
    "        \n",
    "    def get_id(self):\n",
    "        if ~hasattr(self, \"bin_header\"):\n",
    "            self.bin_header = self.get_bin_header()\n",
    "        \n",
    "        return int(self.bin_header[:14], 2)\n",
    "    \n",
    "    def get_size_of_size(self):\n",
    "        if ~hasattr(self, \"bin_header\"):\n",
    "            self.bin_header = self.get_bin_header()\n",
    "        return int(self.bin_header[-2:], 2)\n",
    "    \n",
    "    def get_size_packet(self):\n",
    "        return ''.join(self.payload.split(\":\")[2 : 2+self.size_of_size])\n",
    "    \n",
    "    def get_size_message(self):\n",
    "        return int(self.size_packet, base=16)"
   ]
  },
  {
   "cell_type": "code",
   "execution_count": null,
   "id": "79136b8e",
   "metadata": {},
   "outputs": [],
   "source": []
  },
  {
   "cell_type": "code",
   "execution_count": 46,
   "id": "23e6482d",
   "metadata": {},
   "outputs": [
    {
     "name": "stdout",
     "output_type": "stream",
     "text": [
      "05:45:00:00:23:ea:10:00:03:01:7d:71:80:71:73:41:a6:c8:08:08:00:00:00\n"
     ]
    }
   ],
   "source": [
    "my_packet = capture[1].tcp.payload\n",
    "print(my_packet)"
   ]
  },
  {
   "cell_type": "code",
   "execution_count": 47,
   "id": "122b6ed1",
   "metadata": {},
   "outputs": [],
   "source": [
    "testing_a_packet_class = Packet(my_packet)"
   ]
  },
  {
   "cell_type": "code",
   "execution_count": 48,
   "id": "4cf57664",
   "metadata": {},
   "outputs": [
    {
     "data": {
      "text/plain": [
       "'05:45:00:00:23:ea:10:00:03:01:7d:71:80:71:73:41:a6:c8:08:08:00:00:00'"
      ]
     },
     "execution_count": 48,
     "metadata": {},
     "output_type": "execute_result"
    }
   ],
   "source": [
    "testing_a_packet_class.payload"
   ]
  },
  {
   "cell_type": "code",
   "execution_count": 49,
   "id": "cb7fcccc",
   "metadata": {},
   "outputs": [
    {
     "name": "stdout",
     "output_type": "stream",
     "text": [
      "The header hexadecimal value is 0545\n",
      "The packet ID is 337 while the size of the size is 1\n",
      "The message size in hexa is then 00 which represents 0 bytes after conversion\n"
     ]
    }
   ],
   "source": [
    "print(\"The header hexadecimal value is %s\" %(testing_a_packet_class.header))\n",
    "print(\"The packet ID is %s while the size of the size is %s\" %(testing_a_packet_class.id,\n",
    "                                                             testing_a_packet_class.size_of_size))\n",
    "print(\"The message size in hexa is then %s which represents %s bytes after conversion\" \n",
    "      %(testing_a_packet_class.size_packet, testing_a_packet_class.size_message))"
   ]
  },
  {
   "cell_type": "markdown",
   "id": "633b3f8a",
   "metadata": {},
   "source": [
    "## Mapping the Ids"
   ]
  },
  {
   "cell_type": "markdown",
   "id": "6d28ebd8",
   "metadata": {},
   "source": [
    "### Gotta need to decompile the source code first"
   ]
  },
  {
   "cell_type": "markdown",
   "id": "c58ff1de",
   "metadata": {},
   "source": [
    "USE JPEXS Free Flash Decompiler to decompile the source code, see decompile.sh"
   ]
  },
  {
   "cell_type": "markdown",
   "id": "09f074e9",
   "metadata": {},
   "source": [
    "### Then extract the mapping of the Ids"
   ]
  },
  {
   "cell_type": "code",
   "execution_count": 59,
   "id": "db6d0081",
   "metadata": {},
   "outputs": [],
   "source": [
    "import os\n",
    "\n",
    "def Ids(path='/Users/thomasaudevie/Desktop/Coding-Projects/kamarketplace/sources/scripts/com/ankamagames/dofus/network/messages'):\n",
    "    fichiers=[os.path.join(path, f) for f in os.listdir(path) if os.path.isfile(os.path.join(path, f)) and f != '.DS_Store' and f != 'Ids.py']\n",
    "    dossiers=[os.path.join(path, f) for f in os.listdir(path) if os.path.isdir(os.path.join(path, f))]\n",
    "    for f in fichiers:\n",
    "        o=open(f)\n",
    "        r=o.read()\n",
    "        o.close()\n",
    "        first_occurence=r.find('protocolId:uint =')\n",
    "        if first_occurence != -1: # means the value is found\n",
    "            id_location=int(first_occurence + 18) # look 18 characters after (length of 'protocolId:uint = ') to know when the protocolID's value is declared\n",
    "            end_first_occurence=int(r.find(';', id_location))\n",
    "            indice=r[id_location: end_first_occurence]\n",
    "            nom=os.path.basename(f)[:-3]\n",
    "            dictIds[indice]=nom\n",
    "            \n",
    "    for d in dossiers:\n",
    "        Ids(d)\n",
    "\n",
    "def createIds(path='/Users/thomasaudevie/Desktop/Coding-Projects/kamarketplace/sources/scripts/com/ankamagames/dofus/network/messages'):\n",
    "    ### crée le dictionnaire dictIds et le remplit\n",
    "    global dictIds\n",
    "    dictIds = dict()\n",
    "    Ids(path)\n",
    "    print('Terminé '+str(len(dictIds)))\n",
    "\n",
    "import pickle\n",
    "\n",
    "def dumpIds(path='./Ids'):\n",
    "    ### crée le dictionnaire dictIds, le remplit et le sauvegarde\n",
    "    createIds()\n",
    "    f = open(path, 'wb')\n",
    "    pickle.dump(dictIds, f)\n",
    "    f.close()\n",
    "    \n",
    "def loadIds():\n",
    "    ### charge le dictionnaire dictIds depuis le fichier\n",
    "    f = open('./Ids', 'rb') #'/Users/louisabraham/Documents/Projet bot/Programme/Ids\n",
    "    global dictIds\n",
    "    dictIds = pickle.load(f)\n",
    "    f.close()"
   ]
  },
  {
   "cell_type": "code",
   "execution_count": 60,
   "id": "e2337ef8",
   "metadata": {},
   "outputs": [
    {
     "name": "stdout",
     "output_type": "stream",
     "text": [
      "Terminé 1149\n"
     ]
    }
   ],
   "source": [
    "dumpIds()"
   ]
  },
  {
   "cell_type": "code",
   "execution_count": 61,
   "id": "13e961ac",
   "metadata": {
    "scrolled": true
   },
   "outputs": [],
   "source": [
    "loadIds()"
   ]
  },
  {
   "cell_type": "code",
   "execution_count": 62,
   "id": "b1e606b9",
   "metadata": {},
   "outputs": [],
   "source": [
    "f = open('./Ids', 'rb')\n",
    "global dictIds\n",
    "dictIds = pickle.load(f)"
   ]
  },
  {
   "cell_type": "markdown",
   "id": "c59cbe89",
   "metadata": {},
   "source": [
    "**Searching for ID based on the previous packet**"
   ]
  },
  {
   "cell_type": "code",
   "execution_count": 63,
   "id": "dcf81c56",
   "metadata": {
    "scrolled": true
   },
   "outputs": [],
   "source": [
    "id_packet = testing_a_packet_class.id"
   ]
  },
  {
   "cell_type": "code",
   "execution_count": 78,
   "id": "aff277fd",
   "metadata": {},
   "outputs": [
    {
     "data": {
      "text/plain": [
       "'GameMapMovementRequestMessage'"
      ]
     },
     "execution_count": 78,
     "metadata": {},
     "output_type": "execute_result"
    }
   ],
   "source": [
    "dictIds[str(id_packet)]"
   ]
  },
  {
   "cell_type": "code",
   "execution_count": 82,
   "id": "57c8cddc",
   "metadata": {
    "collapsed": true
   },
   "outputs": [
    {
     "name": "stdout",
     "output_type": "stream",
     "text": [
      "My packet is {'42:f9:0d:a5:82:fc:d7:b1:16:94:b9:1f:e3:02:00:01'}\n",
      "InteractiveUsedMessage\n",
      "------ NEXT PACKET ------\n",
      "My packet is {'05:45:00:00:23:ea:10:00:03:01:7d:71:80:71:73:41:a6:c8:08:08:00:00:00'}\n",
      "GameMapMovementRequestMessage\n",
      "------ NEXT PACKET ------\n",
      "My packet is {'48:91:04:d5:01:d1:02:74:05:16:00:05:01:7d:01:7e:01:7f:01:80:01:73:00:04:42:1c:01:a0:04:94:00:00:93:9c'}\n",
      "BasicAckMessage\n",
      "------ NEXT PACKET ------\n",
      "My packet is {'42:f9:0d:a5:82:e4:f0:ce:0c:94:b9:1f:e3:02:00:01'}\n",
      "InteractiveUsedMessage\n",
      "------ NEXT PACKET ------\n",
      "My packet is {'69:5d:6f:0e:00:45:43:72:61:20:65:6e:20:67:61:6c:c3:a8:72:65:20:63:68:65:72:63:68:65:20:71:75:65:6c:71:75:27:75:6e:20:70:6f:75:72:20:70:61:73:73:65:72:20:63:68:6f:75:71:75:65:20:3a:29:20:54:70:20:70:6f:73:73:69:62:6c:65:20:21:63:ac:76:e3:00:08:77:36:33:33:34:65:37:69:42:66:76:8a:a0:24:a0:00:00:09:54:63:68:6f:75:6b:69:77:65:00:00:0a:2d:28:4c'}\n",
      "ChatServerMessage\n",
      "------ NEXT PACKET ------\n",
      "My packet is {'74:05:18:00:06:00:c3:00:df:00:fb:01:17:01:33:01:4f:00:04:42:66:80:8f:80:24:a0:00'}\n",
      "GameMapMovementMessage\n",
      "------ NEXT PACKET ------\n",
      "My packet is {'75:69:7c:27:0f:42:66:6d:04:20:24:a0:00:1a:a6:00:c3:05:ff:04:00:00:00:04:01:dc:14:3c:02:ff:ff:f0:03:ff:ff:f0:04:76:64:43:00:01:78:00:01:02:00:02:00:06:6e:83:11:a8:02:ef:0b:42:f3:03:00:05:01:ff:d2:7c:02:ff:a3:1a:03:95:af:28:04:56:70:22:05:ff:e8:42:00:01:91:01:00:00:00:07:42:65:72:79:61:6e:6f:10:9e:00:08:00:00:00:02:14:aa:00:00:13:d9:01:0a:2a:1d:56:00:00:00:42:66:6d:04:20:33:a0:00'}\n",
      "GameRolePlayShowActorMessage\n",
      "------ NEXT PACKET ------\n",
      "My packet is {'01:a4:00:00:23:f2'}\n"
     ]
    },
    {
     "ename": "ValueError",
     "evalue": "invalid literal for int() with base 16: ''",
     "output_type": "error",
     "traceback": [
      "\u001b[0;31m---------------------------------------------------------------------------\u001b[0m",
      "\u001b[0;31mValueError\u001b[0m                                Traceback (most recent call last)",
      "Cell \u001b[0;32mIn[82], line 3\u001b[0m\n\u001b[1;32m      1\u001b[0m \u001b[38;5;28;01mfor\u001b[39;00m packet \u001b[38;5;129;01min\u001b[39;00m list_packets_data:\n\u001b[1;32m      2\u001b[0m     \u001b[38;5;28mprint\u001b[39m(\u001b[38;5;124m\"\u001b[39m\u001b[38;5;124mMy packet is \u001b[39m\u001b[38;5;132;01m%s\u001b[39;00m\u001b[38;5;124m\"\u001b[39m\u001b[38;5;241m%\u001b[39m{packet})\n\u001b[0;32m----> 3\u001b[0m     my_packet \u001b[38;5;241m=\u001b[39m \u001b[43mPacket\u001b[49m\u001b[43m(\u001b[49m\u001b[43mpacket\u001b[49m\u001b[43m)\u001b[49m\n\u001b[1;32m      4\u001b[0m     \u001b[38;5;28mprint\u001b[39m(dictIds[\u001b[38;5;28mstr\u001b[39m(my_packet\u001b[38;5;241m.\u001b[39mid)])\n\u001b[1;32m      5\u001b[0m     \u001b[38;5;28mprint\u001b[39m(\u001b[38;5;124m\"\u001b[39m\u001b[38;5;124m------ NEXT PACKET ------\u001b[39m\u001b[38;5;124m\"\u001b[39m)\n",
      "Cell \u001b[0;32mIn[71], line 8\u001b[0m, in \u001b[0;36mPacket.__init__\u001b[0;34m(self, packetPayLoad)\u001b[0m\n\u001b[1;32m      6\u001b[0m \u001b[38;5;28mself\u001b[39m\u001b[38;5;241m.\u001b[39msize_of_size \u001b[38;5;241m=\u001b[39m \u001b[38;5;28mself\u001b[39m\u001b[38;5;241m.\u001b[39mget_size_of_size()\n\u001b[1;32m      7\u001b[0m \u001b[38;5;28mself\u001b[39m\u001b[38;5;241m.\u001b[39msize_packet \u001b[38;5;241m=\u001b[39m \u001b[38;5;28mself\u001b[39m\u001b[38;5;241m.\u001b[39mget_size_packet()\n\u001b[0;32m----> 8\u001b[0m \u001b[38;5;28mself\u001b[39m\u001b[38;5;241m.\u001b[39msize_message \u001b[38;5;241m=\u001b[39m \u001b[38;5;28;43mself\u001b[39;49m\u001b[38;5;241;43m.\u001b[39;49m\u001b[43mget_size_message\u001b[49m\u001b[43m(\u001b[49m\u001b[43m)\u001b[49m\n",
      "Cell \u001b[0;32mIn[71], line 35\u001b[0m, in \u001b[0;36mPacket.get_size_message\u001b[0;34m(self)\u001b[0m\n\u001b[1;32m     34\u001b[0m \u001b[38;5;28;01mdef\u001b[39;00m \u001b[38;5;21mget_size_message\u001b[39m(\u001b[38;5;28mself\u001b[39m):\n\u001b[0;32m---> 35\u001b[0m     \u001b[38;5;28;01mreturn\u001b[39;00m \u001b[38;5;28;43mint\u001b[39;49m\u001b[43m(\u001b[49m\u001b[38;5;28;43mself\u001b[39;49m\u001b[38;5;241;43m.\u001b[39;49m\u001b[43msize_packet\u001b[49m\u001b[43m,\u001b[49m\u001b[43m \u001b[49m\u001b[43mbase\u001b[49m\u001b[38;5;241;43m=\u001b[39;49m\u001b[38;5;241;43m16\u001b[39;49m\u001b[43m)\u001b[49m\n",
      "\u001b[0;31mValueError\u001b[0m: invalid literal for int() with base 16: ''"
     ]
    }
   ],
   "source": [
    "for packet in list_packets_data:\n",
    "    print(\"My packet is %s\"%{packet})\n",
    "    my_packet = Packet(packet)\n",
    "    print(dictIds[str(my_packet.id)])\n",
    "    print(\"------ NEXT PACKET ------\")"
   ]
  },
  {
   "cell_type": "code",
   "execution_count": 83,
   "id": "98228cfb",
   "metadata": {},
   "outputs": [
    {
     "data": {
      "text/plain": [
       "'7c'"
      ]
     },
     "execution_count": 83,
     "metadata": {},
     "output_type": "execute_result"
    }
   ],
   "source": [
    "my_packet.size_packet"
   ]
  },
  {
   "cell_type": "code",
   "execution_count": 85,
   "id": "1642618a",
   "metadata": {},
   "outputs": [
    {
     "ename": "ValueError",
     "evalue": "invalid literal for int() with base 16: ''",
     "output_type": "error",
     "traceback": [
      "\u001b[0;31m---------------------------------------------------------------------------\u001b[0m",
      "\u001b[0;31mValueError\u001b[0m                                Traceback (most recent call last)",
      "Cell \u001b[0;32mIn[85], line 1\u001b[0m\n\u001b[0;32m----> 1\u001b[0m debug_packet \u001b[38;5;241m=\u001b[39m \u001b[43mPacket\u001b[49m\u001b[43m(\u001b[49m\u001b[38;5;124;43m'\u001b[39;49m\u001b[38;5;124;43m01:a4:00:00:23:f2\u001b[39;49m\u001b[38;5;124;43m'\u001b[39;49m\u001b[43m)\u001b[49m\n",
      "Cell \u001b[0;32mIn[71], line 8\u001b[0m, in \u001b[0;36mPacket.__init__\u001b[0;34m(self, packetPayLoad)\u001b[0m\n\u001b[1;32m      6\u001b[0m \u001b[38;5;28mself\u001b[39m\u001b[38;5;241m.\u001b[39msize_of_size \u001b[38;5;241m=\u001b[39m \u001b[38;5;28mself\u001b[39m\u001b[38;5;241m.\u001b[39mget_size_of_size()\n\u001b[1;32m      7\u001b[0m \u001b[38;5;28mself\u001b[39m\u001b[38;5;241m.\u001b[39msize_packet \u001b[38;5;241m=\u001b[39m \u001b[38;5;28mself\u001b[39m\u001b[38;5;241m.\u001b[39mget_size_packet()\n\u001b[0;32m----> 8\u001b[0m \u001b[38;5;28mself\u001b[39m\u001b[38;5;241m.\u001b[39msize_message \u001b[38;5;241m=\u001b[39m \u001b[38;5;28;43mself\u001b[39;49m\u001b[38;5;241;43m.\u001b[39;49m\u001b[43mget_size_message\u001b[49m\u001b[43m(\u001b[49m\u001b[43m)\u001b[49m\n",
      "Cell \u001b[0;32mIn[71], line 35\u001b[0m, in \u001b[0;36mPacket.get_size_message\u001b[0;34m(self)\u001b[0m\n\u001b[1;32m     34\u001b[0m \u001b[38;5;28;01mdef\u001b[39;00m \u001b[38;5;21mget_size_message\u001b[39m(\u001b[38;5;28mself\u001b[39m):\n\u001b[0;32m---> 35\u001b[0m     \u001b[38;5;28;01mreturn\u001b[39;00m \u001b[38;5;28;43mint\u001b[39;49m\u001b[43m(\u001b[49m\u001b[38;5;28;43mself\u001b[39;49m\u001b[38;5;241;43m.\u001b[39;49m\u001b[43msize_packet\u001b[49m\u001b[43m,\u001b[49m\u001b[43m \u001b[49m\u001b[43mbase\u001b[49m\u001b[38;5;241;43m=\u001b[39;49m\u001b[38;5;241;43m16\u001b[39;49m\u001b[43m)\u001b[49m\n",
      "\u001b[0;31mValueError\u001b[0m: invalid literal for int() with base 16: ''"
     ]
    }
   ],
   "source": [
    "debug_packet = Packet('01:a4:00:00:23:f2')"
   ]
  },
  {
   "cell_type": "code",
   "execution_count": 94,
   "id": "01080713",
   "metadata": {},
   "outputs": [
    {
     "data": {
      "text/plain": [
       "'test/name'"
      ]
     },
     "execution_count": 94,
     "metadata": {},
     "output_type": "execute_result"
    }
   ],
   "source": [
    "\"%s/%s\" %('test', 'name')"
   ]
  },
  {
   "cell_type": "markdown",
   "id": "14cf846c",
   "metadata": {},
   "source": [
    "# Deserialize"
   ]
  },
  {
   "cell_type": "code",
   "execution_count": null,
   "id": "3c827d0e",
   "metadata": {},
   "outputs": [],
   "source": []
  }
 ],
 "metadata": {
  "kernelspec": {
   "display_name": "Python 3 (ipykernel)",
   "language": "python",
   "name": "python3"
  },
  "language_info": {
   "codemirror_mode": {
    "name": "ipython",
    "version": 3
   },
   "file_extension": ".py",
   "mimetype": "text/x-python",
   "name": "python",
   "nbconvert_exporter": "python",
   "pygments_lexer": "ipython3",
   "version": "3.9.6"
  },
  "toc": {
   "base_numbering": 1,
   "nav_menu": {},
   "number_sections": true,
   "sideBar": true,
   "skip_h1_title": false,
   "title_cell": "Table of Contents",
   "title_sidebar": "Contents",
   "toc_cell": true,
   "toc_position": {
    "height": "calc(100% - 180px)",
    "left": "10px",
    "top": "150px",
    "width": "384px"
   },
   "toc_section_display": true,
   "toc_window_display": true
  },
  "varInspector": {
   "cols": {
    "lenName": 16,
    "lenType": 16,
    "lenVar": 40
   },
   "kernels_config": {
    "python": {
     "delete_cmd_postfix": "",
     "delete_cmd_prefix": "del ",
     "library": "var_list.py",
     "varRefreshCmd": "print(var_dic_list())"
    },
    "r": {
     "delete_cmd_postfix": ") ",
     "delete_cmd_prefix": "rm(",
     "library": "var_list.r",
     "varRefreshCmd": "cat(var_dic_list()) "
    }
   },
   "types_to_exclude": [
    "module",
    "function",
    "builtin_function_or_method",
    "instance",
    "_Feature"
   ],
   "window_display": false
  }
 },
 "nbformat": 4,
 "nbformat_minor": 5
}
