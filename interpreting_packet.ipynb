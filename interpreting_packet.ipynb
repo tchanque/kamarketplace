{
 "cells": [
  {
   "cell_type": "code",
   "execution_count": 9,
   "id": "c3b2089b",
   "metadata": {},
   "outputs": [],
   "source": [
    "%load_ext autoreload\n",
    "%autoreload 2"
   ]
  },
  {
   "cell_type": "code",
   "execution_count": 121,
   "id": "1957f8b1",
   "metadata": {},
   "outputs": [],
   "source": [
    "import pandas as pd\n",
    "from decompose_packet import *\n",
    "from ids_mapping import load_ids"
   ]
  },
  {
   "cell_type": "markdown",
   "id": "bcd81f22",
   "metadata": {},
   "source": [
    "**Load packets from local csv for test purpose**"
   ]
  },
  {
   "cell_type": "code",
   "execution_count": 72,
   "id": "7f5595d0",
   "metadata": {
    "scrolled": true
   },
   "outputs": [],
   "source": [
    "csv = pd.read_csv('./data/example_packets.csv')\n",
    "list_packets = csv['data'].tolist()"
   ]
  },
  {
   "cell_type": "markdown",
   "id": "13e15ba6",
   "metadata": {},
   "source": [
    "**Load id mapping from local dic**"
   ]
  },
  {
   "cell_type": "code",
   "execution_count": 16,
   "id": "02613c86",
   "metadata": {},
   "outputs": [],
   "source": [
    "dict_ids = load_ids()"
   ]
  },
  {
   "cell_type": "code",
   "execution_count": 40,
   "id": "78b21990",
   "metadata": {},
   "outputs": [],
   "source": [
    "class color:\n",
    "   PURPLE = '\\033[95m'\n",
    "   CYAN = '\\033[96m'\n",
    "   DARKCYAN = '\\033[36m'\n",
    "   BLUE = '\\033[94m'\n",
    "   GREEN = '\\033[92m'\n",
    "   YELLOW = '\\033[93m'\n",
    "   RED = '\\033[91m'\n",
    "   BOLD = '\\033[1m'\n",
    "   UNDERLINE = '\\033[4m'\n",
    "   END = '\\033[0m'"
   ]
  },
  {
   "cell_type": "code",
   "execution_count": null,
   "id": "40aacfa9",
   "metadata": {},
   "outputs": [],
   "source": []
  },
  {
   "cell_type": "code",
   "execution_count": null,
   "id": "67c9a2fd",
   "metadata": {},
   "outputs": [],
   "source": []
  },
  {
   "cell_type": "code",
   "execution_count": 73,
   "id": "c0f62940",
   "metadata": {
    "scrolled": false
   },
   "outputs": [
    {
     "name": "stdout",
     "output_type": "stream",
     "text": [
      "\u001b[1m Start decompiling the packet 01:a4:00:00:03:0e \u001b[0m\n",
      "***\n",
      "\u001b[1m \u001b[91m Split header and body \u001b[0m\n",
      "The header is 01:a4\n",
      "The body is 00:00:03:0e\n",
      "***\n",
      "\u001b[1m \u001b[91m Convert header in bin \u001b[0m\n",
      "Converted byte in 01a4\n",
      "Header in binary is 0000000110100100\n",
      "***\n",
      "\u001b[1m \u001b[91m Extract the id and the message size's size in binary \u001b[0m\n",
      "The id in binary is 00000001101001\n",
      "The message size's size in binary is 00\n",
      "***\n",
      "\u001b[1m \u001b[91m Convert the id and the message size's size from binary to int \u001b[0m\n",
      "The id is 105 which corresponds to the \u001b[1m GameMapMovementConfirmMessage \u001b[0m action \n",
      "The message size's is onto 0 byte(s)\n",
      "***\n",
      "\u001b[1m \u001b[91m Break the body into the size of the message and the packet's data \u001b[0m\n",
      "The message does not contain any data\n",
      "The packet data is 00:00:03:0e\n",
      "\n",
      "\n",
      "------ NEXT PACKET ------\n",
      "\u001b[1m Start decompiling the packet 48:91:02:4d:69:93:9c \u001b[0m\n",
      "***\n",
      "\u001b[1m \u001b[91m Split header and body \u001b[0m\n",
      "The header is 48:91\n",
      "The body is 02:4d:69:93:9c\n",
      "***\n",
      "\u001b[1m \u001b[91m Convert header in bin \u001b[0m\n",
      "Converted byte in 4891\n",
      "Header in binary is 0100100010010001\n",
      "***\n",
      "\u001b[1m \u001b[91m Extract the id and the message size's size in binary \u001b[0m\n",
      "The id in binary is 01001000100100\n",
      "The message size's size in binary is 01\n",
      "***\n",
      "\u001b[1m \u001b[91m Convert the id and the message size's size from binary to int \u001b[0m\n",
      "The id is 4644 which corresponds to the \u001b[1m BasicAckMessage \u001b[0m action \n",
      "The message size's is onto 1 byte(s)\n",
      "***\n",
      "\u001b[1m \u001b[91m Break the body into the size of the message and the packet's data \u001b[0m\n",
      "The message occupies 2 bytes\n",
      "The packet data is 4d:69:93:9c\n",
      "\n",
      "\n",
      "------ NEXT PACKET ------\n",
      "\u001b[1m Start decompiling the packet 16:0d:00:00:03:11:07:94:b9:1f:e1:9c:f5:46 \u001b[0m\n",
      "***\n",
      "\u001b[1m \u001b[91m Split header and body \u001b[0m\n",
      "The header is 16:0d\n",
      "The body is 00:00:03:11:07:94:b9:1f:e1:9c:f5:46\n",
      "***\n",
      "\u001b[1m \u001b[91m Convert header in bin \u001b[0m\n",
      "Converted byte in 160d\n",
      "Header in binary is 0001011000001101\n",
      "***\n",
      "\u001b[1m \u001b[91m Extract the id and the message size's size in binary \u001b[0m\n",
      "The id in binary is 00010110000011\n",
      "The message size's size in binary is 01\n",
      "***\n",
      "\u001b[1m \u001b[91m Convert the id and the message size's size from binary to int \u001b[0m\n",
      "The id is 1411 which corresponds to the \u001b[1m InteractiveUseRequestMessage \u001b[0m action \n",
      "The message size's is onto 1 byte(s)\n",
      "***\n",
      "\u001b[1m \u001b[91m Break the body into the size of the message and the packet's data \u001b[0m\n",
      "The message occupies 0 bytes\n",
      "The packet data is 00:03:11:07:94:b9:1f:e1:9c:f5:46\n",
      "\n",
      "\n",
      "------ NEXT PACKET ------\n",
      "\u001b[1m Start decompiling the packet 48:91:03:4e:83:0b:42:f9:0c:a5:82:a0:83:70:94:b9:1f:e3:02:00:01:48:95:78:00:03:01:0a:64:00:45:2e:2f:30:35:36:37:38:39:3a:3b:41:0f:44:67:68:69:6a:6b:6d:6e:6f:77:99:01:a4:01:c3:01:b2:01:22:23:24:26:27:28:29:32:33:3c:3f:42:46:47:54:57:5f:60:62:6c:98:01:a7:01:b3:01:b6:01:b7:01:b9:01:db:01:e4:01:e5:01:af:01:9e:01:9f:01:a0:01:a1:01:a2:01:a3:01:e7:01:e8:01:ee:01:f1:01:86:02:8a:02:ae:01:40:00:00:00:3f:80:00:00:3c:82:03:ff:ff:ff:ff:a0:05:93:9c \u001b[0m\n",
      "***\n",
      "\u001b[1m \u001b[91m Split header and body \u001b[0m\n",
      "The header is 48:91\n",
      "The body is 03:4e:83:0b:42:f9:0c:a5:82:a0:83:70:94:b9:1f:e3:02:00:01:48:95:78:00:03:01:0a:64:00:45:2e:2f:30:35:36:37:38:39:3a:3b:41:0f:44:67:68:69:6a:6b:6d:6e:6f:77:99:01:a4:01:c3:01:b2:01:22:23:24:26:27:28:29:32:33:3c:3f:42:46:47:54:57:5f:60:62:6c:98:01:a7:01:b3:01:b6:01:b7:01:b9:01:db:01:e4:01:e5:01:af:01:9e:01:9f:01:a0:01:a1:01:a2:01:a3:01:e7:01:e8:01:ee:01:f1:01:86:02:8a:02:ae:01:40:00:00:00:3f:80:00:00:3c:82:03:ff:ff:ff:ff:a0:05:93:9c\n",
      "***\n",
      "\u001b[1m \u001b[91m Convert header in bin \u001b[0m\n",
      "Converted byte in 4891\n",
      "Header in binary is 0100100010010001\n",
      "***\n",
      "\u001b[1m \u001b[91m Extract the id and the message size's size in binary \u001b[0m\n",
      "The id in binary is 01001000100100\n",
      "The message size's size in binary is 01\n",
      "***\n",
      "\u001b[1m \u001b[91m Convert the id and the message size's size from binary to int \u001b[0m\n",
      "The id is 4644 which corresponds to the \u001b[1m BasicAckMessage \u001b[0m action \n",
      "The message size's is onto 1 byte(s)\n",
      "***\n",
      "\u001b[1m \u001b[91m Break the body into the size of the message and the packet's data \u001b[0m\n",
      "The message occupies 3 bytes\n",
      "The packet data is 4e:83:0b:42:f9:0c:a5:82:a0:83:70:94:b9:1f:e3:02:00:01:48:95:78:00:03:01:0a:64:00:45:2e:2f:30:35:36:37:38:39:3a:3b:41:0f:44:67:68:69:6a:6b:6d:6e:6f:77:99:01:a4:01:c3:01:b2:01:22:23:24:26:27:28:29:32:33:3c:3f:42:46:47:54:57:5f:60:62:6c:98:01:a7:01:b3:01:b6:01:b7:01:b9:01:db:01:e4:01:e5:01:af:01:9e:01:9f:01:a0:01:a1:01:a2:01:a3:01:e7:01:e8:01:ee:01:f1:01:86:02:8a:02:ae:01:40:00:00:00:3f:80:00:00:3c:82:03:ff:ff:ff:ff:a0:05:93:9c\n",
      "\n",
      "\n",
      "------ NEXT PACKET ------\n",
      "\u001b[1m Start decompiling the packet 28:05:00:00:03:16:02:26:01 \u001b[0m\n",
      "***\n",
      "\u001b[1m \u001b[91m Split header and body \u001b[0m\n",
      "The header is 28:05\n",
      "The body is 00:00:03:16:02:26:01\n",
      "***\n",
      "\u001b[1m \u001b[91m Convert header in bin \u001b[0m\n",
      "Converted byte in 2805\n",
      "Header in binary is 0010100000000101\n",
      "***\n",
      "\u001b[1m \u001b[91m Extract the id and the message size's size in binary \u001b[0m\n",
      "The id in binary is 00101000000001\n",
      "The message size's size in binary is 01\n",
      "***\n",
      "\u001b[1m \u001b[91m Convert the id and the message size's size from binary to int \u001b[0m\n",
      "The id is 2561 which corresponds to the \u001b[1m ExchangeBidHouseTypeMessage \u001b[0m action \n",
      "The message size's is onto 1 byte(s)\n",
      "***\n",
      "\u001b[1m \u001b[91m Break the body into the size of the message and the packet's data \u001b[0m\n",
      "The message occupies 0 bytes\n",
      "The packet data is 00:03:16:02:26:01\n",
      "\n",
      "\n",
      "------ NEXT PACKET ------\n",
      "\u001b[1m Start decompiling the packet 48:91:03:4f:81:14:07:65:1d:00:00:00:26:00:0b:84:14:85:14:ca:11:cc:03:d9:03:dc:03:e7:80:01:ea:07:af:02:b1:0a:fc:70:93:9c \u001b[0m\n",
      "***\n",
      "\u001b[1m \u001b[91m Split header and body \u001b[0m\n",
      "The header is 48:91\n",
      "The body is 03:4f:81:14:07:65:1d:00:00:00:26:00:0b:84:14:85:14:ca:11:cc:03:d9:03:dc:03:e7:80:01:ea:07:af:02:b1:0a:fc:70:93:9c\n",
      "***\n",
      "\u001b[1m \u001b[91m Convert header in bin \u001b[0m\n",
      "Converted byte in 4891\n",
      "Header in binary is 0100100010010001\n",
      "***\n",
      "\u001b[1m \u001b[91m Extract the id and the message size's size in binary \u001b[0m\n",
      "The id in binary is 01001000100100\n",
      "The message size's size in binary is 01\n",
      "***\n",
      "\u001b[1m \u001b[91m Convert the id and the message size's size from binary to int \u001b[0m\n",
      "The id is 4644 which corresponds to the \u001b[1m BasicAckMessage \u001b[0m action \n",
      "The message size's is onto 1 byte(s)\n",
      "***\n",
      "\u001b[1m \u001b[91m Break the body into the size of the message and the packet's data \u001b[0m\n",
      "The message occupies 3 bytes\n",
      "The packet data is 4f:81:14:07:65:1d:00:00:00:26:00:0b:84:14:85:14:ca:11:cc:03:d9:03:dc:03:e7:80:01:ea:07:af:02:b1:0a:fc:70:93:9c\n",
      "\n",
      "\n",
      "------ NEXT PACKET ------\n",
      "\u001b[1m Start decompiling the packet 28:05:00:00:03:17:03:ae:01:01 \u001b[0m\n",
      "***\n",
      "\u001b[1m \u001b[91m Split header and body \u001b[0m\n",
      "The header is 28:05\n",
      "The body is 00:00:03:17:03:ae:01:01\n",
      "***\n",
      "\u001b[1m \u001b[91m Convert header in bin \u001b[0m\n",
      "Converted byte in 2805\n",
      "Header in binary is 0010100000000101\n",
      "***\n",
      "\u001b[1m \u001b[91m Extract the id and the message size's size in binary \u001b[0m\n",
      "The id in binary is 00101000000001\n",
      "The message size's size in binary is 01\n",
      "***\n",
      "\u001b[1m \u001b[91m Convert the id and the message size's size from binary to int \u001b[0m\n",
      "The id is 2561 which corresponds to the \u001b[1m ExchangeBidHouseTypeMessage \u001b[0m action \n",
      "The message size's is onto 1 byte(s)\n",
      "***\n",
      "\u001b[1m \u001b[91m Break the body into the size of the message and the packet's data \u001b[0m\n",
      "The message occupies 0 bytes\n",
      "The packet data is 00:03:17:03:ae:01:01\n",
      "\n",
      "\n",
      "------ NEXT PACKET ------\n",
      "\u001b[1m Start decompiling the packet 48:91:03:50:81:14:07:65:0c:00:00:00:ae:00:03:a0:7c:a8:7d:92:78:93:9c \u001b[0m\n",
      "***\n",
      "\u001b[1m \u001b[91m Split header and body \u001b[0m\n",
      "The header is 48:91\n",
      "The body is 03:50:81:14:07:65:0c:00:00:00:ae:00:03:a0:7c:a8:7d:92:78:93:9c\n",
      "***\n",
      "\u001b[1m \u001b[91m Convert header in bin \u001b[0m\n",
      "Converted byte in 4891\n",
      "Header in binary is 0100100010010001\n",
      "***\n",
      "\u001b[1m \u001b[91m Extract the id and the message size's size in binary \u001b[0m\n",
      "The id in binary is 01001000100100\n",
      "The message size's size in binary is 01\n",
      "***\n",
      "\u001b[1m \u001b[91m Convert the id and the message size's size from binary to int \u001b[0m\n",
      "The id is 4644 which corresponds to the \u001b[1m BasicAckMessage \u001b[0m action \n",
      "The message size's is onto 1 byte(s)\n",
      "***\n",
      "\u001b[1m \u001b[91m Break the body into the size of the message and the packet's data \u001b[0m\n",
      "The message occupies 3 bytes\n",
      "The packet data is 50:81:14:07:65:0c:00:00:00:ae:00:03:a0:7c:a8:7d:92:78:93:9c\n",
      "\n",
      "\n",
      "------ NEXT PACKET ------\n",
      "\u001b[1m Start decompiling the packet 42:f9:0d:a5:82:8c:9b:80:07:94:b9:1f:e3:02:00:01 \u001b[0m\n",
      "***\n",
      "\u001b[1m \u001b[91m Split header and body \u001b[0m\n",
      "The header is 42:f9\n",
      "The body is 0d:a5:82:8c:9b:80:07:94:b9:1f:e3:02:00:01\n",
      "***\n",
      "\u001b[1m \u001b[91m Convert header in bin \u001b[0m\n",
      "Converted byte in 42f9\n",
      "Header in binary is 0100001011111001\n",
      "***\n",
      "\u001b[1m \u001b[91m Extract the id and the message size's size in binary \u001b[0m\n",
      "The id in binary is 01000010111110\n",
      "The message size's size in binary is 01\n",
      "***\n",
      "\u001b[1m \u001b[91m Convert the id and the message size's size from binary to int \u001b[0m\n",
      "The id is 4286 which corresponds to the \u001b[1m InteractiveUsedMessage \u001b[0m action \n",
      "The message size's is onto 1 byte(s)\n",
      "***\n",
      "\u001b[1m \u001b[91m Break the body into the size of the message and the packet's data \u001b[0m\n",
      "The message occupies 13 bytes\n",
      "The packet data is a5:82:8c:9b:80:07:94:b9:1f:e3:02:00:01\n",
      "\n",
      "\n",
      "------ NEXT PACKET ------\n",
      "\u001b[1m Start decompiling the packet 28:05:00:00:03:1f:02:26:00 \u001b[0m\n",
      "***\n",
      "\u001b[1m \u001b[91m Split header and body \u001b[0m\n",
      "The header is 28:05\n",
      "The body is 00:00:03:1f:02:26:00\n",
      "***\n",
      "\u001b[1m \u001b[91m Convert header in bin \u001b[0m\n",
      "Converted byte in 2805\n",
      "Header in binary is 0010100000000101\n",
      "***\n",
      "\u001b[1m \u001b[91m Extract the id and the message size's size in binary \u001b[0m\n",
      "The id in binary is 00101000000001\n",
      "The message size's size in binary is 01\n",
      "***\n",
      "\u001b[1m \u001b[91m Convert the id and the message size's size from binary to int \u001b[0m\n",
      "The id is 2561 which corresponds to the \u001b[1m ExchangeBidHouseTypeMessage \u001b[0m action \n",
      "The message size's is onto 1 byte(s)\n",
      "***\n",
      "\u001b[1m \u001b[91m Break the body into the size of the message and the packet's data \u001b[0m\n",
      "The message occupies 0 bytes\n",
      "The packet data is 00:03:1f:02:26:00\n",
      "\n",
      "\n",
      "------ NEXT PACKET ------\n",
      "\u001b[1m Start decompiling the packet 75:69:61:27:0f:42:66:80:cc:a0:24:a0:00:1a:a6:00:c3:04:01:00:06:0a:e1:0f:ef:01:b3:0b:43:ce:04:00:05:01:ff:d2:7c:02:45:00:01:03:d3:90:32:04:da:b4:45:05:4c:4c:4c:00:01:87:01:00:00:00:08:57:75:61:6e:77:61:79:79:10:9e:00:08:00:00:00:02:21:ee:45:00:00:13:d9:01:08:2e:82:34:00:00:00:42:66:80:cc:a0:29:e0:00 \u001b[0m\n",
      "***\n",
      "\u001b[1m \u001b[91m Split header and body \u001b[0m\n",
      "The header is 75:69\n",
      "The body is 61:27:0f:42:66:80:cc:a0:24:a0:00:1a:a6:00:c3:04:01:00:06:0a:e1:0f:ef:01:b3:0b:43:ce:04:00:05:01:ff:d2:7c:02:45:00:01:03:d3:90:32:04:da:b4:45:05:4c:4c:4c:00:01:87:01:00:00:00:08:57:75:61:6e:77:61:79:79:10:9e:00:08:00:00:00:02:21:ee:45:00:00:13:d9:01:08:2e:82:34:00:00:00:42:66:80:cc:a0:29:e0:00\n",
      "***\n",
      "\u001b[1m \u001b[91m Convert header in bin \u001b[0m\n",
      "Converted byte in 7569\n",
      "Header in binary is 0111010101101001\n",
      "***\n",
      "\u001b[1m \u001b[91m Extract the id and the message size's size in binary \u001b[0m\n",
      "The id in binary is 01110101011010\n",
      "The message size's size in binary is 01\n",
      "***\n",
      "\u001b[1m \u001b[91m Convert the id and the message size's size from binary to int \u001b[0m\n",
      "The id is 7514 which corresponds to the \u001b[1m GameRolePlayShowActorMessage \u001b[0m action \n",
      "The message size's is onto 1 byte(s)\n",
      "***\n",
      "\u001b[1m \u001b[91m Break the body into the size of the message and the packet's data \u001b[0m\n",
      "The message occupies 97 bytes\n",
      "The packet data is 27:0f:42:66:80:cc:a0:24:a0:00:1a:a6:00:c3:04:01:00:06:0a:e1:0f:ef:01:b3:0b:43:ce:04:00:05:01:ff:d2:7c:02:45:00:01:03:d3:90:32:04:da:b4:45:05:4c:4c:4c:00:01:87:01:00:00:00:08:57:75:61:6e:77:61:79:79:10:9e:00:08:00:00:00:02:21:ee:45:00:00:13:d9:01:08:2e:82:34:00:00:00:42:66:80:cc:a0:29:e0:00\n",
      "\n",
      "\n",
      "------ NEXT PACKET ------\n",
      "\u001b[1m Start decompiling the packet 04:dd:00:00:03:20:01:01 \u001b[0m\n",
      "***\n",
      "\u001b[1m \u001b[91m Split header and body \u001b[0m\n",
      "The header is 04:dd\n",
      "The body is 00:00:03:20:01:01\n",
      "***\n",
      "\u001b[1m \u001b[91m Convert header in bin \u001b[0m\n",
      "Converted byte in 04dd\n",
      "Header in binary is 0000010011011101\n",
      "***\n",
      "\u001b[1m \u001b[91m Extract the id and the message size's size in binary \u001b[0m\n",
      "The id in binary is 00000100110111\n",
      "The message size's size in binary is 01\n",
      "***\n",
      "\u001b[1m \u001b[91m Convert the id and the message size's size from binary to int \u001b[0m\n",
      "The id is 311 which corresponds to the \u001b[1m BasicPingMessage \u001b[0m action \n",
      "The message size's is onto 1 byte(s)\n",
      "***\n",
      "\u001b[1m \u001b[91m Break the body into the size of the message and the packet's data \u001b[0m\n",
      "The message occupies 0 bytes\n",
      "The packet data is 00:03:20:01:01\n",
      "\n",
      "\n",
      "------ NEXT PACKET ------\n",
      "\u001b[1m Start decompiling the packet 48:91:03:51:81:14 \u001b[0m\n",
      "***\n",
      "\u001b[1m \u001b[91m Split header and body \u001b[0m\n",
      "The header is 48:91\n",
      "The body is 03:51:81:14\n",
      "***\n",
      "\u001b[1m \u001b[91m Convert header in bin \u001b[0m\n",
      "Converted byte in 4891\n",
      "Header in binary is 0100100010010001\n",
      "***\n",
      "\u001b[1m \u001b[91m Extract the id and the message size's size in binary \u001b[0m\n",
      "The id in binary is 01001000100100\n",
      "The message size's size in binary is 01\n",
      "***\n",
      "\u001b[1m \u001b[91m Convert the id and the message size's size from binary to int \u001b[0m\n",
      "The id is 4644 which corresponds to the \u001b[1m BasicAckMessage \u001b[0m action \n",
      "The message size's is onto 1 byte(s)\n",
      "***\n",
      "\u001b[1m \u001b[91m Break the body into the size of the message and the packet's data \u001b[0m\n",
      "The message occupies 3 bytes\n",
      "The packet data is 51:81:14\n",
      "\n",
      "\n",
      "------ NEXT PACKET ------\n",
      "\u001b[1m Start decompiling the packet 93:9c:48:91:03:52:b7:02:78:31:01:01:93:9c \u001b[0m\n",
      "***\n",
      "\u001b[1m \u001b[91m Split header and body \u001b[0m\n",
      "The header is 93:9c\n",
      "The body is 48:91:03:52:b7:02:78:31:01:01:93:9c\n",
      "***\n",
      "\u001b[1m \u001b[91m Convert header in bin \u001b[0m\n",
      "Converted byte in 939c\n",
      "Header in binary is 1001001110011100\n",
      "***\n",
      "\u001b[1m \u001b[91m Extract the id and the message size's size in binary \u001b[0m\n",
      "The id in binary is 10010011100111\n",
      "The message size's size in binary is 00\n",
      "***\n",
      "\u001b[1m \u001b[91m Convert the id and the message size's size from binary to int \u001b[0m\n",
      "The id is 9447 which corresponds to the \u001b[1m BasicNoOperationMessage \u001b[0m action \n",
      "The message size's is onto 0 byte(s)\n",
      "***\n",
      "\u001b[1m \u001b[91m Break the body into the size of the message and the packet's data \u001b[0m\n",
      "The message does not contain any data\n",
      "The packet data is 48:91:03:52:b7:02:78:31:01:01:93:9c\n",
      "\n",
      "\n",
      "------ NEXT PACKET ------\n",
      "\u001b[1m Start decompiling the packet 28:05:00:00:03:27:03:ae:01:00 \u001b[0m\n",
      "***\n",
      "\u001b[1m \u001b[91m Split header and body \u001b[0m\n",
      "The header is 28:05\n",
      "The body is 00:00:03:27:03:ae:01:00\n",
      "***\n",
      "\u001b[1m \u001b[91m Convert header in bin \u001b[0m\n",
      "Converted byte in 2805\n",
      "Header in binary is 0010100000000101\n",
      "***\n",
      "\u001b[1m \u001b[91m Extract the id and the message size's size in binary \u001b[0m\n",
      "The id in binary is 00101000000001\n",
      "The message size's size in binary is 01\n",
      "***\n",
      "\u001b[1m \u001b[91m Convert the id and the message size's size from binary to int \u001b[0m\n",
      "The id is 2561 which corresponds to the \u001b[1m ExchangeBidHouseTypeMessage \u001b[0m action \n",
      "The message size's is onto 1 byte(s)\n",
      "***\n",
      "\u001b[1m \u001b[91m Break the body into the size of the message and the packet's data \u001b[0m\n",
      "The message occupies 0 bytes\n",
      "The packet data is 00:03:27:03:ae:01:00\n",
      "\n",
      "\n",
      "------ NEXT PACKET ------\n",
      "\u001b[1m Start decompiling the packet 2a:31:0b:00:01:a5:82:94:b3:c0:16:00:01:00:2e:d5:0b:42:66:80:cc:a0:24:a0:00:00:08:00 \u001b[0m\n",
      "***\n",
      "\u001b[1m \u001b[91m Split header and body \u001b[0m\n",
      "The header is 2a:31\n",
      "The body is 0b:00:01:a5:82:94:b3:c0:16:00:01:00:2e:d5:0b:42:66:80:cc:a0:24:a0:00:00:08:00\n",
      "***\n",
      "\u001b[1m \u001b[91m Convert header in bin \u001b[0m\n",
      "Converted byte in 2a31\n",
      "Header in binary is 0010101000110001\n",
      "***\n",
      "\u001b[1m \u001b[91m Extract the id and the message size's size in binary \u001b[0m\n",
      "The id in binary is 00101010001100\n",
      "The message size's size in binary is 01\n",
      "***\n",
      "\u001b[1m \u001b[91m Convert the id and the message size's size from binary to int \u001b[0m\n",
      "The id is 2700 which corresponds to the \u001b[1m UpdateMapPlayersAgressableStatusMessage \u001b[0m action \n",
      "The message size's is onto 1 byte(s)\n",
      "***\n",
      "\u001b[1m \u001b[91m Break the body into the size of the message and the packet's data \u001b[0m\n",
      "The message occupies 11 bytes\n",
      "The packet data is 00:01:a5:82:94:b3:c0:16:00:01:00:2e:d5:0b:42:66:80:cc:a0:24:a0:00:00:08:00\n",
      "\n",
      "\n",
      "------ NEXT PACKET ------\n",
      "\u001b[1m Start decompiling the packet 3c:21:57:42:66:63:73:00:24:a0:00:ff:04:00:00:00:04:01:dc:14:3c:02:ff:ff:f0:03:ff:ff:f0:04:76:64:43:00:01:78:00:01:02:00:02:00:06:50:d1:10:a8:02:e8:17:fb:1b:f3:03:00:07:01:ff:d3:83:02:ff:ff:ff:03:ff:fe:db:04:ff:ff:ff:05:00:00:00:07:00:00:00:08:ff:ff:ff:00:01:8c:01:00:00:2e:d5:0b:42:66:63:73:00:24:a0:00:00:08:00:3c:21:5c:42:4c:01:b1:80:92:80:00:ff:04:00:01:a8:1a:00:04:01:6a:48:00:02:6a:48:00:03:6a:48:00:04:73:60:42:00:01:78:00:02:06:00:a9:01:00:00:00:00:00:00:00:00:02:00:02:00:06:6e:ff:10:2b:e3:02:e2:02:de:05:00:05:01:ff:da:95:02:2d:2d:2d:03:27:4e:5c:04:23:47:51:05:2f:2f:2f:00:01:91:01:00:00:2e:d5:0b:42:4c:01:b1:80:92:80:00:00:08:00:3c:21:3d:42:66:6c:2b:c0:24:a0:00:8a:13:00:00:00:00:00:00:00:01:02:00:02:00:06:1f:85:10:f4:01:92:01:81:0c:9b:08:00:05:01:ea:c0:62:02:f3:e0:a4:03:00:00:00:04:ff:ff:ff:05:ad:8d:39:00:01:5f:00:00:2e:d5:0b:42:66:6c:2b:c0:24:a0:00:00:08:00 \u001b[0m\n",
      "***\n",
      "\u001b[1m \u001b[91m Split header and body \u001b[0m\n",
      "The header is 3c:21\n",
      "The body is 57:42:66:63:73:00:24:a0:00:ff:04:00:00:00:04:01:dc:14:3c:02:ff:ff:f0:03:ff:ff:f0:04:76:64:43:00:01:78:00:01:02:00:02:00:06:50:d1:10:a8:02:e8:17:fb:1b:f3:03:00:07:01:ff:d3:83:02:ff:ff:ff:03:ff:fe:db:04:ff:ff:ff:05:00:00:00:07:00:00:00:08:ff:ff:ff:00:01:8c:01:00:00:2e:d5:0b:42:66:63:73:00:24:a0:00:00:08:00:3c:21:5c:42:4c:01:b1:80:92:80:00:ff:04:00:01:a8:1a:00:04:01:6a:48:00:02:6a:48:00:03:6a:48:00:04:73:60:42:00:01:78:00:02:06:00:a9:01:00:00:00:00:00:00:00:00:02:00:02:00:06:6e:ff:10:2b:e3:02:e2:02:de:05:00:05:01:ff:da:95:02:2d:2d:2d:03:27:4e:5c:04:23:47:51:05:2f:2f:2f:00:01:91:01:00:00:2e:d5:0b:42:4c:01:b1:80:92:80:00:00:08:00:3c:21:3d:42:66:6c:2b:c0:24:a0:00:8a:13:00:00:00:00:00:00:00:01:02:00:02:00:06:1f:85:10:f4:01:92:01:81:0c:9b:08:00:05:01:ea:c0:62:02:f3:e0:a4:03:00:00:00:04:ff:ff:ff:05:ad:8d:39:00:01:5f:00:00:2e:d5:0b:42:66:6c:2b:c0:24:a0:00:00:08:00\n",
      "***\n",
      "\u001b[1m \u001b[91m Convert header in bin \u001b[0m\n",
      "Converted byte in 3c21\n",
      "Header in binary is 0011110000100001\n",
      "***\n",
      "\u001b[1m \u001b[91m Extract the id and the message size's size in binary \u001b[0m\n",
      "The id in binary is 00111100001000\n",
      "The message size's size in binary is 01\n",
      "***\n",
      "\u001b[1m \u001b[91m Convert the id and the message size's size from binary to int \u001b[0m\n",
      "The id is 3848 which corresponds to the \u001b[1m GameContextRefreshEntityLookMessage \u001b[0m action \n",
      "The message size's is onto 1 byte(s)\n",
      "***\n",
      "\u001b[1m \u001b[91m Break the body into the size of the message and the packet's data \u001b[0m\n",
      "The message occupies 87 bytes\n",
      "The packet data is 42:66:63:73:00:24:a0:00:ff:04:00:00:00:04:01:dc:14:3c:02:ff:ff:f0:03:ff:ff:f0:04:76:64:43:00:01:78:00:01:02:00:02:00:06:50:d1:10:a8:02:e8:17:fb:1b:f3:03:00:07:01:ff:d3:83:02:ff:ff:ff:03:ff:fe:db:04:ff:ff:ff:05:00:00:00:07:00:00:00:08:ff:ff:ff:00:01:8c:01:00:00:2e:d5:0b:42:66:63:73:00:24:a0:00:00:08:00:3c:21:5c:42:4c:01:b1:80:92:80:00:ff:04:00:01:a8:1a:00:04:01:6a:48:00:02:6a:48:00:03:6a:48:00:04:73:60:42:00:01:78:00:02:06:00:a9:01:00:00:00:00:00:00:00:00:02:00:02:00:06:6e:ff:10:2b:e3:02:e2:02:de:05:00:05:01:ff:da:95:02:2d:2d:2d:03:27:4e:5c:04:23:47:51:05:2f:2f:2f:00:01:91:01:00:00:2e:d5:0b:42:4c:01:b1:80:92:80:00:00:08:00:3c:21:3d:42:66:6c:2b:c0:24:a0:00:8a:13:00:00:00:00:00:00:00:01:02:00:02:00:06:1f:85:10:f4:01:92:01:81:0c:9b:08:00:05:01:ea:c0:62:02:f3:e0:a4:03:00:00:00:04:ff:ff:ff:05:ad:8d:39:00:01:5f:00:00:2e:d5:0b:42:66:6c:2b:c0:24:a0:00:00:08:00\n",
      "\n",
      "\n",
      "------ NEXT PACKET ------\n",
      "\u001b[1m Start decompiling the packet 48:91:03:53:81:14:93:9c \u001b[0m\n",
      "***\n",
      "\u001b[1m \u001b[91m Split header and body \u001b[0m\n",
      "The header is 48:91\n",
      "The body is 03:53:81:14:93:9c\n",
      "***\n",
      "\u001b[1m \u001b[91m Convert header in bin \u001b[0m\n",
      "Converted byte in 4891\n",
      "Header in binary is 0100100010010001\n",
      "***\n",
      "\u001b[1m \u001b[91m Extract the id and the message size's size in binary \u001b[0m\n",
      "The id in binary is 01001000100100\n",
      "The message size's size in binary is 01\n",
      "***\n",
      "\u001b[1m \u001b[91m Convert the id and the message size's size from binary to int \u001b[0m\n",
      "The id is 4644 which corresponds to the \u001b[1m BasicAckMessage \u001b[0m action \n",
      "The message size's is onto 1 byte(s)\n",
      "***\n",
      "\u001b[1m \u001b[91m Break the body into the size of the message and the packet's data \u001b[0m\n",
      "The message occupies 3 bytes\n",
      "The packet data is 53:81:14:93:9c\n",
      "\n",
      "\n",
      "------ NEXT PACKET ------\n",
      "\u001b[1m Start decompiling the packet 28:05:00:00:03:32:02:6b:01 \u001b[0m\n",
      "***\n",
      "\u001b[1m \u001b[91m Split header and body \u001b[0m\n",
      "The header is 28:05\n",
      "The body is 00:00:03:32:02:6b:01\n",
      "***\n",
      "\u001b[1m \u001b[91m Convert header in bin \u001b[0m\n",
      "Converted byte in 2805\n",
      "Header in binary is 0010100000000101\n",
      "***\n",
      "\u001b[1m \u001b[91m Extract the id and the message size's size in binary \u001b[0m\n",
      "The id in binary is 00101000000001\n",
      "The message size's size in binary is 01\n",
      "***\n",
      "\u001b[1m \u001b[91m Convert the id and the message size's size from binary to int \u001b[0m\n",
      "The id is 2561 which corresponds to the \u001b[1m ExchangeBidHouseTypeMessage \u001b[0m action \n",
      "The message size's is onto 1 byte(s)\n",
      "***\n",
      "\u001b[1m \u001b[91m Break the body into the size of the message and the packet's data \u001b[0m\n",
      "The message occupies 0 bytes\n",
      "The packet data is 00:03:32:02:6b:01\n",
      "\n",
      "\n",
      "------ NEXT PACKET ------\n",
      "\u001b[1m Start decompiling the packet 48:91:03:54:81:14:07:65:1c:00:00:00:6b:00:0b:ca:3f:b1:14:f2:11:b2:14:f3:11:b3:14:f4:11:f5:11:b5:14:ff:11:df:3f:93:9c \u001b[0m\n",
      "***\n",
      "\u001b[1m \u001b[91m Split header and body \u001b[0m\n",
      "The header is 48:91\n",
      "The body is 03:54:81:14:07:65:1c:00:00:00:6b:00:0b:ca:3f:b1:14:f2:11:b2:14:f3:11:b3:14:f4:11:f5:11:b5:14:ff:11:df:3f:93:9c\n",
      "***\n",
      "\u001b[1m \u001b[91m Convert header in bin \u001b[0m\n",
      "Converted byte in 4891\n",
      "Header in binary is 0100100010010001\n",
      "***\n",
      "\u001b[1m \u001b[91m Extract the id and the message size's size in binary \u001b[0m\n",
      "The id in binary is 01001000100100\n",
      "The message size's size in binary is 01\n",
      "***\n",
      "\u001b[1m \u001b[91m Convert the id and the message size's size from binary to int \u001b[0m\n",
      "The id is 4644 which corresponds to the \u001b[1m BasicAckMessage \u001b[0m action \n",
      "The message size's is onto 1 byte(s)\n",
      "***\n",
      "\u001b[1m \u001b[91m Break the body into the size of the message and the packet's data \u001b[0m\n",
      "The message occupies 3 bytes\n",
      "The packet data is 54:81:14:07:65:1c:00:00:00:6b:00:0b:ca:3f:b1:14:f2:11:b2:14:f3:11:b3:14:f4:11:f5:11:b5:14:ff:11:df:3f:93:9c\n",
      "\n",
      "\n",
      "------ NEXT PACKET ------\n",
      "\u001b[1m Start decompiling the packet 42:f9:0d:a5:82:94:b3:c0:16:94:b9:1f:e3:02:00:01 \u001b[0m\n",
      "***\n",
      "\u001b[1m \u001b[91m Split header and body \u001b[0m\n",
      "The header is 42:f9\n",
      "The body is 0d:a5:82:94:b3:c0:16:94:b9:1f:e3:02:00:01\n",
      "***\n",
      "\u001b[1m \u001b[91m Convert header in bin \u001b[0m\n",
      "Converted byte in 42f9\n",
      "Header in binary is 0100001011111001\n",
      "***\n",
      "\u001b[1m \u001b[91m Extract the id and the message size's size in binary \u001b[0m\n",
      "The id in binary is 01000010111110\n",
      "The message size's size in binary is 01\n",
      "***\n",
      "\u001b[1m \u001b[91m Convert the id and the message size's size from binary to int \u001b[0m\n",
      "The id is 4286 which corresponds to the \u001b[1m InteractiveUsedMessage \u001b[0m action \n",
      "The message size's is onto 1 byte(s)\n",
      "***\n",
      "\u001b[1m \u001b[91m Break the body into the size of the message and the packet's data \u001b[0m\n",
      "The message occupies 13 bytes\n",
      "The packet data is a5:82:94:b3:c0:16:94:b9:1f:e3:02:00:01\n",
      "\n",
      "\n",
      "------ NEXT PACKET ------\n",
      "\u001b[1m Start decompiling the packet 7c:69:00:00:03:37:03:f3:11:01 \u001b[0m\n",
      "***\n",
      "\u001b[1m \u001b[91m Split header and body \u001b[0m\n",
      "The header is 7c:69\n",
      "The body is 00:00:03:37:03:f3:11:01\n",
      "***\n",
      "\u001b[1m \u001b[91m Convert header in bin \u001b[0m\n",
      "Converted byte in 7c69\n",
      "Header in binary is 0111110001101001\n",
      "***\n",
      "\u001b[1m \u001b[91m Extract the id and the message size's size in binary \u001b[0m\n",
      "The id in binary is 01111100011010\n",
      "The message size's size in binary is 01\n",
      "***\n",
      "\u001b[1m \u001b[91m Convert the id and the message size's size from binary to int \u001b[0m\n",
      "The id is 7962 which corresponds to the \u001b[1m ExchangeBidHouseSearchMessage \u001b[0m action \n",
      "The message size's is onto 1 byte(s)\n",
      "***\n",
      "\u001b[1m \u001b[91m Break the body into the size of the message and the packet's data \u001b[0m\n",
      "The message occupies 0 bytes\n",
      "The packet data is 00:03:37:03:f3:11:01\n",
      "\n",
      "\n",
      "------ NEXT PACKET ------\n",
      "\u001b[1m Start decompiling the packet 48:91:03:55:9a:3e:5e:b9:1a:f3:11:00:00:00:6b:00:01:d9:d7:1a:f3:11:00:00:00:6b:00:00:00:03:6b:9c:0b:92:75:93:9c \u001b[0m\n",
      "***\n",
      "\u001b[1m \u001b[91m Split header and body \u001b[0m\n",
      "The header is 48:91\n",
      "The body is 03:55:9a:3e:5e:b9:1a:f3:11:00:00:00:6b:00:01:d9:d7:1a:f3:11:00:00:00:6b:00:00:00:03:6b:9c:0b:92:75:93:9c\n",
      "***\n",
      "\u001b[1m \u001b[91m Convert header in bin \u001b[0m\n",
      "Converted byte in 4891\n",
      "Header in binary is 0100100010010001\n",
      "***\n",
      "\u001b[1m \u001b[91m Extract the id and the message size's size in binary \u001b[0m\n",
      "The id in binary is 01001000100100\n",
      "The message size's size in binary is 01\n",
      "***\n",
      "\u001b[1m \u001b[91m Convert the id and the message size's size from binary to int \u001b[0m\n",
      "The id is 4644 which corresponds to the \u001b[1m BasicAckMessage \u001b[0m action \n",
      "The message size's is onto 1 byte(s)\n",
      "***\n",
      "\u001b[1m \u001b[91m Break the body into the size of the message and the packet's data \u001b[0m\n",
      "The message occupies 3 bytes\n",
      "The packet data is 55:9a:3e:5e:b9:1a:f3:11:00:00:00:6b:00:01:d9:d7:1a:f3:11:00:00:00:6b:00:00:00:03:6b:9c:0b:92:75:93:9c\n",
      "\n",
      "\n",
      "------ NEXT PACKET ------\n",
      "\u001b[1m Start decompiling the packet 7c:69:00:00:03:3b:03:ca:3f:01 \u001b[0m\n",
      "***\n",
      "\u001b[1m \u001b[91m Split header and body \u001b[0m\n",
      "The header is 7c:69\n",
      "The body is 00:00:03:3b:03:ca:3f:01\n",
      "***\n",
      "\u001b[1m \u001b[91m Convert header in bin \u001b[0m\n",
      "Converted byte in 7c69\n",
      "Header in binary is 0111110001101001\n",
      "***\n",
      "\u001b[1m \u001b[91m Extract the id and the message size's size in binary \u001b[0m\n",
      "The id in binary is 01111100011010\n",
      "The message size's size in binary is 01\n",
      "***\n",
      "\u001b[1m \u001b[91m Convert the id and the message size's size from binary to int \u001b[0m\n",
      "The id is 7962 which corresponds to the \u001b[1m ExchangeBidHouseSearchMessage \u001b[0m action \n",
      "The message size's is onto 1 byte(s)\n",
      "***\n",
      "\u001b[1m \u001b[91m Break the body into the size of the message and the packet's data \u001b[0m\n",
      "The message occupies 0 bytes\n",
      "The packet data is 00:03:3b:03:ca:3f:01\n",
      "\n",
      "\n",
      "------ NEXT PACKET ------\n",
      "\u001b[1m Start decompiling the packet 48:91:03:56:9a:3e:5e:b9:1c:ca:3f:00:00:00:6b:00:01:a7:88:30:ca:3f:00:00:00:6b:00:00:00:03:e6:01:9e:1f:97:ea:01:93:9c \u001b[0m\n",
      "***\n",
      "\u001b[1m \u001b[91m Split header and body \u001b[0m\n",
      "The header is 48:91\n",
      "The body is 03:56:9a:3e:5e:b9:1c:ca:3f:00:00:00:6b:00:01:a7:88:30:ca:3f:00:00:00:6b:00:00:00:03:e6:01:9e:1f:97:ea:01:93:9c\n",
      "***\n",
      "\u001b[1m \u001b[91m Convert header in bin \u001b[0m\n",
      "Converted byte in 4891\n",
      "Header in binary is 0100100010010001\n",
      "***\n",
      "\u001b[1m \u001b[91m Extract the id and the message size's size in binary \u001b[0m\n",
      "The id in binary is 01001000100100\n",
      "The message size's size in binary is 01\n",
      "***\n",
      "\u001b[1m \u001b[91m Convert the id and the message size's size from binary to int \u001b[0m\n",
      "The id is 4644 which corresponds to the \u001b[1m BasicAckMessage \u001b[0m action \n",
      "The message size's is onto 1 byte(s)\n",
      "***\n",
      "\u001b[1m \u001b[91m Break the body into the size of the message and the packet's data \u001b[0m\n",
      "The message occupies 3 bytes\n",
      "The packet data is 56:9a:3e:5e:b9:1c:ca:3f:00:00:00:6b:00:01:a7:88:30:ca:3f:00:00:00:6b:00:00:00:03:e6:01:9e:1f:97:ea:01:93:9c\n",
      "\n",
      "\n",
      "------ NEXT PACKET ------\n",
      "\u001b[1m Start decompiling the packet 7c:69:00:00:03:3f:03:f5:11:01 \u001b[0m\n",
      "***\n",
      "\u001b[1m \u001b[91m Split header and body \u001b[0m\n",
      "The header is 7c:69\n",
      "The body is 00:00:03:3f:03:f5:11:01\n",
      "***\n",
      "\u001b[1m \u001b[91m Convert header in bin \u001b[0m\n",
      "Converted byte in 7c69\n",
      "Header in binary is 0111110001101001\n",
      "***\n",
      "\u001b[1m \u001b[91m Extract the id and the message size's size in binary \u001b[0m\n",
      "The id in binary is 01111100011010\n",
      "The message size's size in binary is 01\n",
      "***\n",
      "\u001b[1m \u001b[91m Convert the id and the message size's size from binary to int \u001b[0m\n",
      "The id is 7962 which corresponds to the \u001b[1m ExchangeBidHouseSearchMessage \u001b[0m action \n",
      "The message size's is onto 1 byte(s)\n",
      "***\n",
      "\u001b[1m \u001b[91m Break the body into the size of the message and the packet's data \u001b[0m\n",
      "The message occupies 0 bytes\n",
      "The packet data is 00:03:3f:03:f5:11:01\n",
      "\n",
      "\n",
      "------ NEXT PACKET ------\n",
      "\u001b[1m Start decompiling the packet 48:91:03:57:9a:3e:5e:b9:1a:f5:11:00:00:00:6b:00:01:fd:da:1a:f5:11:00:00:00:6b:00:00:00:03:0d:ab:02:bc:3e:93:9c \u001b[0m\n",
      "***\n",
      "\u001b[1m \u001b[91m Split header and body \u001b[0m\n",
      "The header is 48:91\n",
      "The body is 03:57:9a:3e:5e:b9:1a:f5:11:00:00:00:6b:00:01:fd:da:1a:f5:11:00:00:00:6b:00:00:00:03:0d:ab:02:bc:3e:93:9c\n",
      "***\n",
      "\u001b[1m \u001b[91m Convert header in bin \u001b[0m\n",
      "Converted byte in 4891\n",
      "Header in binary is 0100100010010001\n",
      "***\n",
      "\u001b[1m \u001b[91m Extract the id and the message size's size in binary \u001b[0m\n",
      "The id in binary is 01001000100100\n",
      "The message size's size in binary is 01\n",
      "***\n",
      "\u001b[1m \u001b[91m Convert the id and the message size's size from binary to int \u001b[0m\n",
      "The id is 4644 which corresponds to the \u001b[1m BasicAckMessage \u001b[0m action \n",
      "The message size's is onto 1 byte(s)\n",
      "***\n",
      "\u001b[1m \u001b[91m Break the body into the size of the message and the packet's data \u001b[0m\n",
      "The message occupies 3 bytes\n",
      "The packet data is 57:9a:3e:5e:b9:1a:f5:11:00:00:00:6b:00:01:fd:da:1a:f5:11:00:00:00:6b:00:00:00:03:0d:ab:02:bc:3e:93:9c\n",
      "\n",
      "\n",
      "------ NEXT PACKET ------\n",
      "\u001b[1m Start decompiling the packet 04:dd:00:00:03:43:01:01 \u001b[0m\n",
      "***\n",
      "\u001b[1m \u001b[91m Split header and body \u001b[0m\n",
      "The header is 04:dd\n",
      "The body is 00:00:03:43:01:01\n",
      "***\n",
      "\u001b[1m \u001b[91m Convert header in bin \u001b[0m\n",
      "Converted byte in 04dd\n",
      "Header in binary is 0000010011011101\n",
      "***\n",
      "\u001b[1m \u001b[91m Extract the id and the message size's size in binary \u001b[0m\n",
      "The id in binary is 00000100110111\n",
      "The message size's size in binary is 01\n",
      "***\n",
      "\u001b[1m \u001b[91m Convert the id and the message size's size from binary to int \u001b[0m\n",
      "The id is 311 which corresponds to the \u001b[1m BasicPingMessage \u001b[0m action \n",
      "The message size's is onto 1 byte(s)\n",
      "***\n",
      "\u001b[1m \u001b[91m Break the body into the size of the message and the packet's data \u001b[0m\n",
      "The message occupies 0 bytes\n",
      "The packet data is 00:03:43:01:01\n",
      "\n",
      "\n",
      "------ NEXT PACKET ------\n",
      "\u001b[1m Start decompiling the packet 48:91:03:58:b7:02:78:31:01:01:93:9c \u001b[0m\n",
      "***\n",
      "\u001b[1m \u001b[91m Split header and body \u001b[0m\n",
      "The header is 48:91\n",
      "The body is 03:58:b7:02:78:31:01:01:93:9c\n",
      "***\n",
      "\u001b[1m \u001b[91m Convert header in bin \u001b[0m\n",
      "Converted byte in 4891\n",
      "Header in binary is 0100100010010001\n",
      "***\n",
      "\u001b[1m \u001b[91m Extract the id and the message size's size in binary \u001b[0m\n",
      "The id in binary is 01001000100100\n",
      "The message size's size in binary is 01\n",
      "***\n",
      "\u001b[1m \u001b[91m Convert the id and the message size's size from binary to int \u001b[0m\n",
      "The id is 4644 which corresponds to the \u001b[1m BasicAckMessage \u001b[0m action \n",
      "The message size's is onto 1 byte(s)\n",
      "***\n",
      "\u001b[1m \u001b[91m Break the body into the size of the message and the packet's data \u001b[0m\n",
      "The message occupies 3 bytes\n",
      "The packet data is 58:b7:02:78:31:01:01:93:9c\n",
      "\n",
      "\n",
      "------ NEXT PACKET ------\n",
      "\u001b[1m Start decompiling the packet 7c:69:00:00:03:47:03:f3:11:00 \u001b[0m\n",
      "***\n",
      "\u001b[1m \u001b[91m Split header and body \u001b[0m\n",
      "The header is 7c:69\n",
      "The body is 00:00:03:47:03:f3:11:00\n",
      "***\n",
      "\u001b[1m \u001b[91m Convert header in bin \u001b[0m\n",
      "Converted byte in 7c69\n",
      "Header in binary is 0111110001101001\n",
      "***\n",
      "\u001b[1m \u001b[91m Extract the id and the message size's size in binary \u001b[0m\n",
      "The id in binary is 01111100011010\n",
      "The message size's size in binary is 01\n",
      "***\n",
      "\u001b[1m \u001b[91m Convert the id and the message size's size from binary to int \u001b[0m\n",
      "The id is 7962 which corresponds to the \u001b[1m ExchangeBidHouseSearchMessage \u001b[0m action \n",
      "The message size's is onto 1 byte(s)\n",
      "***\n",
      "\u001b[1m \u001b[91m Break the body into the size of the message and the packet's data \u001b[0m\n",
      "The message occupies 0 bytes\n",
      "The packet data is 00:03:47:03:f3:11:00\n",
      "\n",
      "\n",
      "------ NEXT PACKET ------\n",
      "\u001b[1m Start decompiling the packet 48:91:03:59:9a:3e:5e:b9:1a:f3:11:00:00:00:6b:00:01:d9:d7:1a:f3:11:00:00:00:6b:00:00:00:03:6b:9c:0b:92:75:93:9c \u001b[0m\n",
      "***\n",
      "\u001b[1m \u001b[91m Split header and body \u001b[0m\n",
      "The header is 48:91\n",
      "The body is 03:59:9a:3e:5e:b9:1a:f3:11:00:00:00:6b:00:01:d9:d7:1a:f3:11:00:00:00:6b:00:00:00:03:6b:9c:0b:92:75:93:9c\n",
      "***\n",
      "\u001b[1m \u001b[91m Convert header in bin \u001b[0m\n",
      "Converted byte in 4891\n",
      "Header in binary is 0100100010010001\n",
      "***\n",
      "\u001b[1m \u001b[91m Extract the id and the message size's size in binary \u001b[0m\n",
      "The id in binary is 01001000100100\n",
      "The message size's size in binary is 01\n",
      "***\n",
      "\u001b[1m \u001b[91m Convert the id and the message size's size from binary to int \u001b[0m\n",
      "The id is 4644 which corresponds to the \u001b[1m BasicAckMessage \u001b[0m action \n",
      "The message size's is onto 1 byte(s)\n",
      "***\n",
      "\u001b[1m \u001b[91m Break the body into the size of the message and the packet's data \u001b[0m\n",
      "The message occupies 3 bytes\n",
      "The packet data is 59:9a:3e:5e:b9:1a:f3:11:00:00:00:6b:00:01:d9:d7:1a:f3:11:00:00:00:6b:00:00:00:03:6b:9c:0b:92:75:93:9c\n",
      "\n",
      "\n",
      "------ NEXT PACKET ------\n",
      "\u001b[1m Start decompiling the packet 7c:69:00:00:03:48:03:ca:3f:00:7c:69:00:00:03:49:03:f5:11:00:28:05:00:00:03:4a:02:6f:01 \u001b[0m\n",
      "***\n",
      "\u001b[1m \u001b[91m Split header and body \u001b[0m\n",
      "The header is 7c:69\n",
      "The body is 00:00:03:48:03:ca:3f:00:7c:69:00:00:03:49:03:f5:11:00:28:05:00:00:03:4a:02:6f:01\n",
      "***\n",
      "\u001b[1m \u001b[91m Convert header in bin \u001b[0m\n",
      "Converted byte in 7c69\n",
      "Header in binary is 0111110001101001\n",
      "***\n",
      "\u001b[1m \u001b[91m Extract the id and the message size's size in binary \u001b[0m\n",
      "The id in binary is 01111100011010\n",
      "The message size's size in binary is 01\n",
      "***\n",
      "\u001b[1m \u001b[91m Convert the id and the message size's size from binary to int \u001b[0m\n",
      "The id is 7962 which corresponds to the \u001b[1m ExchangeBidHouseSearchMessage \u001b[0m action \n",
      "The message size's is onto 1 byte(s)\n",
      "***\n",
      "\u001b[1m \u001b[91m Break the body into the size of the message and the packet's data \u001b[0m\n",
      "The message occupies 0 bytes\n",
      "The packet data is 00:03:48:03:ca:3f:00:7c:69:00:00:03:49:03:f5:11:00:28:05:00:00:03:4a:02:6f:01\n",
      "\n",
      "\n",
      "------ NEXT PACKET ------\n",
      "\u001b[1m Start decompiling the packet 48:91:03:5a:9a:3e:5e:b9:1c:ca:3f:00:00:00:6b:00:01:a7:88:30:ca:3f:00:00:00:6b:00:00:00:03:e6:01:9e:1f:97:ea:01:93:9c \u001b[0m\n",
      "***\n",
      "\u001b[1m \u001b[91m Split header and body \u001b[0m\n",
      "The header is 48:91\n",
      "The body is 03:5a:9a:3e:5e:b9:1c:ca:3f:00:00:00:6b:00:01:a7:88:30:ca:3f:00:00:00:6b:00:00:00:03:e6:01:9e:1f:97:ea:01:93:9c\n",
      "***\n",
      "\u001b[1m \u001b[91m Convert header in bin \u001b[0m\n",
      "Converted byte in 4891\n",
      "Header in binary is 0100100010010001\n",
      "***\n",
      "\u001b[1m \u001b[91m Extract the id and the message size's size in binary \u001b[0m\n",
      "The id in binary is 01001000100100\n",
      "The message size's size in binary is 01\n",
      "***\n",
      "\u001b[1m \u001b[91m Convert the id and the message size's size from binary to int \u001b[0m\n",
      "The id is 4644 which corresponds to the \u001b[1m BasicAckMessage \u001b[0m action \n",
      "The message size's is onto 1 byte(s)\n",
      "***\n",
      "\u001b[1m \u001b[91m Break the body into the size of the message and the packet's data \u001b[0m\n",
      "The message occupies 3 bytes\n",
      "The packet data is 5a:9a:3e:5e:b9:1c:ca:3f:00:00:00:6b:00:01:a7:88:30:ca:3f:00:00:00:6b:00:00:00:03:e6:01:9e:1f:97:ea:01:93:9c\n",
      "\n",
      "\n",
      "------ NEXT PACKET ------\n"
     ]
    }
   ],
   "source": [
    "for packet in list_packets:\n",
    "    \n",
    "    id_, packet_data_bit = main(payload=packet)\n",
    "#     print(color.BOLD + dict_ids[str(id_)] + color.END)\n",
    "    \n",
    "    print(\"\\n\")\n",
    "    print(\"------ NEXT PACKET ------\")"
   ]
  },
  {
   "cell_type": "code",
   "execution_count": null,
   "id": "3997eb3c",
   "metadata": {},
   "outputs": [],
   "source": []
  },
  {
   "cell_type": "markdown",
   "id": "91abb354",
   "metadata": {},
   "source": [
    "# Utils function"
   ]
  },
  {
   "cell_type": "code",
   "execution_count": 213,
   "id": "c3752cd7",
   "metadata": {},
   "outputs": [],
   "source": [
    "def transform_list_to_bytes_array(list_bytes):\n",
    "    return ':'.join(list_bytes)"
   ]
  },
  {
   "cell_type": "markdown",
   "id": "9b235a0b",
   "metadata": {},
   "source": [
    "## Deserialise a packet (GameContextRefreshEntityLookMessage)"
   ]
  },
  {
   "cell_type": "code",
   "execution_count": 214,
   "id": "08a247db",
   "metadata": {},
   "outputs": [],
   "source": [
    "packet = \"3c:21:57:42:66:63:73:00:24:a0:00:ff:04:00:00:00:04:01:dc:14:3c:02:ff:ff:f0:03:ff:ff:f0:04:76:64:43:00:01:78:00:01:02:00:02:00:06:50:d1:10:a8:02:e8:17:fb:1b:f3:03:00:07:01:ff:d3:83:02:ff:ff:ff:03:ff:fe:db:04:ff:ff:ff:05:00:00:00:07:00:00:00:08:ff:ff:ff:00:01:8c:01:00:00:2e:d5:0b:42:66:63:73:00:24:a0:00:00:08:00:3c:21:5c:42:4c:01:b1:80:92:80:00:ff:04:00:01:a8:1a:00:04:01:6a:48:00:02:6a:48:00:03:6a:48:00:04:73:60:42:00:01:78:00:02:06:00:a9:01:00:00:00:00:00:00:00:00:02:00:02:00:06:6e:ff:10:2b:e3:02:e2:02:de:05:00:05:01:ff:da:95:02:2d:2d:2d:03:27:4e:5c:04:23:47:51:05:2f:2f:2f:00:01:91:01:00:00:2e:d5:0b:42:4c:01:b1:80:92:80:00:00:08:00:3c:21:3d:42:66:6c:2b:c0:24:a0:00:8a:13:00:00:00:00:00:00:00:01:02:00:02:00:06:1f:85:10:f4:01:92:01:81:0c:9b:08:00:05:01:ea:c0:62:02:f3:e0:a4:03:00:00:00:04:ff:ff:ff:05:ad:8d:39:00:01:5f:00:00:2e:d5:0b:42:66:6c:2b:c0:24:a0:00:00:08:00\""
   ]
  },
  {
   "cell_type": "code",
   "execution_count": 215,
   "id": "4cee6970",
   "metadata": {},
   "outputs": [
    {
     "name": "stdout",
     "output_type": "stream",
     "text": [
      "\u001b[1m Start decompiling the packet 3c:21:57:42:66:63:73:00:24:a0:00:ff:04:00:00:00:04:01:dc:14:3c:02:ff:ff:f0:03:ff:ff:f0:04:76:64:43:00:01:78:00:01:02:00:02:00:06:50:d1:10:a8:02:e8:17:fb:1b:f3:03:00:07:01:ff:d3:83:02:ff:ff:ff:03:ff:fe:db:04:ff:ff:ff:05:00:00:00:07:00:00:00:08:ff:ff:ff:00:01:8c:01:00:00:2e:d5:0b:42:66:63:73:00:24:a0:00:00:08:00:3c:21:5c:42:4c:01:b1:80:92:80:00:ff:04:00:01:a8:1a:00:04:01:6a:48:00:02:6a:48:00:03:6a:48:00:04:73:60:42:00:01:78:00:02:06:00:a9:01:00:00:00:00:00:00:00:00:02:00:02:00:06:6e:ff:10:2b:e3:02:e2:02:de:05:00:05:01:ff:da:95:02:2d:2d:2d:03:27:4e:5c:04:23:47:51:05:2f:2f:2f:00:01:91:01:00:00:2e:d5:0b:42:4c:01:b1:80:92:80:00:00:08:00:3c:21:3d:42:66:6c:2b:c0:24:a0:00:8a:13:00:00:00:00:00:00:00:01:02:00:02:00:06:1f:85:10:f4:01:92:01:81:0c:9b:08:00:05:01:ea:c0:62:02:f3:e0:a4:03:00:00:00:04:ff:ff:ff:05:ad:8d:39:00:01:5f:00:00:2e:d5:0b:42:66:6c:2b:c0:24:a0:00:00:08:00 \u001b[0m\n",
      "***\n",
      "\u001b[1m \u001b[91m Split header and body \u001b[0m\n",
      "The header is 3c:21\n",
      "The body is 57:42:66:63:73:00:24:a0:00:ff:04:00:00:00:04:01:dc:14:3c:02:ff:ff:f0:03:ff:ff:f0:04:76:64:43:00:01:78:00:01:02:00:02:00:06:50:d1:10:a8:02:e8:17:fb:1b:f3:03:00:07:01:ff:d3:83:02:ff:ff:ff:03:ff:fe:db:04:ff:ff:ff:05:00:00:00:07:00:00:00:08:ff:ff:ff:00:01:8c:01:00:00:2e:d5:0b:42:66:63:73:00:24:a0:00:00:08:00:3c:21:5c:42:4c:01:b1:80:92:80:00:ff:04:00:01:a8:1a:00:04:01:6a:48:00:02:6a:48:00:03:6a:48:00:04:73:60:42:00:01:78:00:02:06:00:a9:01:00:00:00:00:00:00:00:00:02:00:02:00:06:6e:ff:10:2b:e3:02:e2:02:de:05:00:05:01:ff:da:95:02:2d:2d:2d:03:27:4e:5c:04:23:47:51:05:2f:2f:2f:00:01:91:01:00:00:2e:d5:0b:42:4c:01:b1:80:92:80:00:00:08:00:3c:21:3d:42:66:6c:2b:c0:24:a0:00:8a:13:00:00:00:00:00:00:00:01:02:00:02:00:06:1f:85:10:f4:01:92:01:81:0c:9b:08:00:05:01:ea:c0:62:02:f3:e0:a4:03:00:00:00:04:ff:ff:ff:05:ad:8d:39:00:01:5f:00:00:2e:d5:0b:42:66:6c:2b:c0:24:a0:00:00:08:00\n",
      "***\n",
      "\u001b[1m \u001b[91m Convert header in bin \u001b[0m\n",
      "Converted byte in 3c21\n",
      "Header in binary is 0011110000100001\n",
      "***\n",
      "\u001b[1m \u001b[91m Extract the id and the message size's size in binary \u001b[0m\n",
      "The id in binary is 00111100001000\n",
      "The message size's size in binary is 01\n",
      "***\n",
      "\u001b[1m \u001b[91m Convert the id and the message size's size from binary to int \u001b[0m\n",
      "The id is 3848 which corresponds to the \u001b[1m GameContextRefreshEntityLookMessage \u001b[0m action \n",
      "The message size's is onto 1 byte(s)\n",
      "***\n",
      "\u001b[1m \u001b[91m Break the body into the size of the message and the packet's data \u001b[0m\n",
      "The message occupies 87 bytes\n",
      "The packet data is 42:66:63:73:00:24:a0:00:ff:04:00:00:00:04:01:dc:14:3c:02:ff:ff:f0:03:ff:ff:f0:04:76:64:43:00:01:78:00:01:02:00:02:00:06:50:d1:10:a8:02:e8:17:fb:1b:f3:03:00:07:01:ff:d3:83:02:ff:ff:ff:03:ff:fe:db:04:ff:ff:ff:05:00:00:00:07:00:00:00:08:ff:ff:ff:00:01:8c:01:00:00:2e:d5:0b:42:66:63:73:00:24:a0:00:00:08:00:3c:21:5c:42:4c:01:b1:80:92:80:00:ff:04:00:01:a8:1a:00:04:01:6a:48:00:02:6a:48:00:03:6a:48:00:04:73:60:42:00:01:78:00:02:06:00:a9:01:00:00:00:00:00:00:00:00:02:00:02:00:06:6e:ff:10:2b:e3:02:e2:02:de:05:00:05:01:ff:da:95:02:2d:2d:2d:03:27:4e:5c:04:23:47:51:05:2f:2f:2f:00:01:91:01:00:00:2e:d5:0b:42:4c:01:b1:80:92:80:00:00:08:00:3c:21:3d:42:66:6c:2b:c0:24:a0:00:8a:13:00:00:00:00:00:00:00:01:02:00:02:00:06:1f:85:10:f4:01:92:01:81:0c:9b:08:00:05:01:ea:c0:62:02:f3:e0:a4:03:00:00:00:04:ff:ff:ff:05:ad:8d:39:00:01:5f:00:00:2e:d5:0b:42:66:6c:2b:c0:24:a0:00:00:08:00\n"
     ]
    }
   ],
   "source": [
    "id_, packet_data = main(packet)\n",
    "bytes_list = packet_data.split(':')"
   ]
  },
  {
   "cell_type": "code",
   "execution_count": 216,
   "id": "af25569a",
   "metadata": {},
   "outputs": [
    {
     "data": {
      "text/plain": [
       "'42:66:63:73:00:24:a0:00:ff:04:00:00:00:04:01:dc:14:3c:02:ff:ff:f0:03:ff:ff:f0:04:76:64:43:00:01:78:00:01:02:00:02:00:06:50:d1:10:a8:02:e8:17:fb:1b:f3:03:00:07:01:ff:d3:83:02:ff:ff:ff:03:ff:fe:db:04:ff:ff:ff:05:00:00:00:07:00:00:00:08:ff:ff:ff:00:01:8c:01:00:00:2e:d5:0b:42:66:63:73:00:24:a0:00:00:08:00:3c:21:5c:42:4c:01:b1:80:92:80:00:ff:04:00:01:a8:1a:00:04:01:6a:48:00:02:6a:48:00:03:6a:48:00:04:73:60:42:00:01:78:00:02:06:00:a9:01:00:00:00:00:00:00:00:00:02:00:02:00:06:6e:ff:10:2b:e3:02:e2:02:de:05:00:05:01:ff:da:95:02:2d:2d:2d:03:27:4e:5c:04:23:47:51:05:2f:2f:2f:00:01:91:01:00:00:2e:d5:0b:42:4c:01:b1:80:92:80:00:00:08:00:3c:21:3d:42:66:6c:2b:c0:24:a0:00:8a:13:00:00:00:00:00:00:00:01:02:00:02:00:06:1f:85:10:f4:01:92:01:81:0c:9b:08:00:05:01:ea:c0:62:02:f3:e0:a4:03:00:00:00:04:ff:ff:ff:05:ad:8d:39:00:01:5f:00:00:2e:d5:0b:42:66:6c:2b:c0:24:a0:00:00:08:00'"
      ]
     },
     "execution_count": 216,
     "metadata": {},
     "output_type": "execute_result"
    }
   ],
   "source": [
    "transform_list_to_bytes_array(bytes_list)"
   ]
  },
  {
   "cell_type": "markdown",
   "id": "3bc825ec",
   "metadata": {},
   "source": [
    "## **general deserialisation function**"
   ]
  },
  {
   "cell_type": "markdown",
   "id": "208c52c1",
   "metadata": {},
   "source": [
    "      public function deserializeAs_GameContextRefreshEntityLookMessage(input:ICustomDataInput) : void\n",
    "      {\n",
    "         this._idFunc(input);\n",
    "         this.look = new EntityLook();\n",
    "         this.look.deserialize(input);\n",
    "      }"
   ]
  },
  {
   "cell_type": "markdown",
   "id": "c4630036",
   "metadata": {},
   "source": [
    "1) **_idFunc**"
   ]
  },
  {
   "cell_type": "markdown",
   "id": "00dd46b4",
   "metadata": {},
   "source": [
    "      private function _idFunc(input:ICustomDataInput) : void\n",
    "      {\n",
    "         this.id = input.readDouble();\n",
    "         if(this.id < -9007199254740992 || this.id > 9007199254740992)\n",
    "         {\n",
    "            throw new Error(\"Forbidden value (\" + this.id + \") on element of GameContextRefreshEntityLookMessage.id.\");\n",
    "         }\n",
    "      }"
   ]
  },
  {
   "cell_type": "code",
   "execution_count": 217,
   "id": "ee0d730d",
   "metadata": {},
   "outputs": [],
   "source": [
    "bytes_to_read = bytes_list"
   ]
  },
  {
   "cell_type": "code",
   "execution_count": 218,
   "id": "9317b4e2",
   "metadata": {},
   "outputs": [],
   "source": [
    "# equivalent to readdouble\n",
    "def read_double(bytes_):\n",
    "    # reads 64 bits / 8 bytes\n",
    "    \n",
    "    res_hex = \":\".join(bytes_[:8])\n",
    "    res = convert_byte_to_int(res_hex)\n",
    "    \n",
    "    new_bytes_ = bytes_[8:]\n",
    "    \n",
    "    return res, new_bytes_"
   ]
  },
  {
   "cell_type": "code",
   "execution_count": 219,
   "id": "8eceab6c",
   "metadata": {},
   "outputs": [],
   "source": [
    "res, bytes_to_read = read_double(bytes_to_read)"
   ]
  },
  {
   "cell_type": "markdown",
   "id": "297d2114",
   "metadata": {},
   "source": [
    "**this.is will take the value of res which is 4784620999702519808 in our example then execute if statement**"
   ]
  },
  {
   "cell_type": "code",
   "execution_count": 220,
   "id": "829c220d",
   "metadata": {},
   "outputs": [
    {
     "data": {
      "text/plain": [
       "True"
      ]
     },
     "execution_count": 220,
     "metadata": {},
     "output_type": "execute_result"
    }
   ],
   "source": [
    "(res < -9007199254740992) or (res > 9007199254740992)"
   ]
  },
  {
   "cell_type": "code",
   "execution_count": 221,
   "id": "8c48f2fc",
   "metadata": {},
   "outputs": [
    {
     "data": {
      "text/plain": [
       "'42:66:63:73:00:24:a0:00:ff:04:00:00:00:04:01:dc:14:3c:02:ff:ff:f0:03:ff:ff:f0:04:76:64:43:00:01:78:00:01:02:00:02:00:06:50:d1:10:a8:02:e8:17:fb:1b:f3:03:00:07:01:ff:d3:83:02:ff:ff:ff:03:ff:fe:db:04:ff:ff:ff:05:00:00:00:07:00:00:00:08:ff:ff:ff:00:01:8c:01:00:00:2e:d5:0b:42:66:63:73:00:24:a0:00:00:08:00:3c:21:5c:42:4c:01:b1:80:92:80:00:ff:04:00:01:a8:1a:00:04:01:6a:48:00:02:6a:48:00:03:6a:48:00:04:73:60:42:00:01:78:00:02:06:00:a9:01:00:00:00:00:00:00:00:00:02:00:02:00:06:6e:ff:10:2b:e3:02:e2:02:de:05:00:05:01:ff:da:95:02:2d:2d:2d:03:27:4e:5c:04:23:47:51:05:2f:2f:2f:00:01:91:01:00:00:2e:d5:0b:42:4c:01:b1:80:92:80:00:00:08:00:3c:21:3d:42:66:6c:2b:c0:24:a0:00:8a:13:00:00:00:00:00:00:00:01:02:00:02:00:06:1f:85:10:f4:01:92:01:81:0c:9b:08:00:05:01:ea:c0:62:02:f3:e0:a4:03:00:00:00:04:ff:ff:ff:05:ad:8d:39:00:01:5f:00:00:2e:d5:0b:42:66:6c:2b:c0:24:a0:00:00:08:00'"
      ]
     },
     "execution_count": 221,
     "metadata": {},
     "output_type": "execute_result"
    }
   ],
   "source": [
    "transform_list_to_bytes_array(bytes_list)"
   ]
  },
  {
   "cell_type": "code",
   "execution_count": 222,
   "id": "3c4c5bcf",
   "metadata": {},
   "outputs": [
    {
     "data": {
      "text/plain": [
       "'ff:04:00:00:00:04:01:dc:14:3c:02:ff:ff:f0:03:ff:ff:f0:04:76:64:43:00:01:78:00:01:02:00:02:00:06:50:d1:10:a8:02:e8:17:fb:1b:f3:03:00:07:01:ff:d3:83:02:ff:ff:ff:03:ff:fe:db:04:ff:ff:ff:05:00:00:00:07:00:00:00:08:ff:ff:ff:00:01:8c:01:00:00:2e:d5:0b:42:66:63:73:00:24:a0:00:00:08:00:3c:21:5c:42:4c:01:b1:80:92:80:00:ff:04:00:01:a8:1a:00:04:01:6a:48:00:02:6a:48:00:03:6a:48:00:04:73:60:42:00:01:78:00:02:06:00:a9:01:00:00:00:00:00:00:00:00:02:00:02:00:06:6e:ff:10:2b:e3:02:e2:02:de:05:00:05:01:ff:da:95:02:2d:2d:2d:03:27:4e:5c:04:23:47:51:05:2f:2f:2f:00:01:91:01:00:00:2e:d5:0b:42:4c:01:b1:80:92:80:00:00:08:00:3c:21:3d:42:66:6c:2b:c0:24:a0:00:8a:13:00:00:00:00:00:00:00:01:02:00:02:00:06:1f:85:10:f4:01:92:01:81:0c:9b:08:00:05:01:ea:c0:62:02:f3:e0:a4:03:00:00:00:04:ff:ff:ff:05:ad:8d:39:00:01:5f:00:00:2e:d5:0b:42:66:6c:2b:c0:24:a0:00:00:08:00'"
      ]
     },
     "execution_count": 222,
     "metadata": {},
     "output_type": "execute_result"
    }
   ],
   "source": [
    "transform_list_to_bytes_array(bytes_to_read)"
   ]
  },
  {
   "cell_type": "markdown",
   "id": "f2ec01e2",
   "metadata": {},
   "source": [
    "2. **look.deserialize**"
   ]
  },
  {
   "cell_type": "markdown",
   "id": "7b9b5f1f",
   "metadata": {},
   "source": [
    "      public function deserializeAs_EntityLook(input:ICustomDataInput) : void\n",
    "      {\n",
    "         var _val2:uint = 0;\n",
    "         var _val3:int = 0;\n",
    "         var _val4:int = 0;\n",
    "         var _item5:SubEntity = null;\n",
    "         this._bonesIdFunc(input);\n",
    "         var _skinsLen:uint = input.readUnsignedShort();\n",
    "         for(var _i2:uint = 0; _i2 < _skinsLen; _i2++)\n",
    "         {\n",
    "            _val2 = input.readVarUhShort();\n",
    "            if(_val2 < 0)\n",
    "            {\n",
    "               throw new Error(\"Forbidden value (\" + _val2 + \") on elements of skins.\");\n",
    "            }\n",
    "            this.skins.push(_val2);\n",
    "         }\n",
    "         var _indexedColorsLen:uint = input.readUnsignedShort();\n",
    "         for(var _i3:uint = 0; _i3 < _indexedColorsLen; _i3++)\n",
    "         {\n",
    "            _val3 = input.readInt();\n",
    "            this.indexedColors.push(_val3);\n",
    "         }\n",
    "         var _scalesLen:uint = input.readUnsignedShort();\n",
    "         for(var _i4:uint = 0; _i4 < _scalesLen; _i4++)\n",
    "         {\n",
    "            _val4 = input.readVarShort();\n",
    "            this.scales.push(_val4);\n",
    "         }\n",
    "         var _subentitiesLen:uint = input.readUnsignedShort();\n",
    "         for(var _i5:uint = 0; _i5 < _subentitiesLen; _i5++)\n",
    "         {\n",
    "            _item5 = new SubEntity();\n",
    "            _item5.deserialize(input);\n",
    "            this.subentities.push(_item5);\n",
    "         }\n",
    "      }"
   ]
  },
  {
   "cell_type": "markdown",
   "id": "331905fc",
   "metadata": {},
   "source": [
    "*_bonesIdFunc*"
   ]
  },
  {
   "cell_type": "markdown",
   "id": "f65d016b",
   "metadata": {},
   "source": [
    "      private function _bonesIdFunc(input:ICustomDataInput) : void\n",
    "      {\n",
    "         this.bonesId = input.readVarUhShort();\n",
    "         if(this.bonesId < 0)\n",
    "         {\n",
    "            throw new Error(\"Forbidden value (\" + this.bonesId + \") on element of EntityLook.bonesId.\");\n",
    "         }\n",
    "      }"
   ]
  },
  {
   "cell_type": "markdown",
   "id": "e2d1a6b0",
   "metadata": {},
   "source": [
    "\n",
    "readVarUhShort is a customised function from ICustomDataInput which reads the next short and return an uint. Since the uint data type uses 4 bytes to represent an unsigned integer value, then the function should read the next 4 bytes, or next 32 bits (Each byte consists of 8 bits)"
   ]
  },
  {
   "cell_type": "code",
   "execution_count": 223,
   "id": "fd5217ef",
   "metadata": {},
   "outputs": [],
   "source": [
    "def read_var_uh_short(bytes_):\n",
    "    # read 4 bytes (32 bits)\n",
    "    \n",
    "    res_hex = \":\".join(bytes_[:4])\n",
    "    res = convert_byte_to_int(res_hex)\n",
    "    \n",
    "    new_bytes_ = bytes_[4:]\n",
    "    \n",
    "    return res, new_bytes_"
   ]
  },
  {
   "cell_type": "code",
   "execution_count": 224,
   "id": "e7727b37",
   "metadata": {},
   "outputs": [],
   "source": [
    "res, bytes_to_read = read_var_uh_short(bytes_to_read)"
   ]
  },
  {
   "cell_type": "code",
   "execution_count": 225,
   "id": "f239729f",
   "metadata": {},
   "outputs": [
    {
     "data": {
      "text/plain": [
       "4278452224"
      ]
     },
     "execution_count": 225,
     "metadata": {},
     "output_type": "execute_result"
    }
   ],
   "source": [
    "res"
   ]
  },
  {
   "cell_type": "markdown",
   "id": "cfc20d9e",
   "metadata": {},
   "source": [
    "**this.bonesId will take the value of res (4278452224 in the example) then the code checks if the value is negative and raises an error if so**"
   ]
  },
  {
   "cell_type": "code",
   "execution_count": 226,
   "id": "b5878edb",
   "metadata": {},
   "outputs": [
    {
     "data": {
      "text/plain": [
       "'00:04:01:dc:14:3c:02:ff:ff:f0:03:ff:ff:f0:04:76:64:43:00:01:78:00:01:02:00:02:00:06:50:d1:10:a8:02:e8:17:fb:1b:f3:03:00:07:01:ff:d3:83:02:ff:ff:ff:03:ff:fe:db:04:ff:ff:ff:05:00:00:00:07:00:00:00:08:ff:ff:ff:00:01:8c:01:00:00:2e:d5:0b:42:66:63:73:00:24:a0:00:00:08:00:3c:21:5c:42:4c:01:b1:80:92:80:00:ff:04:00:01:a8:1a:00:04:01:6a:48:00:02:6a:48:00:03:6a:48:00:04:73:60:42:00:01:78:00:02:06:00:a9:01:00:00:00:00:00:00:00:00:02:00:02:00:06:6e:ff:10:2b:e3:02:e2:02:de:05:00:05:01:ff:da:95:02:2d:2d:2d:03:27:4e:5c:04:23:47:51:05:2f:2f:2f:00:01:91:01:00:00:2e:d5:0b:42:4c:01:b1:80:92:80:00:00:08:00:3c:21:3d:42:66:6c:2b:c0:24:a0:00:8a:13:00:00:00:00:00:00:00:01:02:00:02:00:06:1f:85:10:f4:01:92:01:81:0c:9b:08:00:05:01:ea:c0:62:02:f3:e0:a4:03:00:00:00:04:ff:ff:ff:05:ad:8d:39:00:01:5f:00:00:2e:d5:0b:42:66:6c:2b:c0:24:a0:00:00:08:00'"
      ]
     },
     "execution_count": 226,
     "metadata": {},
     "output_type": "execute_result"
    }
   ],
   "source": [
    "transform_list_to_bytes_array(bytes_to_read)"
   ]
  },
  {
   "cell_type": "markdown",
   "id": "e33900fa",
   "metadata": {},
   "source": [
    "         var _skinsLen:uint = input.readUnsignedShort();\n",
    "         for(var _i2:uint = 0; _i2 < _skinsLen; _i2++)\n",
    "         {\n",
    "            _val2 = input.readVarUhShort();\n",
    "            if(_val2 < 0)\n",
    "            {\n",
    "               throw new Error(\"Forbidden value (\" + _val2 + \") on elements of skins.\");\n",
    "            }\n",
    "            this.skins.push(_val2);\n",
    "         }"
   ]
  },
  {
   "cell_type": "code",
   "execution_count": 227,
   "id": "bcfe5b76",
   "metadata": {},
   "outputs": [],
   "source": [
    "def read_unsigned_short(bytes_):\n",
    "    # 16-bits or 2 bytes\n",
    "    res_hex = \":\".join(bytes_[:2])\n",
    "    res = convert_byte_to_int(res_hex)\n",
    "\n",
    "    new_bytes_ = bytes_[2:]\n",
    "\n",
    "    return res, new_bytes_"
   ]
  },
  {
   "cell_type": "code",
   "execution_count": 228,
   "id": "834e26d5",
   "metadata": {},
   "outputs": [],
   "source": [
    "skins_len, bytes_to_read = read_unsigned_short(bytes_to_read)"
   ]
  },
  {
   "cell_type": "code",
   "execution_count": 229,
   "id": "3d021494",
   "metadata": {},
   "outputs": [
    {
     "data": {
      "text/plain": [
       "'01:dc:14:3c:02:ff:ff:f0:03:ff:ff:f0:04:76:64:43:00:01:78:00:01:02:00:02:00:06:50:d1:10:a8:02:e8:17:fb:1b:f3:03:00:07:01:ff:d3:83:02:ff:ff:ff:03:ff:fe:db:04:ff:ff:ff:05:00:00:00:07:00:00:00:08:ff:ff:ff:00:01:8c:01:00:00:2e:d5:0b:42:66:63:73:00:24:a0:00:00:08:00:3c:21:5c:42:4c:01:b1:80:92:80:00:ff:04:00:01:a8:1a:00:04:01:6a:48:00:02:6a:48:00:03:6a:48:00:04:73:60:42:00:01:78:00:02:06:00:a9:01:00:00:00:00:00:00:00:00:02:00:02:00:06:6e:ff:10:2b:e3:02:e2:02:de:05:00:05:01:ff:da:95:02:2d:2d:2d:03:27:4e:5c:04:23:47:51:05:2f:2f:2f:00:01:91:01:00:00:2e:d5:0b:42:4c:01:b1:80:92:80:00:00:08:00:3c:21:3d:42:66:6c:2b:c0:24:a0:00:8a:13:00:00:00:00:00:00:00:01:02:00:02:00:06:1f:85:10:f4:01:92:01:81:0c:9b:08:00:05:01:ea:c0:62:02:f3:e0:a4:03:00:00:00:04:ff:ff:ff:05:ad:8d:39:00:01:5f:00:00:2e:d5:0b:42:66:6c:2b:c0:24:a0:00:00:08:00'"
      ]
     },
     "execution_count": 229,
     "metadata": {},
     "output_type": "execute_result"
    }
   ],
   "source": [
    "transform_list_to_bytes_array(bytes_to_read)"
   ]
  },
  {
   "cell_type": "code",
   "execution_count": 166,
   "id": "5ed6688d",
   "metadata": {},
   "outputs": [],
   "source": [
    "# save = bytes_to_read"
   ]
  },
  {
   "cell_type": "code",
   "execution_count": 185,
   "id": "11d8adac",
   "metadata": {},
   "outputs": [],
   "source": [
    "# bytes_to_read = save"
   ]
  },
  {
   "cell_type": "code",
   "execution_count": 230,
   "id": "5e005f79",
   "metadata": {},
   "outputs": [
    {
     "name": "stdout",
     "output_type": "stream",
     "text": [
      "31200316\n",
      "50331632\n",
      "67108848\n",
      "74867779\n"
     ]
    }
   ],
   "source": [
    "skins = []\n",
    "for it in range(0, skins_len):\n",
    "    uh_short, bytes_to_read = read_var_uh_short(bytes_to_read)\n",
    "    print(uh_short)\n",
    "    \n",
    "    if uh_short < 0:\n",
    "        print(\"Error\")\n",
    "        continue\n",
    "    else:\n",
    "        skins.append(uh_short) # this.skins.push(_val2)"
   ]
  },
  {
   "cell_type": "code",
   "execution_count": 231,
   "id": "e43e39fd",
   "metadata": {},
   "outputs": [
    {
     "data": {
      "text/plain": [
       "'00:01:78:00:01:02:00:02:00:06:50:d1:10:a8:02:e8:17:fb:1b:f3:03:00:07:01:ff:d3:83:02:ff:ff:ff:03:ff:fe:db:04:ff:ff:ff:05:00:00:00:07:00:00:00:08:ff:ff:ff:00:01:8c:01:00:00:2e:d5:0b:42:66:63:73:00:24:a0:00:00:08:00:3c:21:5c:42:4c:01:b1:80:92:80:00:ff:04:00:01:a8:1a:00:04:01:6a:48:00:02:6a:48:00:03:6a:48:00:04:73:60:42:00:01:78:00:02:06:00:a9:01:00:00:00:00:00:00:00:00:02:00:02:00:06:6e:ff:10:2b:e3:02:e2:02:de:05:00:05:01:ff:da:95:02:2d:2d:2d:03:27:4e:5c:04:23:47:51:05:2f:2f:2f:00:01:91:01:00:00:2e:d5:0b:42:4c:01:b1:80:92:80:00:00:08:00:3c:21:3d:42:66:6c:2b:c0:24:a0:00:8a:13:00:00:00:00:00:00:00:01:02:00:02:00:06:1f:85:10:f4:01:92:01:81:0c:9b:08:00:05:01:ea:c0:62:02:f3:e0:a4:03:00:00:00:04:ff:ff:ff:05:ad:8d:39:00:01:5f:00:00:2e:d5:0b:42:66:6c:2b:c0:24:a0:00:00:08:00'"
      ]
     },
     "execution_count": 231,
     "metadata": {},
     "output_type": "execute_result"
    }
   ],
   "source": [
    "transform_list_to_bytes_array(bytes_to_read)"
   ]
  },
  {
   "cell_type": "markdown",
   "id": "a1968775",
   "metadata": {},
   "source": [
    "         var _indexedColorsLen:uint = input.readUnsignedShort();\n",
    "         for(var _i3:uint = 0; _i3 < _indexedColorsLen; _i3++)\n",
    "         {\n",
    "            _val3 = input.readInt();\n",
    "            this.indexedColors.push(_val3);\n",
    "         }"
   ]
  },
  {
   "cell_type": "code",
   "execution_count": 232,
   "id": "a9846163",
   "metadata": {},
   "outputs": [],
   "source": [
    "indexed_colors_len, bytes_to_read = read_unsigned_short(bytes_to_read)"
   ]
  },
  {
   "cell_type": "code",
   "execution_count": 233,
   "id": "b0c35b6a",
   "metadata": {},
   "outputs": [
    {
     "data": {
      "text/plain": [
       "'78:00:01:02:00:02:00:06:50:d1:10:a8:02:e8:17:fb:1b:f3:03:00:07:01:ff:d3:83:02:ff:ff:ff:03:ff:fe:db:04:ff:ff:ff:05:00:00:00:07:00:00:00:08:ff:ff:ff:00:01:8c:01:00:00:2e:d5:0b:42:66:63:73:00:24:a0:00:00:08:00:3c:21:5c:42:4c:01:b1:80:92:80:00:ff:04:00:01:a8:1a:00:04:01:6a:48:00:02:6a:48:00:03:6a:48:00:04:73:60:42:00:01:78:00:02:06:00:a9:01:00:00:00:00:00:00:00:00:02:00:02:00:06:6e:ff:10:2b:e3:02:e2:02:de:05:00:05:01:ff:da:95:02:2d:2d:2d:03:27:4e:5c:04:23:47:51:05:2f:2f:2f:00:01:91:01:00:00:2e:d5:0b:42:4c:01:b1:80:92:80:00:00:08:00:3c:21:3d:42:66:6c:2b:c0:24:a0:00:8a:13:00:00:00:00:00:00:00:01:02:00:02:00:06:1f:85:10:f4:01:92:01:81:0c:9b:08:00:05:01:ea:c0:62:02:f3:e0:a4:03:00:00:00:04:ff:ff:ff:05:ad:8d:39:00:01:5f:00:00:2e:d5:0b:42:66:6c:2b:c0:24:a0:00:00:08:00'"
      ]
     },
     "execution_count": 233,
     "metadata": {},
     "output_type": "execute_result"
    }
   ],
   "source": [
    "transform_list_to_bytes_array(bytes_to_read)"
   ]
  },
  {
   "cell_type": "code",
   "execution_count": 234,
   "id": "abc676fe",
   "metadata": {},
   "outputs": [],
   "source": [
    "def read_int(bytes_):\n",
    "    # read 4 bytes (32 bits) and returns an int\n",
    "    \n",
    "    res_hex = \":\".join(bytes_[:4])\n",
    "    res = convert_byte_to_int(res_hex)\n",
    "    \n",
    "    new_bytes_ = bytes_[4:]\n",
    "    \n",
    "    return res, new_bytes_"
   ]
  },
  {
   "cell_type": "code",
   "execution_count": 235,
   "id": "b954694b",
   "metadata": {},
   "outputs": [
    {
     "name": "stdout",
     "output_type": "stream",
     "text": [
      "2013266178\n"
     ]
    }
   ],
   "source": [
    "indexed_colors = []\n",
    "\n",
    "for it in range(0, indexed_colors_len):\n",
    "    int_, bytes_to_read = read_int(bytes_to_read)\n",
    "    print(int_)\n",
    "    \n",
    "    indexed_colors.append(int_)"
   ]
  },
  {
   "cell_type": "code",
   "execution_count": 236,
   "id": "58eb163c",
   "metadata": {
    "scrolled": false
   },
   "outputs": [
    {
     "data": {
      "text/plain": [
       "'00:02:00:06:50:d1:10:a8:02:e8:17:fb:1b:f3:03:00:07:01:ff:d3:83:02:ff:ff:ff:03:ff:fe:db:04:ff:ff:ff:05:00:00:00:07:00:00:00:08:ff:ff:ff:00:01:8c:01:00:00:2e:d5:0b:42:66:63:73:00:24:a0:00:00:08:00:3c:21:5c:42:4c:01:b1:80:92:80:00:ff:04:00:01:a8:1a:00:04:01:6a:48:00:02:6a:48:00:03:6a:48:00:04:73:60:42:00:01:78:00:02:06:00:a9:01:00:00:00:00:00:00:00:00:02:00:02:00:06:6e:ff:10:2b:e3:02:e2:02:de:05:00:05:01:ff:da:95:02:2d:2d:2d:03:27:4e:5c:04:23:47:51:05:2f:2f:2f:00:01:91:01:00:00:2e:d5:0b:42:4c:01:b1:80:92:80:00:00:08:00:3c:21:3d:42:66:6c:2b:c0:24:a0:00:8a:13:00:00:00:00:00:00:00:01:02:00:02:00:06:1f:85:10:f4:01:92:01:81:0c:9b:08:00:05:01:ea:c0:62:02:f3:e0:a4:03:00:00:00:04:ff:ff:ff:05:ad:8d:39:00:01:5f:00:00:2e:d5:0b:42:66:6c:2b:c0:24:a0:00:00:08:00'"
      ]
     },
     "execution_count": 236,
     "metadata": {},
     "output_type": "execute_result"
    }
   ],
   "source": [
    "transform_list_to_bytes_array(bytes_to_read)"
   ]
  },
  {
   "cell_type": "markdown",
   "id": "71712121",
   "metadata": {},
   "source": [
    "         var _scalesLen:uint = input.readUnsignedShort();\n",
    "         for(var _i4:uint = 0; _i4 < _scalesLen; _i4++)\n",
    "         {\n",
    "            _val4 = input.readVarShort();\n",
    "            this.scales.push(_val4);\n",
    "         }"
   ]
  },
  {
   "cell_type": "code",
   "execution_count": 237,
   "id": "a5fe265c",
   "metadata": {},
   "outputs": [],
   "source": [
    "scales_len, bytes_to_read = read_unsigned_short(bytes_to_read)"
   ]
  },
  {
   "cell_type": "code",
   "execution_count": 239,
   "id": "12aef5f0",
   "metadata": {},
   "outputs": [
    {
     "data": {
      "text/plain": [
       "'00:06:50:d1:10:a8:02:e8:17:fb:1b:f3:03:00:07:01:ff:d3:83:02:ff:ff:ff:03:ff:fe:db:04:ff:ff:ff:05:00:00:00:07:00:00:00:08:ff:ff:ff:00:01:8c:01:00:00:2e:d5:0b:42:66:63:73:00:24:a0:00:00:08:00:3c:21:5c:42:4c:01:b1:80:92:80:00:ff:04:00:01:a8:1a:00:04:01:6a:48:00:02:6a:48:00:03:6a:48:00:04:73:60:42:00:01:78:00:02:06:00:a9:01:00:00:00:00:00:00:00:00:02:00:02:00:06:6e:ff:10:2b:e3:02:e2:02:de:05:00:05:01:ff:da:95:02:2d:2d:2d:03:27:4e:5c:04:23:47:51:05:2f:2f:2f:00:01:91:01:00:00:2e:d5:0b:42:4c:01:b1:80:92:80:00:00:08:00:3c:21:3d:42:66:6c:2b:c0:24:a0:00:8a:13:00:00:00:00:00:00:00:01:02:00:02:00:06:1f:85:10:f4:01:92:01:81:0c:9b:08:00:05:01:ea:c0:62:02:f3:e0:a4:03:00:00:00:04:ff:ff:ff:05:ad:8d:39:00:01:5f:00:00:2e:d5:0b:42:66:6c:2b:c0:24:a0:00:00:08:00'"
      ]
     },
     "execution_count": 239,
     "metadata": {},
     "output_type": "execute_result"
    }
   ],
   "source": [
    "transform_list_to_bytes_array(bytes_to_read)"
   ]
  },
  {
   "cell_type": "code",
   "execution_count": 243,
   "id": "0193c843",
   "metadata": {},
   "outputs": [],
   "source": [
    "def read_var_short(bytes_):\n",
    "    # read 2 bytes (16 bits) and returns an int\n",
    "    \n",
    "    res_hex = \":\".join(bytes_[:2])\n",
    "    res = convert_byte_to_int(res_hex)\n",
    "    \n",
    "    new_bytes_ = bytes_[2:]\n",
    "    \n",
    "    return res, new_bytes_"
   ]
  },
  {
   "cell_type": "code",
   "execution_count": 244,
   "id": "f466e1e0",
   "metadata": {},
   "outputs": [
    {
     "name": "stdout",
     "output_type": "stream",
     "text": [
      "6\n",
      "20689\n"
     ]
    }
   ],
   "source": [
    "scales = []\n",
    "for it in range(0, scales_len):\n",
    "    short, bytes_to_read = read_var_short(bytes_to_read)\n",
    "    print(short)\n",
    "    \n",
    "    if short < 0:\n",
    "        print(\"Error\")\n",
    "        continue\n",
    "    else:\n",
    "        scales.append(short) # this.scales.push(_val2)"
   ]
  },
  {
   "cell_type": "code",
   "execution_count": 246,
   "id": "ad5b4956",
   "metadata": {},
   "outputs": [
    {
     "data": {
      "text/plain": [
       "'10:a8:02:e8:17:fb:1b:f3:03:00:07:01:ff:d3:83:02:ff:ff:ff:03:ff:fe:db:04:ff:ff:ff:05:00:00:00:07:00:00:00:08:ff:ff:ff:00:01:8c:01:00:00:2e:d5:0b:42:66:63:73:00:24:a0:00:00:08:00:3c:21:5c:42:4c:01:b1:80:92:80:00:ff:04:00:01:a8:1a:00:04:01:6a:48:00:02:6a:48:00:03:6a:48:00:04:73:60:42:00:01:78:00:02:06:00:a9:01:00:00:00:00:00:00:00:00:02:00:02:00:06:6e:ff:10:2b:e3:02:e2:02:de:05:00:05:01:ff:da:95:02:2d:2d:2d:03:27:4e:5c:04:23:47:51:05:2f:2f:2f:00:01:91:01:00:00:2e:d5:0b:42:4c:01:b1:80:92:80:00:00:08:00:3c:21:3d:42:66:6c:2b:c0:24:a0:00:8a:13:00:00:00:00:00:00:00:01:02:00:02:00:06:1f:85:10:f4:01:92:01:81:0c:9b:08:00:05:01:ea:c0:62:02:f3:e0:a4:03:00:00:00:04:ff:ff:ff:05:ad:8d:39:00:01:5f:00:00:2e:d5:0b:42:66:6c:2b:c0:24:a0:00:00:08:00'"
      ]
     },
     "execution_count": 246,
     "metadata": {},
     "output_type": "execute_result"
    }
   ],
   "source": [
    "transform_list_to_bytes_array(bytes_to_read)"
   ]
  },
  {
   "cell_type": "code",
   "execution_count": 251,
   "id": "728c6304",
   "metadata": {},
   "outputs": [
    {
     "data": {
      "text/plain": [
       "26"
      ]
     },
     "execution_count": 251,
     "metadata": {},
     "output_type": "execute_result"
    }
   ],
   "source": [
    "test = \"ff:ff:ff:05:ad:8d:39:00:01:5f:00:00:2e:d5:0b:42:66:6c:2b:c0:24:a0:00:00:08:00\"\n",
    "len(test.split(\":\"))"
   ]
  },
  {
   "cell_type": "markdown",
   "id": "28202842",
   "metadata": {},
   "source": [
    "         var _subentitiesLen:uint = input.readUnsignedShort();\n",
    "         for(var _i5:uint = 0; _i5 < _subentitiesLen; _i5++)\n",
    "         {\n",
    "            _item5 = new SubEntity();\n",
    "            _item5.deserialize(input);\n",
    "            this.subentities.push(_item5);\n",
    "         }"
   ]
  },
  {
   "cell_type": "code",
   "execution_count": 247,
   "id": "549c117a",
   "metadata": {},
   "outputs": [],
   "source": [
    "_subentitiesLen, bytes_to_read = read_unsigned_short(bytes_to_read)"
   ]
  },
  {
   "cell_type": "code",
   "execution_count": 248,
   "id": "384d08e5",
   "metadata": {},
   "outputs": [
    {
     "data": {
      "text/plain": [
       "'02:e8:17:fb:1b:f3:03:00:07:01:ff:d3:83:02:ff:ff:ff:03:ff:fe:db:04:ff:ff:ff:05:00:00:00:07:00:00:00:08:ff:ff:ff:00:01:8c:01:00:00:2e:d5:0b:42:66:63:73:00:24:a0:00:00:08:00:3c:21:5c:42:4c:01:b1:80:92:80:00:ff:04:00:01:a8:1a:00:04:01:6a:48:00:02:6a:48:00:03:6a:48:00:04:73:60:42:00:01:78:00:02:06:00:a9:01:00:00:00:00:00:00:00:00:02:00:02:00:06:6e:ff:10:2b:e3:02:e2:02:de:05:00:05:01:ff:da:95:02:2d:2d:2d:03:27:4e:5c:04:23:47:51:05:2f:2f:2f:00:01:91:01:00:00:2e:d5:0b:42:4c:01:b1:80:92:80:00:00:08:00:3c:21:3d:42:66:6c:2b:c0:24:a0:00:8a:13:00:00:00:00:00:00:00:01:02:00:02:00:06:1f:85:10:f4:01:92:01:81:0c:9b:08:00:05:01:ea:c0:62:02:f3:e0:a4:03:00:00:00:04:ff:ff:ff:05:ad:8d:39:00:01:5f:00:00:2e:d5:0b:42:66:6c:2b:c0:24:a0:00:00:08:00'"
      ]
     },
     "execution_count": 248,
     "metadata": {},
     "output_type": "execute_result"
    }
   ],
   "source": [
    "transform_list_to_bytes_array(bytes_to_read)"
   ]
  },
  {
   "cell_type": "code",
   "execution_count": 249,
   "id": "d6c7823c",
   "metadata": {},
   "outputs": [
    {
     "data": {
      "text/plain": [
       "4264"
      ]
     },
     "execution_count": 249,
     "metadata": {},
     "output_type": "execute_result"
    }
   ],
   "source": [
    "_subentitiesLen"
   ]
  },
  {
   "cell_type": "code",
   "execution_count": null,
   "id": "825c1ebc",
   "metadata": {},
   "outputs": [],
   "source": []
  }
 ],
 "metadata": {
  "kernelspec": {
   "display_name": "Python 3 (ipykernel)",
   "language": "python",
   "name": "python3"
  },
  "language_info": {
   "codemirror_mode": {
    "name": "ipython",
    "version": 3
   },
   "file_extension": ".py",
   "mimetype": "text/x-python",
   "name": "python",
   "nbconvert_exporter": "python",
   "pygments_lexer": "ipython3",
   "version": "3.9.6"
  }
 },
 "nbformat": 4,
 "nbformat_minor": 5
}
